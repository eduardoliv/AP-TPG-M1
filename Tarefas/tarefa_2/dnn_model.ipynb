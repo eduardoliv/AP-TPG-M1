{
  "cells": [
    {
      "cell_type": "markdown",
      "id": "e117c95a",
      "metadata": {},
      "source": [
        "# DNN Model Notebook"
      ]
    },
    {
      "cell_type": "markdown",
      "id": "5f7f3362",
      "metadata": {},
      "source": [
        "```md\n",
        "@authors: miguelrocha and Grupo 03\n",
        "```"
      ]
    },
    {
      "cell_type": "code",
      "execution_count": 1,
      "id": "00553163",
      "metadata": {},
      "outputs": [],
      "source": [
        "# Notebook Imports\n",
        "import numpy as np\n",
        "\n",
        "from models.dnn_model import NeuralNetwork, hyperparameter_optimization\n",
        "from helpers.dataset import Dataset\n",
        "from helpers.enums import ModelRunMode\n",
        "from helpers.layers import DenseLayer\n",
        "from helpers.activation import ReLUActivation, SigmoidActivation\n",
        "from helpers.losses import BinaryCrossEntropy\n",
        "from helpers.optimizer import Optimizer\n",
        "from helpers.metrics import accuracy, confusion_matrix, balanced_accuracy, precision_recall_f1\n",
        "from helpers.enums import ModelType\n",
        "from helpers.model import save_dnn_model"
      ]
    },
    {
      "cell_type": "code",
      "execution_count": 2,
      "id": "fc6f6268",
      "metadata": {},
      "outputs": [],
      "source": [
        "# Model run mode\n",
        "# Options: \n",
        "#   ModelRunMode.TRAIN.value            (Train the model)\n",
        "#   ModelRunMode.CLASSIFY.value         (Classify data)\n",
        "mode = ModelRunMode.TRAIN.value\n",
        "# Prefix for saving the model files\n",
        "model_prefix = \"dnn_model_1\""
      ]
    },
    {
      "cell_type": "code",
      "execution_count": 3,
      "id": "d6adb728",
      "metadata": {},
      "outputs": [],
      "source": [
        "# Parameters cell\n",
        "if mode == ModelRunMode.TRAIN.value:\n",
        "    # TRAIN mode: Set parameters for training\n",
        "    input_csv = \"../tarefa_1/clean_input_datasets/gpt_vs_human_data_set_inputs.csv\"     # CSV file with training inputs (ID, Text)\n",
        "    output_csv = \"../tarefa_1/clean_output_datasets/gpt_vs_human_data_set_outputs.csv\"  # CSV file with training outputs (ID, Label)\n",
        "    test_size = 0.3                                                                     # Proportion of the dataset to use as test data\n",
        "    validation_size = 0.2                                                               # Proportion of the dataset reserved as validation data (used during hyperparameter tuning)\n",
        "    verbose = True                                                                      # Verbosity level enabler\n",
        "    random_state=42                                                                     # Seed for reproducible dataset splitting\n",
        "    max_vocab_size=1000                                                                 # Maximum vocabulary size (None implies no limit)\n",
        "    min_freq=1                                                                          # Minimum frequency required for a word to be included in the vocabulary\n",
        "elif mode == ModelRunMode.CLASSIFY.value:\n",
        "    # CLASSIFY mode: Set parameters for classification\n",
        "    input_csv = \"../tarefa_2/classify_input_datasets/dataset2_inputs.csv\"               # CSV file with texts for prediction (ID, Text)\n",
        "    output_csv = \"../tarefa_2/classify_output_datasets/dataset2_outputs_dnn_model.csv\"  # CSV file to store prediction result\n",
        "else:\n",
        "    print(\"The selected option is not valid. Options: \\\"train\\\" or \\\"classify\\\"!\")\n",
        "    SystemExit()"
      ]
    },
    {
      "cell_type": "code",
      "execution_count": 4,
      "id": "e633c6f6",
      "metadata": {},
      "outputs": [
        {
          "name": "stdout",
          "output_type": "stream",
          "text": [
            "Train set has 2838 rows and 1000 columns\n",
            "Test set has 1215 rows and 1000 columns\n",
            "\n",
            "Starting hyperparameter tuning...\n"
          ]
        },
        {
          "name": "stderr",
          "output_type": "stream",
          "text": [
            "Hyperparameter Search:   1%|█                                                                                                | 1/96 [00:09<14:20,  9.06s/it]"
          ]
        },
        {
          "name": "stdout",
          "output_type": "stream",
          "text": [
            "Parameters: {'epochs': 100, 'batch_size': 32, 'learning_rate': 0.001, 'momentum': 0.9, 'n_hidden': [64], 'dropout_rate': 0.0}  |  Accuracy: 0.9472\n"
          ]
        },
        {
          "name": "stderr",
          "output_type": "stream",
          "text": [
            "Hyperparameter Search:   2%|██                                                                                               | 2/96 [00:22<18:25, 11.76s/it]"
          ]
        },
        {
          "name": "stdout",
          "output_type": "stream",
          "text": [
            "Parameters: {'epochs': 150, 'batch_size': 32, 'learning_rate': 0.001, 'momentum': 0.8, 'n_hidden': [64], 'dropout_rate': 0.0}  |  Accuracy: 0.9630\n"
          ]
        },
        {
          "name": "stderr",
          "output_type": "stream",
          "text": [
            "Hyperparameter Search:   3%|███                                                                                              | 3/96 [00:31<16:24, 10.59s/it]"
          ]
        },
        {
          "name": "stdout",
          "output_type": "stream",
          "text": [
            "Parameters: {'epochs': 100, 'batch_size': 32, 'learning_rate': 0.001, 'momentum': 0.8, 'n_hidden': [64], 'dropout_rate': 0.0}  |  Accuracy: 0.9472\n"
          ]
        },
        {
          "name": "stderr",
          "output_type": "stream",
          "text": [
            "Hyperparameter Search:   4%|████                                                                                             | 4/96 [00:38<13:50,  9.03s/it]"
          ]
        },
        {
          "name": "stdout",
          "output_type": "stream",
          "text": [
            "Parameters: {'epochs': 100, 'batch_size': 64, 'learning_rate': 0.01, 'momentum': 0.8, 'n_hidden': [64], 'dropout_rate': 0.1}  |  Accuracy: 0.9648\n"
          ]
        },
        {
          "name": "stderr",
          "output_type": "stream",
          "text": [
            "Hyperparameter Search:   5%|█████                                                                                            | 5/96 [01:07<24:25, 16.11s/it]"
          ]
        },
        {
          "name": "stdout",
          "output_type": "stream",
          "text": [
            "Parameters: {'epochs': 150, 'batch_size': 32, 'learning_rate': 0.01, 'momentum': 0.8, 'n_hidden': [128, 64], 'dropout_rate': 0.1}  |  Accuracy: 0.9630\n"
          ]
        },
        {
          "name": "stderr",
          "output_type": "stream",
          "text": [
            "Hyperparameter Search:   6%|██████                                                                                           | 6/96 [01:17<21:04, 14.05s/it]"
          ]
        },
        {
          "name": "stdout",
          "output_type": "stream",
          "text": [
            "Parameters: {'epochs': 100, 'batch_size': 32, 'learning_rate': 0.01, 'momentum': 0.8, 'n_hidden': [64, 32], 'dropout_rate': 0.1}  |  Accuracy: 0.9630\n"
          ]
        },
        {
          "name": "stderr",
          "output_type": "stream",
          "text": [
            "Hyperparameter Search:   7%|███████                                                                                          | 7/96 [01:32<21:12, 14.29s/it]"
          ]
        },
        {
          "name": "stdout",
          "output_type": "stream",
          "text": [
            "Parameters: {'epochs': 150, 'batch_size': 32, 'learning_rate': 0.01, 'momentum': 0.9, 'n_hidden': [64, 32], 'dropout_rate': 0.1}  |  Accuracy: 0.9701\n"
          ]
        },
        {
          "name": "stderr",
          "output_type": "stream",
          "text": [
            "Hyperparameter Search:   8%|████████                                                                                         | 8/96 [01:41<18:32, 12.64s/it]"
          ]
        },
        {
          "name": "stdout",
          "output_type": "stream",
          "text": [
            "Parameters: {'epochs': 100, 'batch_size': 32, 'learning_rate': 0.001, 'momentum': 0.9, 'n_hidden': [64], 'dropout_rate': 0.1}  |  Accuracy: 0.9278\n"
          ]
        },
        {
          "name": "stderr",
          "output_type": "stream",
          "text": [
            "Hyperparameter Search:   9%|█████████                                                                                        | 9/96 [01:51<17:18, 11.94s/it]"
          ]
        },
        {
          "name": "stdout",
          "output_type": "stream",
          "text": [
            "Parameters: {'epochs': 100, 'batch_size': 64, 'learning_rate': 0.001, 'momentum': 0.8, 'n_hidden': [128, 64], 'dropout_rate': 0.0}  |  Accuracy: 0.9331\n"
          ]
        },
        {
          "name": "stderr",
          "output_type": "stream",
          "text": [
            "Hyperparameter Search:  10%|██████████                                                                                      | 10/96 [02:01<16:06, 11.24s/it]"
          ]
        },
        {
          "name": "stdout",
          "output_type": "stream",
          "text": [
            "Parameters: {'epochs': 100, 'batch_size': 32, 'learning_rate': 0.001, 'momentum': 0.9, 'n_hidden': [64, 32], 'dropout_rate': 0.1}  |  Accuracy: 0.9384\n"
          ]
        },
        {
          "name": "stderr",
          "output_type": "stream",
          "text": [
            "Hyperparameter Search:  11%|███████████                                                                                     | 11/96 [02:10<15:00, 10.59s/it]"
          ]
        },
        {
          "name": "stdout",
          "output_type": "stream",
          "text": [
            "Parameters: {'epochs': 150, 'batch_size': 64, 'learning_rate': 0.001, 'momentum': 0.8, 'n_hidden': [64], 'dropout_rate': 0.0}  |  Accuracy: 0.9454\n"
          ]
        },
        {
          "name": "stderr",
          "output_type": "stream",
          "text": [
            "Hyperparameter Search:  12%|████████████                                                                                    | 12/96 [02:19<14:13, 10.16s/it]"
          ]
        },
        {
          "name": "stdout",
          "output_type": "stream",
          "text": [
            "Parameters: {'epochs': 150, 'batch_size': 64, 'learning_rate': 0.001, 'momentum': 0.8, 'n_hidden': [64], 'dropout_rate': 0.0}  |  Accuracy: 0.9507\n"
          ]
        },
        {
          "name": "stderr",
          "output_type": "stream",
          "text": [
            "Hyperparameter Search:  14%|█████████████                                                                                   | 13/96 [02:41<19:11, 13.87s/it]"
          ]
        },
        {
          "name": "stdout",
          "output_type": "stream",
          "text": [
            "Parameters: {'epochs': 150, 'batch_size': 32, 'learning_rate': 0.001, 'momentum': 0.9, 'n_hidden': [128, 64], 'dropout_rate': 0.0}  |  Accuracy: 0.9366\n"
          ]
        },
        {
          "name": "stderr",
          "output_type": "stream",
          "text": [
            "Hyperparameter Search:  15%|██████████████                                                                                  | 14/96 [02:48<15:52, 11.62s/it]"
          ]
        },
        {
          "name": "stdout",
          "output_type": "stream",
          "text": [
            "Parameters: {'epochs': 100, 'batch_size': 64, 'learning_rate': 0.01, 'momentum': 0.9, 'n_hidden': [64, 32], 'dropout_rate': 0.0}  |  Accuracy: 0.9525\n"
          ]
        },
        {
          "name": "stderr",
          "output_type": "stream",
          "text": [
            "Hyperparameter Search:  16%|███████████████                                                                                 | 15/96 [02:58<14:56, 11.07s/it]"
          ]
        },
        {
          "name": "stdout",
          "output_type": "stream",
          "text": [
            "Parameters: {'epochs': 100, 'batch_size': 32, 'learning_rate': 0.001, 'momentum': 0.8, 'n_hidden': [64, 32], 'dropout_rate': 0.1}  |  Accuracy: 0.9472\n"
          ]
        },
        {
          "name": "stderr",
          "output_type": "stream",
          "text": [
            "Hyperparameter Search:  17%|████████████████                                                                                | 16/96 [03:20<19:19, 14.50s/it]"
          ]
        },
        {
          "name": "stdout",
          "output_type": "stream",
          "text": [
            "Parameters: {'epochs': 150, 'batch_size': 32, 'learning_rate': 0.01, 'momentum': 0.9, 'n_hidden': [128, 64], 'dropout_rate': 0.0}  |  Accuracy: 0.9489\n"
          ]
        },
        {
          "name": "stderr",
          "output_type": "stream",
          "text": [
            "Hyperparameter Search:  18%|█████████████████                                                                               | 17/96 [03:29<17:02, 12.94s/it]"
          ]
        },
        {
          "name": "stdout",
          "output_type": "stream",
          "text": [
            "Parameters: {'epochs': 100, 'batch_size': 32, 'learning_rate': 0.01, 'momentum': 0.9, 'n_hidden': [64, 32], 'dropout_rate': 0.0}  |  Accuracy: 0.9577\n"
          ]
        },
        {
          "name": "stderr",
          "output_type": "stream",
          "text": [
            "Hyperparameter Search:  19%|██████████████████                                                                              | 18/96 [03:44<17:38, 13.57s/it]"
          ]
        },
        {
          "name": "stdout",
          "output_type": "stream",
          "text": [
            "Parameters: {'epochs': 150, 'batch_size': 64, 'learning_rate': 0.01, 'momentum': 0.8, 'n_hidden': [128, 64], 'dropout_rate': 0.0}  |  Accuracy: 0.9454\n"
          ]
        },
        {
          "name": "stderr",
          "output_type": "stream",
          "text": [
            "Hyperparameter Search:  20%|███████████████████                                                                             | 19/96 [04:06<20:37, 16.07s/it]"
          ]
        },
        {
          "name": "stdout",
          "output_type": "stream",
          "text": [
            "Parameters: {'epochs': 150, 'batch_size': 32, 'learning_rate': 0.01, 'momentum': 0.8, 'n_hidden': [128, 64], 'dropout_rate': 0.0}  |  Accuracy: 0.9489\n"
          ]
        },
        {
          "name": "stderr",
          "output_type": "stream",
          "text": [
            "Hyperparameter Search:  21%|████████████████████                                                                            | 20/96 [04:23<20:24, 16.11s/it]"
          ]
        },
        {
          "name": "stdout",
          "output_type": "stream",
          "text": [
            "Parameters: {'epochs': 150, 'batch_size': 64, 'learning_rate': 0.001, 'momentum': 0.8, 'n_hidden': [128, 64], 'dropout_rate': 0.1}  |  Accuracy: 0.9401\n"
          ]
        },
        {
          "name": "stderr",
          "output_type": "stream",
          "text": [
            "Hyperparameter Search:  22%|█████████████████████                                                                           | 21/96 [04:33<17:50, 14.27s/it]"
          ]
        },
        {
          "name": "stdout",
          "output_type": "stream",
          "text": [
            "Parameters: {'epochs': 100, 'batch_size': 32, 'learning_rate': 0.01, 'momentum': 0.8, 'n_hidden': [64, 32], 'dropout_rate': 0.1}  |  Accuracy: 0.9577\n"
          ]
        },
        {
          "name": "stderr",
          "output_type": "stream",
          "text": [
            "Hyperparameter Search:  23%|██████████████████████                                                                          | 22/96 [04:39<14:52, 12.07s/it]"
          ]
        },
        {
          "name": "stdout",
          "output_type": "stream",
          "text": [
            "Parameters: {'epochs': 100, 'batch_size': 64, 'learning_rate': 0.01, 'momentum': 0.8, 'n_hidden': [64, 32], 'dropout_rate': 0.1}  |  Accuracy: 0.9595\n"
          ]
        },
        {
          "name": "stderr",
          "output_type": "stream",
          "text": [
            "Hyperparameter Search:  24%|███████████████████████                                                                         | 23/96 [04:54<15:30, 12.75s/it]"
          ]
        },
        {
          "name": "stdout",
          "output_type": "stream",
          "text": [
            "Parameters: {'epochs': 150, 'batch_size': 32, 'learning_rate': 0.001, 'momentum': 0.9, 'n_hidden': [64, 32], 'dropout_rate': 0.1}  |  Accuracy: 0.9577\n"
          ]
        },
        {
          "name": "stderr",
          "output_type": "stream",
          "text": [
            "Hyperparameter Search:  25%|████████████████████████                                                                        | 24/96 [05:04<14:13, 11.86s/it]"
          ]
        },
        {
          "name": "stdout",
          "output_type": "stream",
          "text": [
            "Parameters: {'epochs': 100, 'batch_size': 32, 'learning_rate': 0.01, 'momentum': 0.9, 'n_hidden': [64, 32], 'dropout_rate': 0.1}  |  Accuracy: 0.9683\n"
          ]
        },
        {
          "name": "stderr",
          "output_type": "stream",
          "text": [
            "Hyperparameter Search:  26%|█████████████████████████                                                                       | 25/96 [05:18<15:03, 12.72s/it]"
          ]
        },
        {
          "name": "stdout",
          "output_type": "stream",
          "text": [
            "Parameters: {'epochs': 100, 'batch_size': 32, 'learning_rate': 0.01, 'momentum': 0.8, 'n_hidden': [128, 64], 'dropout_rate': 0.0}  |  Accuracy: 0.9489\n"
          ]
        },
        {
          "name": "stderr",
          "output_type": "stream",
          "text": [
            "Hyperparameter Search:  27%|██████████████████████████                                                                      | 26/96 [05:28<13:39, 11.70s/it]"
          ]
        },
        {
          "name": "stdout",
          "output_type": "stream",
          "text": [
            "Parameters: {'epochs': 100, 'batch_size': 32, 'learning_rate': 0.001, 'momentum': 0.8, 'n_hidden': [64, 32], 'dropout_rate': 0.0}  |  Accuracy: 0.9489\n"
          ]
        },
        {
          "name": "stderr",
          "output_type": "stream",
          "text": [
            "Hyperparameter Search:  28%|███████████████████████████                                                                     | 27/96 [05:41<14:08, 12.29s/it]"
          ]
        },
        {
          "name": "stdout",
          "output_type": "stream",
          "text": [
            "Parameters: {'epochs': 150, 'batch_size': 32, 'learning_rate': 0.001, 'momentum': 0.9, 'n_hidden': [64], 'dropout_rate': 0.1}  |  Accuracy: 0.9595\n"
          ]
        },
        {
          "name": "stderr",
          "output_type": "stream",
          "text": [
            "Hyperparameter Search:  29%|████████████████████████████                                                                    | 28/96 [05:52<13:20, 11.77s/it]"
          ]
        },
        {
          "name": "stdout",
          "output_type": "stream",
          "text": [
            "Parameters: {'epochs': 100, 'batch_size': 64, 'learning_rate': 0.01, 'momentum': 0.9, 'n_hidden': [128, 64], 'dropout_rate': 0.1}  |  Accuracy: 0.9613\n"
          ]
        },
        {
          "name": "stderr",
          "output_type": "stream",
          "text": [
            "Hyperparameter Search:  30%|█████████████████████████████                                                                   | 29/96 [06:05<13:43, 12.29s/it]"
          ]
        },
        {
          "name": "stdout",
          "output_type": "stream",
          "text": [
            "Parameters: {'epochs': 150, 'batch_size': 32, 'learning_rate': 0.001, 'momentum': 0.9, 'n_hidden': [64], 'dropout_rate': 0.1}  |  Accuracy: 0.9401\n"
          ]
        },
        {
          "name": "stderr",
          "output_type": "stream",
          "text": [
            "Hyperparameter Search:  31%|██████████████████████████████                                                                  | 30/96 [06:21<14:38, 13.32s/it]"
          ]
        },
        {
          "name": "stdout",
          "output_type": "stream",
          "text": [
            "Parameters: {'epochs': 150, 'batch_size': 32, 'learning_rate': 0.01, 'momentum': 0.8, 'n_hidden': [64, 32], 'dropout_rate': 0.0}  |  Accuracy: 0.9560\n"
          ]
        },
        {
          "name": "stderr",
          "output_type": "stream",
          "text": [
            "Hyperparameter Search:  32%|███████████████████████████████                                                                 | 31/96 [06:37<15:08, 13.97s/it]"
          ]
        },
        {
          "name": "stdout",
          "output_type": "stream",
          "text": [
            "Parameters: {'epochs': 150, 'batch_size': 32, 'learning_rate': 0.01, 'momentum': 0.8, 'n_hidden': [64, 32], 'dropout_rate': 0.1}  |  Accuracy: 0.9542\n"
          ]
        },
        {
          "name": "stderr",
          "output_type": "stream",
          "text": [
            "Hyperparameter Search:  33%|████████████████████████████████                                                                | 32/96 [06:51<14:58, 14.05s/it]"
          ]
        },
        {
          "name": "stdout",
          "output_type": "stream",
          "text": [
            "Parameters: {'epochs': 150, 'batch_size': 32, 'learning_rate': 0.01, 'momentum': 0.9, 'n_hidden': [64], 'dropout_rate': 0.1}  |  Accuracy: 0.9683\n"
          ]
        },
        {
          "name": "stderr",
          "output_type": "stream",
          "text": [
            "Hyperparameter Search:  34%|█████████████████████████████████                                                               | 33/96 [07:00<13:04, 12.46s/it]"
          ]
        },
        {
          "name": "stdout",
          "output_type": "stream",
          "text": [
            "Parameters: {'epochs': 100, 'batch_size': 32, 'learning_rate': 0.01, 'momentum': 0.9, 'n_hidden': [64], 'dropout_rate': 0.0}  |  Accuracy: 0.9613\n"
          ]
        },
        {
          "name": "stderr",
          "output_type": "stream",
          "text": [
            "Hyperparameter Search:  35%|██████████████████████████████████                                                              | 34/96 [07:10<12:13, 11.83s/it]"
          ]
        },
        {
          "name": "stdout",
          "output_type": "stream",
          "text": [
            "Parameters: {'epochs': 150, 'batch_size': 64, 'learning_rate': 0.001, 'momentum': 0.8, 'n_hidden': [64, 32], 'dropout_rate': 0.1}  |  Accuracy: 0.9472\n"
          ]
        },
        {
          "name": "stderr",
          "output_type": "stream",
          "text": [
            "Hyperparameter Search:  36%|███████████████████████████████████                                                             | 35/96 [07:20<11:28, 11.29s/it]"
          ]
        },
        {
          "name": "stdout",
          "output_type": "stream",
          "text": [
            "Parameters: {'epochs': 100, 'batch_size': 64, 'learning_rate': 0.01, 'momentum': 0.8, 'n_hidden': [128, 64], 'dropout_rate': 0.0}  |  Accuracy: 0.9595\n"
          ]
        },
        {
          "name": "stderr",
          "output_type": "stream",
          "text": [
            "Hyperparameter Search:  38%|████████████████████████████████████                                                            | 36/96 [07:30<10:48, 10.81s/it]"
          ]
        },
        {
          "name": "stdout",
          "output_type": "stream",
          "text": [
            "Parameters: {'epochs': 150, 'batch_size': 64, 'learning_rate': 0.01, 'momentum': 0.9, 'n_hidden': [64, 32], 'dropout_rate': 0.0}  |  Accuracy: 0.9525\n"
          ]
        },
        {
          "name": "stderr",
          "output_type": "stream",
          "text": [
            "Hyperparameter Search:  39%|█████████████████████████████████████                                                           | 37/96 [07:45<12:07, 12.33s/it]"
          ]
        },
        {
          "name": "stdout",
          "output_type": "stream",
          "text": [
            "Parameters: {'epochs': 150, 'batch_size': 64, 'learning_rate': 0.01, 'momentum': 0.9, 'n_hidden': [128, 64], 'dropout_rate': 0.1}  |  Accuracy: 0.9613\n"
          ]
        },
        {
          "name": "stderr",
          "output_type": "stream",
          "text": [
            "Hyperparameter Search:  40%|██████████████████████████████████████                                                          | 38/96 [07:55<11:06, 11.49s/it]"
          ]
        },
        {
          "name": "stdout",
          "output_type": "stream",
          "text": [
            "Parameters: {'epochs': 150, 'batch_size': 64, 'learning_rate': 0.001, 'momentum': 0.8, 'n_hidden': [64], 'dropout_rate': 0.1}  |  Accuracy: 0.9525\n"
          ]
        },
        {
          "name": "stderr",
          "output_type": "stream",
          "text": [
            "Hyperparameter Search:  41%|███████████████████████████████████████                                                         | 39/96 [08:04<10:11, 10.73s/it]"
          ]
        },
        {
          "name": "stdout",
          "output_type": "stream",
          "text": [
            "Parameters: {'epochs': 100, 'batch_size': 32, 'learning_rate': 0.001, 'momentum': 0.8, 'n_hidden': [64], 'dropout_rate': 0.0}  |  Accuracy: 0.9489\n"
          ]
        },
        {
          "name": "stderr",
          "output_type": "stream",
          "text": [
            "Hyperparameter Search:  42%|████████████████████████████████████████                                                        | 40/96 [08:13<09:35, 10.28s/it]"
          ]
        },
        {
          "name": "stdout",
          "output_type": "stream",
          "text": [
            "Parameters: {'epochs': 100, 'batch_size': 32, 'learning_rate': 0.001, 'momentum': 0.9, 'n_hidden': [64, 32], 'dropout_rate': 0.0}  |  Accuracy: 0.9331\n"
          ]
        },
        {
          "name": "stderr",
          "output_type": "stream",
          "text": [
            "Hyperparameter Search:  43%|█████████████████████████████████████████                                                       | 41/96 [08:27<10:27, 11.40s/it]"
          ]
        },
        {
          "name": "stdout",
          "output_type": "stream",
          "text": [
            "Parameters: {'epochs': 150, 'batch_size': 32, 'learning_rate': 0.01, 'momentum': 0.9, 'n_hidden': [64], 'dropout_rate': 0.1}  |  Accuracy: 0.9736\n"
          ]
        },
        {
          "name": "stderr",
          "output_type": "stream",
          "text": [
            "Hyperparameter Search:  44%|██████████████████████████████████████████                                                      | 42/96 [08:38<10:04, 11.19s/it]"
          ]
        },
        {
          "name": "stdout",
          "output_type": "stream",
          "text": [
            "Parameters: {'epochs': 100, 'batch_size': 64, 'learning_rate': 0.001, 'momentum': 0.9, 'n_hidden': [128, 64], 'dropout_rate': 0.1}  |  Accuracy: 0.9331\n"
          ]
        },
        {
          "name": "stderr",
          "output_type": "stream",
          "text": [
            "Hyperparameter Search:  45%|███████████████████████████████████████████                                                     | 43/96 [09:01<13:01, 14.74s/it]"
          ]
        },
        {
          "name": "stdout",
          "output_type": "stream",
          "text": [
            "Parameters: {'epochs': 150, 'batch_size': 32, 'learning_rate': 0.01, 'momentum': 0.8, 'n_hidden': [128, 64], 'dropout_rate': 0.0}  |  Accuracy: 0.9472\n"
          ]
        },
        {
          "name": "stderr",
          "output_type": "stream",
          "text": [
            "Hyperparameter Search:  46%|████████████████████████████████████████████                                                    | 44/96 [09:12<11:41, 13.49s/it]"
          ]
        },
        {
          "name": "stdout",
          "output_type": "stream",
          "text": [
            "Parameters: {'epochs': 100, 'batch_size': 64, 'learning_rate': 0.01, 'momentum': 0.9, 'n_hidden': [128, 64], 'dropout_rate': 0.1}  |  Accuracy: 0.9630\n"
          ]
        },
        {
          "name": "stderr",
          "output_type": "stream",
          "text": [
            "Hyperparameter Search:  47%|█████████████████████████████████████████████                                                   | 45/96 [09:21<10:30, 12.37s/it]"
          ]
        },
        {
          "name": "stdout",
          "output_type": "stream",
          "text": [
            "Parameters: {'epochs': 100, 'batch_size': 32, 'learning_rate': 0.01, 'momentum': 0.9, 'n_hidden': [64, 32], 'dropout_rate': 0.1}  |  Accuracy: 0.9384\n"
          ]
        },
        {
          "name": "stderr",
          "output_type": "stream",
          "text": [
            "Hyperparameter Search:  48%|██████████████████████████████████████████████                                                  | 46/96 [09:45<13:03, 15.68s/it]"
          ]
        },
        {
          "name": "stdout",
          "output_type": "stream",
          "text": [
            "Parameters: {'epochs': 150, 'batch_size': 32, 'learning_rate': 0.01, 'momentum': 0.8, 'n_hidden': [128, 64], 'dropout_rate': 0.1}  |  Accuracy: 0.9630\n"
          ]
        },
        {
          "name": "stderr",
          "output_type": "stream",
          "text": [
            "Hyperparameter Search:  49%|███████████████████████████████████████████████                                                 | 47/96 [10:01<13:02, 15.98s/it]"
          ]
        },
        {
          "name": "stdout",
          "output_type": "stream",
          "text": [
            "Parameters: {'epochs': 150, 'batch_size': 64, 'learning_rate': 0.001, 'momentum': 0.8, 'n_hidden': [128, 64], 'dropout_rate': 0.1}  |  Accuracy: 0.9630\n"
          ]
        },
        {
          "name": "stderr",
          "output_type": "stream",
          "text": [
            "Hyperparameter Search:  50%|████████████████████████████████████████████████                                                | 48/96 [10:08<10:30, 13.13s/it]"
          ]
        },
        {
          "name": "stdout",
          "output_type": "stream",
          "text": [
            "Parameters: {'epochs': 100, 'batch_size': 64, 'learning_rate': 0.001, 'momentum': 0.8, 'n_hidden': [64], 'dropout_rate': 0.1}  |  Accuracy: 0.9349\n"
          ]
        },
        {
          "name": "stderr",
          "output_type": "stream",
          "text": [
            "Hyperparameter Search:  51%|█████████████████████████████████████████████████                                               | 49/96 [10:31<12:35, 16.07s/it]"
          ]
        },
        {
          "name": "stdout",
          "output_type": "stream",
          "text": [
            "Parameters: {'epochs': 150, 'batch_size': 32, 'learning_rate': 0.01, 'momentum': 0.9, 'n_hidden': [128, 64], 'dropout_rate': 0.1}  |  Accuracy: 0.9613\n"
          ]
        },
        {
          "name": "stderr",
          "output_type": "stream",
          "text": [
            "Hyperparameter Search:  52%|██████████████████████████████████████████████████                                              | 50/96 [10:41<11:04, 14.45s/it]"
          ]
        },
        {
          "name": "stdout",
          "output_type": "stream",
          "text": [
            "Parameters: {'epochs': 100, 'batch_size': 64, 'learning_rate': 0.001, 'momentum': 0.9, 'n_hidden': [128, 64], 'dropout_rate': 0.1}  |  Accuracy: 0.9454\n"
          ]
        },
        {
          "name": "stderr",
          "output_type": "stream",
          "text": [
            "Hyperparameter Search:  53%|███████████████████████████████████████████████████                                             | 51/96 [10:57<10:59, 14.66s/it]"
          ]
        },
        {
          "name": "stdout",
          "output_type": "stream",
          "text": [
            "Parameters: {'epochs': 100, 'batch_size': 32, 'learning_rate': 0.01, 'momentum': 0.8, 'n_hidden': [128, 64], 'dropout_rate': 0.0}  |  Accuracy: 0.9525\n"
          ]
        },
        {
          "name": "stderr",
          "output_type": "stream",
          "text": [
            "Hyperparameter Search:  54%|████████████████████████████████████████████████████                                            | 52/96 [11:07<09:49, 13.40s/it]"
          ]
        },
        {
          "name": "stdout",
          "output_type": "stream",
          "text": [
            "Parameters: {'epochs': 150, 'batch_size': 64, 'learning_rate': 0.01, 'momentum': 0.8, 'n_hidden': [64, 32], 'dropout_rate': 0.1}  |  Accuracy: 0.9683\n"
          ]
        },
        {
          "name": "stderr",
          "output_type": "stream",
          "text": [
            "Hyperparameter Search:  55%|█████████████████████████████████████████████████████                                           | 53/96 [11:18<09:03, 12.63s/it]"
          ]
        },
        {
          "name": "stdout",
          "output_type": "stream",
          "text": [
            "Parameters: {'epochs': 100, 'batch_size': 64, 'learning_rate': 0.01, 'momentum': 0.9, 'n_hidden': [128, 64], 'dropout_rate': 0.1}  |  Accuracy: 0.9630\n"
          ]
        },
        {
          "name": "stderr",
          "output_type": "stream",
          "text": [
            "Hyperparameter Search:  56%|██████████████████████████████████████████████████████                                          | 54/96 [11:27<08:03, 11.51s/it]"
          ]
        },
        {
          "name": "stdout",
          "output_type": "stream",
          "text": [
            "Parameters: {'epochs': 100, 'batch_size': 32, 'learning_rate': 0.001, 'momentum': 0.9, 'n_hidden': [64], 'dropout_rate': 0.0}  |  Accuracy: 0.9401\n"
          ]
        },
        {
          "name": "stderr",
          "output_type": "stream",
          "text": [
            "Hyperparameter Search:  57%|███████████████████████████████████████████████████████                                         | 55/96 [11:33<06:50, 10.00s/it]"
          ]
        },
        {
          "name": "stdout",
          "output_type": "stream",
          "text": [
            "Parameters: {'epochs': 100, 'batch_size': 64, 'learning_rate': 0.01, 'momentum': 0.8, 'n_hidden': [64], 'dropout_rate': 0.1}  |  Accuracy: 0.9648\n"
          ]
        },
        {
          "name": "stderr",
          "output_type": "stream",
          "text": [
            "Hyperparameter Search:  58%|████████████████████████████████████████████████████████                                        | 56/96 [11:44<06:43, 10.09s/it]"
          ]
        },
        {
          "name": "stdout",
          "output_type": "stream",
          "text": [
            "Parameters: {'epochs': 150, 'batch_size': 64, 'learning_rate': 0.01, 'momentum': 0.8, 'n_hidden': [64, 32], 'dropout_rate': 0.1}  |  Accuracy: 0.9665\n"
          ]
        },
        {
          "name": "stderr",
          "output_type": "stream",
          "text": [
            "Hyperparameter Search:  59%|█████████████████████████████████████████████████████████                                       | 57/96 [12:07<09:08, 14.05s/it]"
          ]
        },
        {
          "name": "stdout",
          "output_type": "stream",
          "text": [
            "Parameters: {'epochs': 150, 'batch_size': 32, 'learning_rate': 0.01, 'momentum': 0.8, 'n_hidden': [128, 64], 'dropout_rate': 0.0}  |  Accuracy: 0.9525\n"
          ]
        },
        {
          "name": "stderr",
          "output_type": "stream",
          "text": [
            "Hyperparameter Search:  60%|██████████████████████████████████████████████████████████                                      | 58/96 [12:13<07:23, 11.67s/it]"
          ]
        },
        {
          "name": "stdout",
          "output_type": "stream",
          "text": [
            "Parameters: {'epochs': 100, 'batch_size': 64, 'learning_rate': 0.01, 'momentum': 0.9, 'n_hidden': [64], 'dropout_rate': 0.0}  |  Accuracy: 0.9665\n"
          ]
        },
        {
          "name": "stderr",
          "output_type": "stream",
          "text": [
            "Hyperparameter Search:  61%|███████████████████████████████████████████████████████████                                     | 59/96 [12:27<07:41, 12.48s/it]"
          ]
        },
        {
          "name": "stdout",
          "output_type": "stream",
          "text": [
            "Parameters: {'epochs': 150, 'batch_size': 32, 'learning_rate': 0.01, 'momentum': 0.8, 'n_hidden': [64, 32], 'dropout_rate': 0.0}  |  Accuracy: 0.9542\n"
          ]
        },
        {
          "name": "stderr",
          "output_type": "stream",
          "text": [
            "Hyperparameter Search:  62%|████████████████████████████████████████████████████████████                                    | 60/96 [12:51<09:35, 15.98s/it]"
          ]
        },
        {
          "name": "stdout",
          "output_type": "stream",
          "text": [
            "Parameters: {'epochs': 150, 'batch_size': 32, 'learning_rate': 0.01, 'momentum': 0.8, 'n_hidden': [128, 64], 'dropout_rate': 0.1}  |  Accuracy: 0.9701\n"
          ]
        },
        {
          "name": "stderr",
          "output_type": "stream",
          "text": [
            "Hyperparameter Search:  64%|█████████████████████████████████████████████████████████████                                   | 61/96 [13:01<08:13, 14.10s/it]"
          ]
        },
        {
          "name": "stdout",
          "output_type": "stream",
          "text": [
            "Parameters: {'epochs': 150, 'batch_size': 64, 'learning_rate': 0.01, 'momentum': 0.9, 'n_hidden': [64, 32], 'dropout_rate': 0.0}  |  Accuracy: 0.9560\n"
          ]
        },
        {
          "name": "stderr",
          "output_type": "stream",
          "text": [
            "Hyperparameter Search:  65%|██████████████████████████████████████████████████████████████                                  | 62/96 [13:15<08:00, 14.13s/it]"
          ]
        },
        {
          "name": "stdout",
          "output_type": "stream",
          "text": [
            "Parameters: {'epochs': 150, 'batch_size': 32, 'learning_rate': 0.001, 'momentum': 0.8, 'n_hidden': [64, 32], 'dropout_rate': 0.0}  |  Accuracy: 0.9595\n"
          ]
        },
        {
          "name": "stderr",
          "output_type": "stream",
          "text": [
            "Hyperparameter Search:  66%|███████████████████████████████████████████████████████████████                                 | 63/96 [13:25<07:04, 12.86s/it]"
          ]
        },
        {
          "name": "stdout",
          "output_type": "stream",
          "text": [
            "Parameters: {'epochs': 100, 'batch_size': 32, 'learning_rate': 0.001, 'momentum': 0.9, 'n_hidden': [64, 32], 'dropout_rate': 0.1}  |  Accuracy: 0.9542\n"
          ]
        },
        {
          "name": "stderr",
          "output_type": "stream",
          "text": [
            "Hyperparameter Search:  67%|████████████████████████████████████████████████████████████████                                | 64/96 [13:32<05:53, 11.05s/it]"
          ]
        },
        {
          "name": "stdout",
          "output_type": "stream",
          "text": [
            "Parameters: {'epochs': 100, 'batch_size': 64, 'learning_rate': 0.001, 'momentum': 0.8, 'n_hidden': [64, 32], 'dropout_rate': 0.1}  |  Accuracy: 0.9366\n"
          ]
        },
        {
          "name": "stderr",
          "output_type": "stream",
          "text": [
            "Hyperparameter Search:  68%|█████████████████████████████████████████████████████████████████                               | 65/96 [13:54<07:24, 14.33s/it]"
          ]
        },
        {
          "name": "stdout",
          "output_type": "stream",
          "text": [
            "Parameters: {'epochs': 150, 'batch_size': 32, 'learning_rate': 0.01, 'momentum': 0.9, 'n_hidden': [128, 64], 'dropout_rate': 0.0}  |  Accuracy: 0.9507\n"
          ]
        },
        {
          "name": "stderr",
          "output_type": "stream",
          "text": [
            "Hyperparameter Search:  69%|██████████████████████████████████████████████████████████████████                              | 66/96 [14:04<06:30, 13.01s/it]"
          ]
        },
        {
          "name": "stdout",
          "output_type": "stream",
          "text": [
            "Parameters: {'epochs': 150, 'batch_size': 64, 'learning_rate': 0.01, 'momentum': 0.9, 'n_hidden': [64, 32], 'dropout_rate': 0.0}  |  Accuracy: 0.9718\n"
          ]
        },
        {
          "name": "stderr",
          "output_type": "stream",
          "text": [
            "Hyperparameter Search:  70%|███████████████████████████████████████████████████████████████████                             | 67/96 [14:11<05:20, 11.06s/it]"
          ]
        },
        {
          "name": "stdout",
          "output_type": "stream",
          "text": [
            "Parameters: {'epochs': 100, 'batch_size': 64, 'learning_rate': 0.001, 'momentum': 0.9, 'n_hidden': [64, 32], 'dropout_rate': 0.0}  |  Accuracy: 0.9349\n"
          ]
        },
        {
          "name": "stderr",
          "output_type": "stream",
          "text": [
            "Hyperparameter Search:  71%|████████████████████████████████████████████████████████████████████                            | 68/96 [14:19<04:50, 10.39s/it]"
          ]
        },
        {
          "name": "stdout",
          "output_type": "stream",
          "text": [
            "Parameters: {'epochs': 100, 'batch_size': 32, 'learning_rate': 0.001, 'momentum': 0.8, 'n_hidden': [64], 'dropout_rate': 0.0}  |  Accuracy: 0.9472\n"
          ]
        },
        {
          "name": "stderr",
          "output_type": "stream",
          "text": [
            "Hyperparameter Search:  72%|█████████████████████████████████████████████████████████████████████                           | 69/96 [14:33<05:05, 11.33s/it]"
          ]
        },
        {
          "name": "stdout",
          "output_type": "stream",
          "text": [
            "Parameters: {'epochs': 150, 'batch_size': 32, 'learning_rate': 0.001, 'momentum': 0.9, 'n_hidden': [64], 'dropout_rate': 0.1}  |  Accuracy: 0.9507\n"
          ]
        },
        {
          "name": "stderr",
          "output_type": "stream",
          "text": [
            "Hyperparameter Search:  73%|██████████████████████████████████████████████████████████████████████                          | 70/96 [14:49<05:30, 12.70s/it]"
          ]
        },
        {
          "name": "stdout",
          "output_type": "stream",
          "text": [
            "Parameters: {'epochs': 150, 'batch_size': 64, 'learning_rate': 0.001, 'momentum': 0.8, 'n_hidden': [128, 64], 'dropout_rate': 0.1}  |  Accuracy: 0.9648\n"
          ]
        },
        {
          "name": "stderr",
          "output_type": "stream",
          "text": [
            "Hyperparameter Search:  74%|███████████████████████████████████████████████████████████████████████                         | 71/96 [14:59<04:56, 11.85s/it]"
          ]
        },
        {
          "name": "stdout",
          "output_type": "stream",
          "text": [
            "Parameters: {'epochs': 150, 'batch_size': 64, 'learning_rate': 0.01, 'momentum': 0.8, 'n_hidden': [64, 32], 'dropout_rate': 0.0}  |  Accuracy: 0.9507\n"
          ]
        },
        {
          "name": "stderr",
          "output_type": "stream",
          "text": [
            "Hyperparameter Search:  75%|████████████████████████████████████████████████████████████████████████                        | 72/96 [15:14<05:07, 12.80s/it]"
          ]
        },
        {
          "name": "stdout",
          "output_type": "stream",
          "text": [
            "Parameters: {'epochs': 100, 'batch_size': 32, 'learning_rate': 0.001, 'momentum': 0.9, 'n_hidden': [128, 64], 'dropout_rate': 0.1}  |  Accuracy: 0.9384\n"
          ]
        },
        {
          "name": "stderr",
          "output_type": "stream",
          "text": [
            "Hyperparameter Search:  76%|█████████████████████████████████████████████████████████████████████████                       | 73/96 [15:20<04:10, 10.87s/it]"
          ]
        },
        {
          "name": "stdout",
          "output_type": "stream",
          "text": [
            "Parameters: {'epochs': 100, 'batch_size': 64, 'learning_rate': 0.01, 'momentum': 0.9, 'n_hidden': [64], 'dropout_rate': 0.1}  |  Accuracy: 0.9577\n"
          ]
        },
        {
          "name": "stderr",
          "output_type": "stream",
          "text": [
            "Hyperparameter Search:  77%|██████████████████████████████████████████████████████████████████████████                      | 74/96 [15:29<03:47, 10.36s/it]"
          ]
        },
        {
          "name": "stdout",
          "output_type": "stream",
          "text": [
            "Parameters: {'epochs': 100, 'batch_size': 32, 'learning_rate': 0.001, 'momentum': 0.9, 'n_hidden': [64, 32], 'dropout_rate': 0.0}  |  Accuracy: 0.9437\n"
          ]
        },
        {
          "name": "stderr",
          "output_type": "stream",
          "text": [
            "Hyperparameter Search:  78%|███████████████████████████████████████████████████████████████████████████                     | 75/96 [15:39<03:30, 10.04s/it]"
          ]
        },
        {
          "name": "stdout",
          "output_type": "stream",
          "text": [
            "Parameters: {'epochs': 100, 'batch_size': 32, 'learning_rate': 0.01, 'momentum': 0.9, 'n_hidden': [64, 32], 'dropout_rate': 0.0}  |  Accuracy: 0.9560\n"
          ]
        },
        {
          "name": "stderr",
          "output_type": "stream",
          "text": [
            "Hyperparameter Search:  79%|████████████████████████████████████████████████████████████████████████████                    | 76/96 [15:55<03:59, 11.97s/it]"
          ]
        },
        {
          "name": "stdout",
          "output_type": "stream",
          "text": [
            "Parameters: {'epochs': 150, 'batch_size': 64, 'learning_rate': 0.001, 'momentum': 0.8, 'n_hidden': [128, 64], 'dropout_rate': 0.1}  |  Accuracy: 0.9454\n"
          ]
        },
        {
          "name": "stderr",
          "output_type": "stream",
          "text": [
            "Hyperparameter Search:  80%|█████████████████████████████████████████████████████████████████████████████                   | 77/96 [16:09<04:01, 12.73s/it]"
          ]
        },
        {
          "name": "stdout",
          "output_type": "stream",
          "text": [
            "Parameters: {'epochs': 100, 'batch_size': 32, 'learning_rate': 0.01, 'momentum': 0.9, 'n_hidden': [128, 64], 'dropout_rate': 0.0}  |  Accuracy: 0.9630\n"
          ]
        },
        {
          "name": "stderr",
          "output_type": "stream",
          "text": [
            "Hyperparameter Search:  81%|██████████████████████████████████████████████████████████████████████████████                  | 78/96 [16:26<04:07, 13.74s/it]"
          ]
        },
        {
          "name": "stdout",
          "output_type": "stream",
          "text": [
            "Parameters: {'epochs': 150, 'batch_size': 64, 'learning_rate': 0.01, 'momentum': 0.9, 'n_hidden': [128, 64], 'dropout_rate': 0.1}  |  Accuracy: 0.9507\n"
          ]
        },
        {
          "name": "stderr",
          "output_type": "stream",
          "text": [
            "Hyperparameter Search:  82%|███████████████████████████████████████████████████████████████████████████████                 | 79/96 [16:40<03:56, 13.89s/it]"
          ]
        },
        {
          "name": "stdout",
          "output_type": "stream",
          "text": [
            "Parameters: {'epochs': 150, 'batch_size': 32, 'learning_rate': 0.01, 'momentum': 0.8, 'n_hidden': [64, 32], 'dropout_rate': 0.0}  |  Accuracy: 0.9577\n"
          ]
        },
        {
          "name": "stderr",
          "output_type": "stream",
          "text": [
            "Hyperparameter Search:  83%|████████████████████████████████████████████████████████████████████████████████                | 80/96 [16:47<03:08, 11.77s/it]"
          ]
        },
        {
          "name": "stdout",
          "output_type": "stream",
          "text": [
            "Parameters: {'epochs': 100, 'batch_size': 64, 'learning_rate': 0.001, 'momentum': 0.9, 'n_hidden': [64, 32], 'dropout_rate': 0.1}  |  Accuracy: 0.9472\n"
          ]
        },
        {
          "name": "stderr",
          "output_type": "stream",
          "text": [
            "Hyperparameter Search:  84%|█████████████████████████████████████████████████████████████████████████████████               | 81/96 [16:56<02:47, 11.15s/it]"
          ]
        },
        {
          "name": "stdout",
          "output_type": "stream",
          "text": [
            "Parameters: {'epochs': 150, 'batch_size': 64, 'learning_rate': 0.01, 'momentum': 0.9, 'n_hidden': [64, 32], 'dropout_rate': 0.0}  |  Accuracy: 0.9542\n"
          ]
        },
        {
          "name": "stderr",
          "output_type": "stream",
          "text": [
            "Hyperparameter Search:  85%|██████████████████████████████████████████████████████████████████████████████████              | 82/96 [17:06<02:27, 10.57s/it]"
          ]
        },
        {
          "name": "stdout",
          "output_type": "stream",
          "text": [
            "Parameters: {'epochs': 100, 'batch_size': 32, 'learning_rate': 0.001, 'momentum': 0.8, 'n_hidden': [64], 'dropout_rate': 0.1}  |  Accuracy: 0.9366\n"
          ]
        },
        {
          "name": "stderr",
          "output_type": "stream",
          "text": [
            "Hyperparameter Search:  86%|███████████████████████████████████████████████████████████████████████████████████             | 83/96 [17:16<02:17, 10.60s/it]"
          ]
        },
        {
          "name": "stdout",
          "output_type": "stream",
          "text": [
            "Parameters: {'epochs': 100, 'batch_size': 64, 'learning_rate': 0.01, 'momentum': 0.9, 'n_hidden': [128, 64], 'dropout_rate': 0.1}  |  Accuracy: 0.9665\n"
          ]
        },
        {
          "name": "stderr",
          "output_type": "stream",
          "text": [
            "Hyperparameter Search:  88%|████████████████████████████████████████████████████████████████████████████████████            | 84/96 [17:26<02:02, 10.23s/it]"
          ]
        },
        {
          "name": "stdout",
          "output_type": "stream",
          "text": [
            "Parameters: {'epochs': 100, 'batch_size': 32, 'learning_rate': 0.001, 'momentum': 0.9, 'n_hidden': [64, 32], 'dropout_rate': 0.0}  |  Accuracy: 0.9489\n"
          ]
        },
        {
          "name": "stderr",
          "output_type": "stream",
          "text": [
            "Hyperparameter Search:  89%|█████████████████████████████████████████████████████████████████████████████████████           | 85/96 [17:36<01:52, 10.22s/it]"
          ]
        },
        {
          "name": "stdout",
          "output_type": "stream",
          "text": [
            "Parameters: {'epochs': 150, 'batch_size': 64, 'learning_rate': 0.01, 'momentum': 0.9, 'n_hidden': [64, 32], 'dropout_rate': 0.1}  |  Accuracy: 0.9683\n"
          ]
        },
        {
          "name": "stderr",
          "output_type": "stream",
          "text": [
            "Hyperparameter Search:  90%|██████████████████████████████████████████████████████████████████████████████████████          | 86/96 [17:42<01:31,  9.12s/it]"
          ]
        },
        {
          "name": "stdout",
          "output_type": "stream",
          "text": [
            "Parameters: {'epochs': 100, 'batch_size': 64, 'learning_rate': 0.001, 'momentum': 0.9, 'n_hidden': [64, 32], 'dropout_rate': 0.0}  |  Accuracy: 0.9489\n"
          ]
        },
        {
          "name": "stderr",
          "output_type": "stream",
          "text": [
            "Hyperparameter Search:  91%|███████████████████████████████████████████████████████████████████████████████████████         | 87/96 [17:58<01:40, 11.16s/it]"
          ]
        },
        {
          "name": "stdout",
          "output_type": "stream",
          "text": [
            "Parameters: {'epochs': 150, 'batch_size': 64, 'learning_rate': 0.001, 'momentum': 0.8, 'n_hidden': [128, 64], 'dropout_rate': 0.1}  |  Accuracy: 0.9525\n"
          ]
        },
        {
          "name": "stderr",
          "output_type": "stream",
          "text": [
            "Hyperparameter Search:  92%|████████████████████████████████████████████████████████████████████████████████████████        | 88/96 [18:12<01:35, 11.96s/it]"
          ]
        },
        {
          "name": "stdout",
          "output_type": "stream",
          "text": [
            "Parameters: {'epochs': 150, 'batch_size': 32, 'learning_rate': 0.001, 'momentum': 0.8, 'n_hidden': [64, 32], 'dropout_rate': 0.0}  |  Accuracy: 0.9366\n"
          ]
        },
        {
          "name": "stderr",
          "output_type": "stream",
          "text": [
            "Hyperparameter Search:  93%|█████████████████████████████████████████████████████████████████████████████████████████       | 89/96 [18:22<01:18, 11.20s/it]"
          ]
        },
        {
          "name": "stdout",
          "output_type": "stream",
          "text": [
            "Parameters: {'epochs': 150, 'batch_size': 64, 'learning_rate': 0.01, 'momentum': 0.9, 'n_hidden': [64], 'dropout_rate': 0.1}  |  Accuracy: 0.9736\n"
          ]
        },
        {
          "name": "stderr",
          "output_type": "stream",
          "text": [
            "Hyperparameter Search:  94%|██████████████████████████████████████████████████████████████████████████████████████████      | 90/96 [18:36<01:13, 12.32s/it]"
          ]
        },
        {
          "name": "stdout",
          "output_type": "stream",
          "text": [
            "Parameters: {'epochs': 150, 'batch_size': 32, 'learning_rate': 0.001, 'momentum': 0.8, 'n_hidden': [64, 32], 'dropout_rate': 0.1}  |  Accuracy: 0.9542\n"
          ]
        },
        {
          "name": "stderr",
          "output_type": "stream",
          "text": [
            "Hyperparameter Search:  95%|███████████████████████████████████████████████████████████████████████████████████████████     | 91/96 [18:46<00:58, 11.62s/it]"
          ]
        },
        {
          "name": "stdout",
          "output_type": "stream",
          "text": [
            "Parameters: {'epochs': 100, 'batch_size': 64, 'learning_rate': 0.001, 'momentum': 0.9, 'n_hidden': [128, 64], 'dropout_rate': 0.0}  |  Accuracy: 0.9507\n"
          ]
        },
        {
          "name": "stderr",
          "output_type": "stream",
          "text": [
            "Hyperparameter Search:  96%|████████████████████████████████████████████████████████████████████████████████████████████    | 92/96 [19:01<00:49, 12.43s/it]"
          ]
        },
        {
          "name": "stdout",
          "output_type": "stream",
          "text": [
            "Parameters: {'epochs': 100, 'batch_size': 32, 'learning_rate': 0.001, 'momentum': 0.9, 'n_hidden': [128, 64], 'dropout_rate': 0.0}  |  Accuracy: 0.9278\n"
          ]
        },
        {
          "name": "stderr",
          "output_type": "stream",
          "text": [
            "Hyperparameter Search:  97%|█████████████████████████████████████████████████████████████████████████████████████████████   | 93/96 [19:15<00:39, 13.01s/it]"
          ]
        },
        {
          "name": "stdout",
          "output_type": "stream",
          "text": [
            "Parameters: {'epochs': 100, 'batch_size': 32, 'learning_rate': 0.001, 'momentum': 0.9, 'n_hidden': [128, 64], 'dropout_rate': 0.0}  |  Accuracy: 0.9366\n"
          ]
        },
        {
          "name": "stderr",
          "output_type": "stream",
          "text": [
            "Hyperparameter Search:  98%|██████████████████████████████████████████████████████████████████████████████████████████████  | 94/96 [19:30<00:27, 13.59s/it]"
          ]
        },
        {
          "name": "stdout",
          "output_type": "stream",
          "text": [
            "Parameters: {'epochs': 150, 'batch_size': 32, 'learning_rate': 0.01, 'momentum': 0.9, 'n_hidden': [64, 32], 'dropout_rate': 0.1}  |  Accuracy: 0.9683\n"
          ]
        },
        {
          "name": "stderr",
          "output_type": "stream",
          "text": [
            "Hyperparameter Search:  99%|███████████████████████████████████████████████████████████████████████████████████████████████ | 95/96 [19:39<00:12, 12.33s/it]"
          ]
        },
        {
          "name": "stdout",
          "output_type": "stream",
          "text": [
            "Parameters: {'epochs': 100, 'batch_size': 32, 'learning_rate': 0.01, 'momentum': 0.8, 'n_hidden': [64], 'dropout_rate': 0.1}  |  Accuracy: 0.9718\n"
          ]
        },
        {
          "name": "stderr",
          "output_type": "stream",
          "text": [
            "Hyperparameter Search: 100%|████████████████████████████████████████████████████████████████████████████████████████████████| 96/96 [19:46<00:00, 12.36s/it]"
          ]
        },
        {
          "name": "stdout",
          "output_type": "stream",
          "text": [
            "Parameters: {'epochs': 100, 'batch_size': 64, 'learning_rate': 0.001, 'momentum': 0.8, 'n_hidden': [64, 32], 'dropout_rate': 0.0}  |  Accuracy: 0.9472\n",
            "\n",
            "Best Hyperparameters Found: {'epochs': 150, 'batch_size': 32, 'learning_rate': 0.01, 'momentum': 0.9, 'n_hidden': [64], 'dropout_rate': 0.1}\n",
            "Best Accuracy: 0.9736\n",
            "\n",
            "Best hyperparameters: {'epochs': 150, 'batch_size': 32, 'learning_rate': 0.01, 'momentum': 0.9, 'n_hidden': [64], 'dropout_rate': 0.1}\n",
            "Epoch 1/150 - loss: 0.6877 - accuracy: 0.5402\n",
            "Epoch 2/150 - loss: 0.6547 - accuracy: 0.6299\n"
          ]
        },
        {
          "name": "stderr",
          "output_type": "stream",
          "text": [
            "\n"
          ]
        },
        {
          "name": "stdout",
          "output_type": "stream",
          "text": [
            "Epoch 3/150 - loss: 0.6027 - accuracy: 0.7067\n",
            "Epoch 4/150 - loss: 0.5401 - accuracy: 0.7812\n",
            "Epoch 5/150 - loss: 0.4701 - accuracy: 0.8219\n",
            "Epoch 6/150 - loss: 0.3927 - accuracy: 0.8621\n",
            "Epoch 7/150 - loss: 0.3242 - accuracy: 0.8955\n",
            "Epoch 8/150 - loss: 0.2706 - accuracy: 0.9187\n",
            "Epoch 9/150 - loss: 0.2229 - accuracy: 0.9330\n",
            "Epoch 10/150 - loss: 0.1858 - accuracy: 0.9482\n",
            "Epoch 11/150 - loss: 0.1642 - accuracy: 0.9464\n",
            "Epoch 12/150 - loss: 0.1526 - accuracy: 0.9549\n",
            "Epoch 13/150 - loss: 0.1321 - accuracy: 0.9612\n",
            "Epoch 14/150 - loss: 0.1185 - accuracy: 0.9701\n",
            "Epoch 15/150 - loss: 0.0991 - accuracy: 0.9768\n",
            "Epoch 16/150 - loss: 0.0959 - accuracy: 0.9714\n",
            "Epoch 17/150 - loss: 0.0818 - accuracy: 0.9826\n",
            "Epoch 18/150 - loss: 0.0743 - accuracy: 0.9826\n",
            "Epoch 19/150 - loss: 0.0672 - accuracy: 0.9848\n",
            "Epoch 20/150 - loss: 0.0654 - accuracy: 0.9830\n",
            "Epoch 21/150 - loss: 0.0595 - accuracy: 0.9875\n",
            "Epoch 22/150 - loss: 0.0561 - accuracy: 0.9875\n",
            "Epoch 23/150 - loss: 0.0564 - accuracy: 0.9857\n",
            "Epoch 24/150 - loss: 0.0484 - accuracy: 0.9915\n",
            "Epoch 25/150 - loss: 0.0458 - accuracy: 0.9915\n",
            "Epoch 26/150 - loss: 0.0438 - accuracy: 0.9929\n",
            "Epoch 27/150 - loss: 0.0401 - accuracy: 0.9920\n",
            "Epoch 28/150 - loss: 0.0379 - accuracy: 0.9929\n",
            "Epoch 29/150 - loss: 0.0350 - accuracy: 0.9933\n",
            "Epoch 30/150 - loss: 0.0380 - accuracy: 0.9924\n",
            "Epoch 31/150 - loss: 0.0324 - accuracy: 0.9938\n",
            "Epoch 32/150 - loss: 0.0306 - accuracy: 0.9960\n",
            "Epoch 33/150 - loss: 0.0309 - accuracy: 0.9933\n",
            "Epoch 34/150 - loss: 0.0273 - accuracy: 0.9991\n",
            "Epoch 35/150 - loss: 0.0288 - accuracy: 0.9942\n",
            "Epoch 36/150 - loss: 0.0270 - accuracy: 0.9969\n",
            "Epoch 37/150 - loss: 0.0229 - accuracy: 0.9964\n",
            "Epoch 38/150 - loss: 0.0286 - accuracy: 0.9938\n",
            "Epoch 39/150 - loss: 0.0256 - accuracy: 0.9978\n",
            "Epoch 40/150 - loss: 0.0223 - accuracy: 0.9973\n",
            "Epoch 41/150 - loss: 0.0208 - accuracy: 0.9969\n",
            "Epoch 42/150 - loss: 0.0217 - accuracy: 0.9960\n",
            "Epoch 43/150 - loss: 0.0229 - accuracy: 0.9964\n",
            "Epoch 44/150 - loss: 0.0192 - accuracy: 0.9991\n",
            "Epoch 45/150 - loss: 0.0173 - accuracy: 0.9991\n",
            "Epoch 46/150 - loss: 0.0176 - accuracy: 0.9987\n",
            "Epoch 47/150 - loss: 0.0188 - accuracy: 0.9987\n",
            "Epoch 48/150 - loss: 0.0166 - accuracy: 0.9991\n",
            "Epoch 49/150 - loss: 0.0158 - accuracy: 0.9987\n",
            "Epoch 50/150 - loss: 0.0163 - accuracy: 0.9978\n",
            "Epoch 51/150 - loss: 0.0157 - accuracy: 0.9991\n",
            "Epoch 52/150 - loss: 0.0167 - accuracy: 0.9960\n",
            "Epoch 53/150 - loss: 0.0135 - accuracy: 0.9991\n",
            "Epoch 54/150 - loss: 0.0130 - accuracy: 0.9996\n",
            "Epoch 55/150 - loss: 0.0161 - accuracy: 0.9969\n",
            "Epoch 56/150 - loss: 0.0138 - accuracy: 0.9987\n",
            "Epoch 57/150 - loss: 0.0144 - accuracy: 0.9969\n",
            "Epoch 58/150 - loss: 0.0117 - accuracy: 0.9996\n",
            "Epoch 59/150 - loss: 0.0114 - accuracy: 0.9996\n",
            "Epoch 60/150 - loss: 0.0148 - accuracy: 0.9978\n",
            "Epoch 61/150 - loss: 0.0123 - accuracy: 0.9978\n",
            "Epoch 62/150 - loss: 0.0122 - accuracy: 0.9991\n",
            "Epoch 63/150 - loss: 0.0109 - accuracy: 0.9991\n",
            "Epoch 64/150 - loss: 0.0109 - accuracy: 0.9991\n",
            "Epoch 65/150 - loss: 0.0114 - accuracy: 0.9982\n",
            "Epoch 66/150 - loss: 0.0112 - accuracy: 0.9991\n",
            "Epoch 67/150 - loss: 0.0104 - accuracy: 0.9987\n",
            "Epoch 68/150 - loss: 0.0096 - accuracy: 0.9991\n",
            "Epoch 69/150 - loss: 0.0092 - accuracy: 0.9991\n",
            "Epoch 70/150 - loss: 0.0098 - accuracy: 0.9996\n",
            "Epoch 71/150 - loss: 0.0095 - accuracy: 1.0000\n",
            "Epoch 72/150 - loss: 0.0099 - accuracy: 0.9996\n",
            "Epoch 73/150 - loss: 0.0090 - accuracy: 0.9991\n",
            "Epoch 74/150 - loss: 0.0088 - accuracy: 0.9991\n",
            "Epoch 75/150 - loss: 0.0076 - accuracy: 0.9996\n",
            "Epoch 76/150 - loss: 0.0086 - accuracy: 0.9991\n",
            "Epoch 77/150 - loss: 0.0094 - accuracy: 1.0000\n",
            "Epoch 78/150 - loss: 0.0078 - accuracy: 0.9996\n",
            "Epoch 79/150 - loss: 0.0094 - accuracy: 0.9982\n",
            "Epoch 80/150 - loss: 0.0081 - accuracy: 0.9987\n",
            "Epoch 81/150 - loss: 0.0077 - accuracy: 0.9996\n",
            "Epoch 82/150 - loss: 0.0071 - accuracy: 0.9996\n",
            "Epoch 83/150 - loss: 0.0081 - accuracy: 0.9987\n",
            "Epoch 84/150 - loss: 0.0067 - accuracy: 1.0000\n",
            "Epoch 85/150 - loss: 0.0074 - accuracy: 0.9996\n",
            "Epoch 86/150 - loss: 0.0065 - accuracy: 0.9991\n",
            "Epoch 87/150 - loss: 0.0078 - accuracy: 1.0000\n",
            "Epoch 88/150 - loss: 0.0064 - accuracy: 0.9991\n",
            "Epoch 89/150 - loss: 0.0068 - accuracy: 1.0000\n",
            "Epoch 90/150 - loss: 0.0073 - accuracy: 0.9987\n",
            "Epoch 91/150 - loss: 0.0060 - accuracy: 0.9996\n",
            "Epoch 92/150 - loss: 0.0067 - accuracy: 0.9987\n",
            "Epoch 93/150 - loss: 0.0066 - accuracy: 0.9996\n",
            "Epoch 94/150 - loss: 0.0058 - accuracy: 1.0000\n",
            "Epoch 95/150 - loss: 0.0056 - accuracy: 1.0000\n",
            "Epoch 96/150 - loss: 0.0068 - accuracy: 0.9996\n",
            "Epoch 97/150 - loss: 0.0060 - accuracy: 0.9996\n",
            "Epoch 98/150 - loss: 0.0063 - accuracy: 0.9991\n",
            "Epoch 99/150 - loss: 0.0055 - accuracy: 1.0000\n",
            "Epoch 100/150 - loss: 0.0064 - accuracy: 0.9991\n",
            "Epoch 101/150 - loss: 0.0064 - accuracy: 0.9996\n",
            "Epoch 102/150 - loss: 0.0047 - accuracy: 1.0000\n",
            "Epoch 103/150 - loss: 0.0055 - accuracy: 0.9991\n",
            "Epoch 104/150 - loss: 0.0040 - accuracy: 1.0000\n",
            "Epoch 105/150 - loss: 0.0067 - accuracy: 0.9991\n",
            "Epoch 106/150 - loss: 0.0047 - accuracy: 1.0000\n",
            "Epoch 107/150 - loss: 0.0046 - accuracy: 1.0000\n",
            "Epoch 108/150 - loss: 0.0046 - accuracy: 1.0000\n",
            "Epoch 109/150 - loss: 0.0061 - accuracy: 0.9996\n",
            "Epoch 110/150 - loss: 0.0058 - accuracy: 0.9991\n",
            "Epoch 111/150 - loss: 0.0052 - accuracy: 1.0000\n",
            "Epoch 112/150 - loss: 0.0051 - accuracy: 1.0000\n",
            "Epoch 113/150 - loss: 0.0057 - accuracy: 0.9996\n",
            "Epoch 114/150 - loss: 0.0051 - accuracy: 0.9991\n",
            "Epoch 115/150 - loss: 0.0053 - accuracy: 1.0000\n",
            "Epoch 116/150 - loss: 0.0046 - accuracy: 1.0000\n",
            "Epoch 117/150 - loss: 0.0051 - accuracy: 0.9996\n",
            "Epoch 118/150 - loss: 0.0043 - accuracy: 1.0000\n",
            "Epoch 119/150 - loss: 0.0040 - accuracy: 1.0000\n",
            "Epoch 120/150 - loss: 0.0040 - accuracy: 1.0000\n",
            "Epoch 121/150 - loss: 0.0049 - accuracy: 0.9991\n",
            "Epoch 122/150 - loss: 0.0056 - accuracy: 0.9996\n",
            "Epoch 123/150 - loss: 0.0039 - accuracy: 1.0000\n",
            "Epoch 124/150 - loss: 0.0042 - accuracy: 0.9991\n",
            "Epoch 125/150 - loss: 0.0040 - accuracy: 1.0000\n",
            "Epoch 126/150 - loss: 0.0047 - accuracy: 0.9996\n",
            "Epoch 127/150 - loss: 0.0043 - accuracy: 1.0000\n",
            "Epoch 128/150 - loss: 0.0036 - accuracy: 1.0000\n",
            "Epoch 129/150 - loss: 0.0033 - accuracy: 1.0000\n",
            "Epoch 130/150 - loss: 0.0047 - accuracy: 0.9996\n",
            "Epoch 131/150 - loss: 0.0044 - accuracy: 1.0000\n",
            "Epoch 132/150 - loss: 0.0044 - accuracy: 1.0000\n",
            "Epoch 133/150 - loss: 0.0047 - accuracy: 0.9991\n",
            "Epoch 134/150 - loss: 0.0040 - accuracy: 0.9996\n",
            "Epoch 135/150 - loss: 0.0032 - accuracy: 1.0000\n",
            "Epoch 136/150 - loss: 0.0036 - accuracy: 1.0000\n",
            "Epoch 137/150 - loss: 0.0039 - accuracy: 0.9996\n",
            "Epoch 138/150 - loss: 0.0036 - accuracy: 1.0000\n",
            "Epoch 139/150 - loss: 0.0035 - accuracy: 1.0000\n",
            "Epoch 140/150 - loss: 0.0032 - accuracy: 1.0000\n",
            "Epoch 141/150 - loss: 0.0046 - accuracy: 0.9991\n",
            "Epoch 142/150 - loss: 0.0036 - accuracy: 1.0000\n",
            "Epoch 143/150 - loss: 0.0039 - accuracy: 0.9996\n",
            "Epoch 144/150 - loss: 0.0031 - accuracy: 1.0000\n",
            "Epoch 145/150 - loss: 0.0031 - accuracy: 1.0000\n",
            "Epoch 146/150 - loss: 0.0029 - accuracy: 1.0000\n",
            "Epoch 147/150 - loss: 0.0031 - accuracy: 1.0000\n",
            "Epoch 148/150 - loss: 0.0026 - accuracy: 1.0000\n",
            "Epoch 149/150 - loss: 0.0034 - accuracy: 1.0000\n",
            "Epoch 150/150 - loss: 0.0033 - accuracy: 1.0000\n",
            "\n",
            "Test accuracy with best hyperparameters: 0.9819\n",
            "Confusion Matrix: TP=543, FP=15, TN=650, FN=7\n",
            "Precision = 0.9731, Recall = 0.9873, F1 = 0.9801\n",
            "Balanced Accuracy = 0.9824\n",
            "DNN Model saved to folder 'dnn_model_weights'. JSON = 'dnn_model_weights\\dnn_model_1_architecture.json'\n",
            "DNN Model saved with prefix dnn_model_1\n"
          ]
        }
      ],
      "source": [
        "if mode == ModelRunMode.TRAIN.value:\n",
        "    # Load datasets using TF-IDF vectorization\n",
        "    X_train, y_train, X_test, y_test, vocab, idf = Dataset.prepare_train_test_tfidf(input_csv=input_csv, output_csv=output_csv, test_size=test_size, random_state=random_state, max_vocab_size=max_vocab_size, min_freq=min_freq)\n",
        "\n",
        "    # Create Dataset objects for training and test data\n",
        "    train_ds_full = Dataset(X=X_train, Y=y_train)\n",
        "    test_ds = Dataset(X=X_test, Y=y_test)\n",
        "\n",
        "    # Display dimensions of the training and test datasets\n",
        "    print(f\"Train set has {train_ds_full.nrows()} rows and {train_ds_full.ncols()} columns\")\n",
        "    print(f\"Test set has {test_ds.nrows()} rows and {test_ds.ncols()} columns\\n\")\n",
        "\n",
        "    # Split the full training dataset into training and validation subsets (70% training, 30% validation)\n",
        "    n_train = train_ds_full.X.shape[0]\n",
        "    indices = np.arange(n_train)\n",
        "    np.random.shuffle(indices)\n",
        "    split_idx = int((1 - validation_size) * n_train)\n",
        "    train_idx = indices[:split_idx]\n",
        "    val_idx = indices[split_idx:]\n",
        "    train_ds = Dataset(X=train_ds_full.X[train_idx], Y=train_ds_full.Y[train_idx])\n",
        "    val_ds = Dataset(X=train_ds_full.X[val_idx], Y=train_ds_full.Y[val_idx])\n",
        "\n",
        "    # More varied epochs to handle both simpler and more complex tasks\n",
        "    epochs_list = [100, 150]\n",
        "\n",
        "    # A wider range of batch sizes\n",
        "    batch_size_list = [32, 64]\n",
        "\n",
        "    # Learning rate from very small to moderate\n",
        "    learning_rate_list = [0.001, 0.01]\n",
        "\n",
        "    # Momentum slightly varied around typical defaults\n",
        "    momentum_list = [0.8, 0.9]\n",
        "\n",
        "    # Different hidden layer topologies\n",
        "    hidden_layers_list = [\n",
        "        [64],\n",
        "        [64, 32],\n",
        "        [128, 64]\n",
        "    ]\n",
        "\n",
        "    # Add mild to moderate dropout levels\n",
        "    dropout_list = [0.0, 0.1]\n",
        "\n",
        "    # Perform hyperparameter tuning using the training and validation sets\n",
        "    print(\"Starting hyperparameter tuning...\")\n",
        "    best_params = hyperparameter_optimization(train_ds, val_ds, epochs_list, batch_size_list, learning_rate_list, momentum_list, hidden_layers_list, dropout_list, n_iter=96)\n",
        "    print(\"\\nBest hyperparameters:\", best_params)\n",
        "\n",
        "    # Retrain DNN model on the full training data using the best hyperparameters\n",
        "    final_model = NeuralNetwork(epochs=best_params['epochs'], batch_size=best_params['batch_size'], optimizer=Optimizer(learning_rate=best_params['learning_rate'], momentum=best_params['momentum']), verbose=verbose, loss=BinaryCrossEntropy,  metric=accuracy)\n",
        "\n",
        "    # Build model Layers\n",
        "    n_features = train_ds.X.shape[1]\n",
        "    for i, units in enumerate(best_params['n_hidden']):\n",
        "        if i == 0:\n",
        "            final_model.add(DenseLayer(units, (n_features,),dropout_rate=best_params['dropout_rate']))\n",
        "        else:\n",
        "            final_model.add(DenseLayer(units,dropout_rate=best_params['dropout_rate']))\n",
        "        final_model.add(ReLUActivation())\n",
        "        \n",
        "    final_model.add(DenseLayer(1))\n",
        "    final_model.add(SigmoidActivation())\n",
        "\n",
        "    # Fit model\n",
        "    final_model.fit(train_ds)\n",
        "\n",
        "    # Get predictions on the test set\n",
        "    preds = final_model.predict(test_ds)\n",
        "\n",
        "    # Convert probabilities to binary class labels using a threshold of 0.5\n",
        "    preds_binary = (preds > 0.5).astype(int)\n",
        "\n",
        "    # Evaluate the final model on the test set\n",
        "    test_acc = final_model.score(test_ds, preds)\n",
        "    print(f\"\\nTest accuracy with best hyperparameters: {test_acc:.4f}\")\n",
        "\n",
        "    # Evaluate the final model using binary predictions for the confusion matrix and other metrics\n",
        "    TP, FP, TN, FN = confusion_matrix(y_test, preds_binary)\n",
        "    prec, rec, f1 = precision_recall_f1(y_test, preds_binary)\n",
        "    bal_acc = balanced_accuracy(y_test, preds_binary)\n",
        "\n",
        "    print(\"Confusion Matrix: TP={}, FP={}, TN={}, FN={}\".format(TP, FP, TN, FN))\n",
        "    print(\"Precision = {:.4f}, Recall = {:.4f}, F1 = {:.4f}\".format(prec, rec, f1))\n",
        "    print(\"Balanced Accuracy = {:.4f}\".format(bal_acc))\n",
        "\n",
        "    # Save the model, plus vocab & idf, so classification can replicate\n",
        "    save_dnn_model(dnn=final_model, vocab=vocab, idf=idf, model_prefix=model_prefix)\n",
        "    print(f\"DNN Model saved with prefix {model_prefix}\")\n",
        "\n",
        "if mode == ModelRunMode.CLASSIFY.value:\n",
        "    # Classify new texts using the saved model\n",
        "    Dataset.classify_texts(input_csv=input_csv, output_csv=output_csv, neural_net_class=NeuralNetwork, model_type=ModelType.DNN ,model_prefix=model_prefix)"
      ]
    }
  ],
  "metadata": {
    "kernelspec": {
      "display_name": "Python 3 (ipykernel)",
      "language": "python",
      "name": "python3"
    },
    "language_info": {
      "codemirror_mode": {
        "name": "ipython",
        "version": 3
      },
      "file_extension": ".py",
      "mimetype": "text/x-python",
      "name": "python",
      "nbconvert_exporter": "python",
      "pygments_lexer": "ipython3",
      "version": "3.10.16"
    }
  },
  "nbformat": 4,
  "nbformat_minor": 5
}
