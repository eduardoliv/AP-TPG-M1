{
  "cells": [
    {
      "cell_type": "markdown",
      "id": "e117c95a",
      "metadata": {},
      "source": [
        "# DNN Model Notebook"
      ]
    },
    {
      "cell_type": "markdown",
      "id": "5f7f3362",
      "metadata": {},
      "source": [
        "```md\n",
        "@authors: miguelrocha and Grupo 03\n",
        "```"
      ]
    },
    {
      "cell_type": "code",
      "execution_count": 1,
      "id": "00553163",
      "metadata": {},
      "outputs": [],
      "source": [
        "# Notebook Imports\n",
        "import numpy as np\n",
        "\n",
        "from models.dnn_model import NeuralNetwork, hyperparameter_optimization\n",
        "from helpers.dataset import Dataset\n",
        "from helpers.enums import ModelRunMode\n",
        "from helpers.layers import DenseLayer\n",
        "from helpers.activation import ReLUActivation, SigmoidActivation\n",
        "from helpers.losses import BinaryCrossEntropy\n",
        "from helpers.optimizer import Optimizer\n",
        "from helpers.metrics import accuracy, confusion_matrix, balanced_accuracy, precision_recall_f1\n",
        "from helpers.enums import ModelType\n",
        "from helpers.model import save_dnn_model"
      ]
    },
    {
      "cell_type": "code",
      "execution_count": 2,
      "id": "fc6f6268",
      "metadata": {},
      "outputs": [],
      "source": [
        "# Model run mode\n",
        "# Options: \n",
        "#   ModelRunMode.TRAIN.value            (Train the model)\n",
        "#   ModelRunMode.CLASSIFY.value         (Classify data)\n",
        "mode = ModelRunMode.TRAIN.value\n",
        "# Prefix for saving the model files\n",
        "model_prefix = \"dnn_model_1\""
      ]
    },
    {
      "cell_type": "code",
      "execution_count": 3,
      "id": "d6adb728",
      "metadata": {},
      "outputs": [],
      "source": [
        "# Parameters cell\n",
        "if mode == ModelRunMode.TRAIN.value:\n",
        "    # TRAIN mode: Set parameters for training\n",
        "    input_csv = \"../tarefa_1/test_input_dataset/merged_inputs.csv\"                      # CSV file with training inputs (ID, Text)\n",
        "    output_csv = \"../tarefa_1/test_output_dataset/merged_outputs.csv\"                   # CSV file with training outputs (ID, Label)\n",
        "    test_size = 0.3                                                                     # Proportion of the dataset to use as test data\n",
        "    validation_size = 0.2                                                               # Proportion of the dataset reserved as validation data (used during hyperparameter tuning)\n",
        "    verbose = True                                                                      # Verbosity level enabler\n",
        "    random_state=42                                                                     # Seed for reproducible dataset splitting\n",
        "    max_vocab_size=1000                                                                 # Maximum vocabulary size (None implies no limit)\n",
        "    min_freq=1                                                                          # Minimum frequency required for a word to be included in the vocabulary\n",
        "elif mode == ModelRunMode.CLASSIFY.value:\n",
        "    # CLASSIFY mode: Set parameters for classification\n",
        "    input_csv = \"../tarefa_2/classify_input_datasets/submission3_inputs.csv\"               # CSV file with texts for prediction (ID, Text)\n",
        "    output_csv = \"../tarefa_2/classify_output_datasets/submission3_outputs_dnn_model.csv\"  # CSV file to store prediction result\n",
        "else:\n",
        "    print(\"The selected option is not valid. Options: \\\"train\\\" or \\\"classify\\\"!\")\n",
        "    SystemExit()"
      ]
    },
    {
      "cell_type": "code",
      "execution_count": 4,
      "id": "e633c6f6",
      "metadata": {},
      "outputs": [
        {
          "name": "stdout",
          "output_type": "stream",
          "text": [
            "Train set has 1319 rows and 1000 columns\n",
            "Test set has 565 rows and 1000 columns\n",
            "\n",
            "Starting hyperparameter tuning...\n"
          ]
        },
        {
          "name": "stderr",
          "output_type": "stream",
          "text": [
            "Hyperparameter Search:   1%|          | 1/96 [00:03<05:41,  3.60s/it]"
          ]
        },
        {
          "name": "stdout",
          "output_type": "stream",
          "text": [
            "Parameters: {'epochs': 100, 'batch_size': 64, 'learning_rate': 0.01, 'momentum': 0.9, 'n_hidden': [64], 'dropout_rate': 0.0}  |  Accuracy: 0.9659\n"
          ]
        },
        {
          "name": "stderr",
          "output_type": "stream",
          "text": [
            "Hyperparameter Search:   2%|▏         | 2/96 [00:15<13:42,  8.75s/it]"
          ]
        },
        {
          "name": "stdout",
          "output_type": "stream",
          "text": [
            "Parameters: {'epochs': 150, 'batch_size': 64, 'learning_rate': 0.01, 'momentum': 0.8, 'n_hidden': [128, 64], 'dropout_rate': 0.1}  |  Accuracy: 0.9394\n"
          ]
        },
        {
          "name": "stderr",
          "output_type": "stream",
          "text": [
            "Hyperparameter Search:   3%|▎         | 3/96 [00:21<11:26,  7.39s/it]"
          ]
        },
        {
          "name": "stdout",
          "output_type": "stream",
          "text": [
            "Parameters: {'epochs': 150, 'batch_size': 64, 'learning_rate': 0.01, 'momentum': 0.9, 'n_hidden': [64, 32], 'dropout_rate': 0.0}  |  Accuracy: 0.9280\n"
          ]
        },
        {
          "name": "stderr",
          "output_type": "stream",
          "text": [
            "Hyperparameter Search:   4%|▍         | 4/96 [00:34<14:47,  9.65s/it]"
          ]
        },
        {
          "name": "stdout",
          "output_type": "stream",
          "text": [
            "Parameters: {'epochs': 150, 'batch_size': 32, 'learning_rate': 0.001, 'momentum': 0.8, 'n_hidden': [128, 64], 'dropout_rate': 0.1}  |  Accuracy: 0.9129\n"
          ]
        },
        {
          "name": "stderr",
          "output_type": "stream",
          "text": [
            "Hyperparameter Search:   5%|▌         | 5/96 [00:44<14:34,  9.61s/it]"
          ]
        },
        {
          "name": "stdout",
          "output_type": "stream",
          "text": [
            "Parameters: {'epochs': 100, 'batch_size': 32, 'learning_rate': 0.01, 'momentum': 0.9, 'n_hidden': [128, 64], 'dropout_rate': 0.1}  |  Accuracy: 0.9167\n"
          ]
        },
        {
          "name": "stderr",
          "output_type": "stream",
          "text": [
            "Hyperparameter Search:   6%|▋         | 6/96 [00:47<11:18,  7.54s/it]"
          ]
        },
        {
          "name": "stdout",
          "output_type": "stream",
          "text": [
            "Parameters: {'epochs': 100, 'batch_size': 64, 'learning_rate': 0.001, 'momentum': 0.9, 'n_hidden': [64, 32], 'dropout_rate': 0.1}  |  Accuracy: 0.8826\n"
          ]
        },
        {
          "name": "stderr",
          "output_type": "stream",
          "text": [
            "Hyperparameter Search:   7%|▋         | 7/96 [00:52<09:54,  6.68s/it]"
          ]
        },
        {
          "name": "stdout",
          "output_type": "stream",
          "text": [
            "Parameters: {'epochs': 100, 'batch_size': 32, 'learning_rate': 0.01, 'momentum': 0.8, 'n_hidden': [64, 32], 'dropout_rate': 0.1}  |  Accuracy: 0.9545\n"
          ]
        },
        {
          "name": "stderr",
          "output_type": "stream",
          "text": [
            "Hyperparameter Search:   8%|▊         | 8/96 [01:06<13:10,  8.98s/it]"
          ]
        },
        {
          "name": "stdout",
          "output_type": "stream",
          "text": [
            "Parameters: {'epochs': 150, 'batch_size': 32, 'learning_rate': 0.01, 'momentum': 0.9, 'n_hidden': [128, 64], 'dropout_rate': 0.1}  |  Accuracy: 0.9318\n"
          ]
        },
        {
          "name": "stderr",
          "output_type": "stream",
          "text": [
            "Hyperparameter Search:   9%|▉         | 9/96 [01:11<11:02,  7.62s/it]"
          ]
        },
        {
          "name": "stdout",
          "output_type": "stream",
          "text": [
            "Parameters: {'epochs': 100, 'batch_size': 32, 'learning_rate': 0.01, 'momentum': 0.8, 'n_hidden': [64, 32], 'dropout_rate': 0.0}  |  Accuracy: 0.9280\n"
          ]
        },
        {
          "name": "stderr",
          "output_type": "stream",
          "text": [
            "Hyperparameter Search:  10%|█         | 10/96 [01:20<11:38,  8.12s/it]"
          ]
        },
        {
          "name": "stdout",
          "output_type": "stream",
          "text": [
            "Parameters: {'epochs': 150, 'batch_size': 64, 'learning_rate': 0.001, 'momentum': 0.8, 'n_hidden': [128, 64], 'dropout_rate': 0.0}  |  Accuracy: 0.8977\n"
          ]
        },
        {
          "name": "stderr",
          "output_type": "stream",
          "text": [
            "Hyperparameter Search:  11%|█▏        | 11/96 [01:23<09:25,  6.65s/it]"
          ]
        },
        {
          "name": "stdout",
          "output_type": "stream",
          "text": [
            "Parameters: {'epochs': 100, 'batch_size': 64, 'learning_rate': 0.001, 'momentum': 0.8, 'n_hidden': [64, 32], 'dropout_rate': 0.0}  |  Accuracy: 0.8977\n"
          ]
        },
        {
          "name": "stderr",
          "output_type": "stream",
          "text": [
            "Hyperparameter Search:  12%|█▎        | 12/96 [01:30<09:25,  6.73s/it]"
          ]
        },
        {
          "name": "stdout",
          "output_type": "stream",
          "text": [
            "Parameters: {'epochs': 150, 'batch_size': 32, 'learning_rate': 0.001, 'momentum': 0.8, 'n_hidden': [64], 'dropout_rate': 0.1}  |  Accuracy: 0.9053\n"
          ]
        },
        {
          "name": "stderr",
          "output_type": "stream",
          "text": [
            "Hyperparameter Search:  14%|█▎        | 13/96 [01:35<08:35,  6.21s/it]"
          ]
        },
        {
          "name": "stdout",
          "output_type": "stream",
          "text": [
            "Parameters: {'epochs': 150, 'batch_size': 64, 'learning_rate': 0.01, 'momentum': 0.8, 'n_hidden': [64, 32], 'dropout_rate': 0.0}  |  Accuracy: 0.9167\n"
          ]
        },
        {
          "name": "stderr",
          "output_type": "stream",
          "text": [
            "Hyperparameter Search:  15%|█▍        | 14/96 [01:39<07:15,  5.31s/it]"
          ]
        },
        {
          "name": "stdout",
          "output_type": "stream",
          "text": [
            "Parameters: {'epochs': 100, 'batch_size': 64, 'learning_rate': 0.001, 'momentum': 0.9, 'n_hidden': [64], 'dropout_rate': 0.1}  |  Accuracy: 0.8106\n"
          ]
        },
        {
          "name": "stderr",
          "output_type": "stream",
          "text": [
            "Hyperparameter Search:  16%|█▌        | 15/96 [01:43<06:50,  5.06s/it]"
          ]
        },
        {
          "name": "stdout",
          "output_type": "stream",
          "text": [
            "Parameters: {'epochs': 100, 'batch_size': 32, 'learning_rate': 0.001, 'momentum': 0.8, 'n_hidden': [64], 'dropout_rate': 0.0}  |  Accuracy: 0.8523\n"
          ]
        },
        {
          "name": "stderr",
          "output_type": "stream",
          "text": [
            "Hyperparameter Search:  17%|█▋        | 16/96 [01:55<09:28,  7.11s/it]"
          ]
        },
        {
          "name": "stdout",
          "output_type": "stream",
          "text": [
            "Parameters: {'epochs': 150, 'batch_size': 64, 'learning_rate': 0.01, 'momentum': 0.8, 'n_hidden': [128, 64], 'dropout_rate': 0.0}  |  Accuracy: 0.9356\n"
          ]
        },
        {
          "name": "stderr",
          "output_type": "stream",
          "text": [
            "Hyperparameter Search:  18%|█▊        | 17/96 [02:02<09:24,  7.14s/it]"
          ]
        },
        {
          "name": "stdout",
          "output_type": "stream",
          "text": [
            "Parameters: {'epochs': 150, 'batch_size': 32, 'learning_rate': 0.01, 'momentum': 0.8, 'n_hidden': [64, 32], 'dropout_rate': 0.0}  |  Accuracy: 0.9394\n"
          ]
        },
        {
          "name": "stderr",
          "output_type": "stream",
          "text": [
            "Hyperparameter Search:  19%|█▉        | 18/96 [02:07<08:27,  6.51s/it]"
          ]
        },
        {
          "name": "stdout",
          "output_type": "stream",
          "text": [
            "Parameters: {'epochs': 150, 'batch_size': 64, 'learning_rate': 0.01, 'momentum': 0.9, 'n_hidden': [64, 32], 'dropout_rate': 0.1}  |  Accuracy: 0.9167\n"
          ]
        },
        {
          "name": "stderr",
          "output_type": "stream",
          "text": [
            "Hyperparameter Search:  20%|█▉        | 19/96 [02:15<08:45,  6.82s/it]"
          ]
        },
        {
          "name": "stdout",
          "output_type": "stream",
          "text": [
            "Parameters: {'epochs': 150, 'batch_size': 32, 'learning_rate': 0.01, 'momentum': 0.9, 'n_hidden': [64, 32], 'dropout_rate': 0.0}  |  Accuracy: 0.9242\n"
          ]
        },
        {
          "name": "stderr",
          "output_type": "stream",
          "text": [
            "Hyperparameter Search:  21%|██        | 20/96 [02:20<08:02,  6.34s/it]"
          ]
        },
        {
          "name": "stdout",
          "output_type": "stream",
          "text": [
            "Parameters: {'epochs': 150, 'batch_size': 64, 'learning_rate': 0.01, 'momentum': 0.9, 'n_hidden': [64, 32], 'dropout_rate': 0.1}  |  Accuracy: 0.9432\n"
          ]
        },
        {
          "name": "stderr",
          "output_type": "stream",
          "text": [
            "Hyperparameter Search:  22%|██▏       | 21/96 [02:24<07:14,  5.79s/it]"
          ]
        },
        {
          "name": "stdout",
          "output_type": "stream",
          "text": [
            "Parameters: {'epochs': 100, 'batch_size': 32, 'learning_rate': 0.01, 'momentum': 0.9, 'n_hidden': [64], 'dropout_rate': 0.1}  |  Accuracy: 0.9659\n"
          ]
        },
        {
          "name": "stderr",
          "output_type": "stream",
          "text": [
            "Hyperparameter Search:  23%|██▎       | 22/96 [02:32<07:45,  6.29s/it]"
          ]
        },
        {
          "name": "stdout",
          "output_type": "stream",
          "text": [
            "Parameters: {'epochs': 150, 'batch_size': 32, 'learning_rate': 0.01, 'momentum': 0.8, 'n_hidden': [64], 'dropout_rate': 0.1}  |  Accuracy: 0.9697\n"
          ]
        },
        {
          "name": "stderr",
          "output_type": "stream",
          "text": [
            "Hyperparameter Search:  24%|██▍       | 23/96 [02:38<07:41,  6.32s/it]"
          ]
        },
        {
          "name": "stdout",
          "output_type": "stream",
          "text": [
            "Parameters: {'epochs': 100, 'batch_size': 64, 'learning_rate': 0.01, 'momentum': 0.8, 'n_hidden': [128, 64], 'dropout_rate': 0.0}  |  Accuracy: 0.8939\n"
          ]
        },
        {
          "name": "stderr",
          "output_type": "stream",
          "text": [
            "Hyperparameter Search:  25%|██▌       | 24/96 [02:51<09:55,  8.27s/it]"
          ]
        },
        {
          "name": "stdout",
          "output_type": "stream",
          "text": [
            "Parameters: {'epochs': 150, 'batch_size': 32, 'learning_rate': 0.01, 'momentum': 0.9, 'n_hidden': [128, 64], 'dropout_rate': 0.0}  |  Accuracy: 0.9356\n"
          ]
        },
        {
          "name": "stderr",
          "output_type": "stream",
          "text": [
            "Hyperparameter Search:  26%|██▌       | 25/96 [02:58<09:19,  7.87s/it]"
          ]
        },
        {
          "name": "stdout",
          "output_type": "stream",
          "text": [
            "Parameters: {'epochs': 100, 'batch_size': 64, 'learning_rate': 0.01, 'momentum': 0.9, 'n_hidden': [128, 64], 'dropout_rate': 0.1}  |  Accuracy: 0.9280\n"
          ]
        },
        {
          "name": "stderr",
          "output_type": "stream",
          "text": [
            "Hyperparameter Search:  27%|██▋       | 26/96 [03:01<07:37,  6.54s/it]"
          ]
        },
        {
          "name": "stdout",
          "output_type": "stream",
          "text": [
            "Parameters: {'epochs': 100, 'batch_size': 64, 'learning_rate': 0.01, 'momentum': 0.9, 'n_hidden': [64, 32], 'dropout_rate': 0.0}  |  Accuracy: 0.9091\n"
          ]
        },
        {
          "name": "stderr",
          "output_type": "stream",
          "text": [
            "Hyperparameter Search:  28%|██▊       | 27/96 [03:15<09:49,  8.55s/it]"
          ]
        },
        {
          "name": "stdout",
          "output_type": "stream",
          "text": [
            "Parameters: {'epochs': 150, 'batch_size': 32, 'learning_rate': 0.001, 'momentum': 0.8, 'n_hidden': [128, 64], 'dropout_rate': 0.0}  |  Accuracy: 0.8902\n"
          ]
        },
        {
          "name": "stderr",
          "output_type": "stream",
          "text": [
            "Hyperparameter Search:  29%|██▉       | 28/96 [03:20<08:31,  7.53s/it]"
          ]
        },
        {
          "name": "stdout",
          "output_type": "stream",
          "text": [
            "Parameters: {'epochs': 150, 'batch_size': 64, 'learning_rate': 0.001, 'momentum': 0.8, 'n_hidden': [64, 32], 'dropout_rate': 0.0}  |  Accuracy: 0.9129\n"
          ]
        },
        {
          "name": "stderr",
          "output_type": "stream",
          "text": [
            "Hyperparameter Search:  30%|███       | 29/96 [03:27<08:15,  7.39s/it]"
          ]
        },
        {
          "name": "stdout",
          "output_type": "stream",
          "text": [
            "Parameters: {'epochs': 150, 'batch_size': 32, 'learning_rate': 0.01, 'momentum': 0.8, 'n_hidden': [64], 'dropout_rate': 0.1}  |  Accuracy: 0.9659\n"
          ]
        },
        {
          "name": "stderr",
          "output_type": "stream",
          "text": [
            "Hyperparameter Search:  31%|███▏      | 30/96 [03:32<07:21,  6.69s/it]"
          ]
        },
        {
          "name": "stdout",
          "output_type": "stream",
          "text": [
            "Parameters: {'epochs': 150, 'batch_size': 64, 'learning_rate': 0.001, 'momentum': 0.9, 'n_hidden': [64, 32], 'dropout_rate': 0.0}  |  Accuracy: 0.9091\n"
          ]
        },
        {
          "name": "stderr",
          "output_type": "stream",
          "text": [
            "Hyperparameter Search:  32%|███▏      | 31/96 [03:39<07:14,  6.68s/it]"
          ]
        },
        {
          "name": "stdout",
          "output_type": "stream",
          "text": [
            "Parameters: {'epochs': 100, 'batch_size': 64, 'learning_rate': 0.01, 'momentum': 0.8, 'n_hidden': [128, 64], 'dropout_rate': 0.1}  |  Accuracy: 0.9508\n"
          ]
        },
        {
          "name": "stderr",
          "output_type": "stream",
          "text": [
            "Hyperparameter Search:  33%|███▎      | 32/96 [03:43<06:23,  5.99s/it]"
          ]
        },
        {
          "name": "stdout",
          "output_type": "stream",
          "text": [
            "Parameters: {'epochs': 100, 'batch_size': 32, 'learning_rate': 0.01, 'momentum': 0.9, 'n_hidden': [64], 'dropout_rate': 0.0}  |  Accuracy: 0.9470\n"
          ]
        },
        {
          "name": "stderr",
          "output_type": "stream",
          "text": [
            "Hyperparameter Search:  34%|███▍      | 33/96 [03:48<05:55,  5.65s/it]"
          ]
        },
        {
          "name": "stdout",
          "output_type": "stream",
          "text": [
            "Parameters: {'epochs': 150, 'batch_size': 64, 'learning_rate': 0.01, 'momentum': 0.9, 'n_hidden': [64, 32], 'dropout_rate': 0.0}  |  Accuracy: 0.9318\n"
          ]
        },
        {
          "name": "stderr",
          "output_type": "stream",
          "text": [
            "Hyperparameter Search:  35%|███▌      | 34/96 [03:51<05:07,  4.95s/it]"
          ]
        },
        {
          "name": "stdout",
          "output_type": "stream",
          "text": [
            "Parameters: {'epochs': 100, 'batch_size': 64, 'learning_rate': 0.01, 'momentum': 0.9, 'n_hidden': [64, 32], 'dropout_rate': 0.0}  |  Accuracy: 0.9053\n"
          ]
        },
        {
          "name": "stderr",
          "output_type": "stream",
          "text": [
            "Hyperparameter Search:  36%|███▋      | 35/96 [03:56<04:55,  4.84s/it]"
          ]
        },
        {
          "name": "stdout",
          "output_type": "stream",
          "text": [
            "Parameters: {'epochs': 150, 'batch_size': 64, 'learning_rate': 0.001, 'momentum': 0.8, 'n_hidden': [64], 'dropout_rate': 0.0}  |  Accuracy: 0.9167\n"
          ]
        },
        {
          "name": "stderr",
          "output_type": "stream",
          "text": [
            "Hyperparameter Search:  38%|███▊      | 36/96 [04:01<04:48,  4.81s/it]"
          ]
        },
        {
          "name": "stdout",
          "output_type": "stream",
          "text": [
            "Parameters: {'epochs': 100, 'batch_size': 32, 'learning_rate': 0.001, 'momentum': 0.9, 'n_hidden': [64, 32], 'dropout_rate': 0.0}  |  Accuracy: 0.8864\n"
          ]
        },
        {
          "name": "stderr",
          "output_type": "stream",
          "text": [
            "Hyperparameter Search:  39%|███▊      | 37/96 [04:09<05:56,  6.04s/it]"
          ]
        },
        {
          "name": "stdout",
          "output_type": "stream",
          "text": [
            "Parameters: {'epochs': 100, 'batch_size': 32, 'learning_rate': 0.01, 'momentum': 0.8, 'n_hidden': [128, 64], 'dropout_rate': 0.1}  |  Accuracy: 0.9356\n"
          ]
        },
        {
          "name": "stderr",
          "output_type": "stream",
          "text": [
            "Hyperparameter Search:  40%|███▉      | 38/96 [04:17<06:22,  6.60s/it]"
          ]
        },
        {
          "name": "stdout",
          "output_type": "stream",
          "text": [
            "Parameters: {'epochs': 150, 'batch_size': 32, 'learning_rate': 0.01, 'momentum': 0.8, 'n_hidden': [64, 32], 'dropout_rate': 0.1}  |  Accuracy: 0.9242\n"
          ]
        },
        {
          "name": "stderr",
          "output_type": "stream",
          "text": [
            "Hyperparameter Search:  41%|████      | 39/96 [04:22<05:51,  6.16s/it]"
          ]
        },
        {
          "name": "stdout",
          "output_type": "stream",
          "text": [
            "Parameters: {'epochs': 150, 'batch_size': 64, 'learning_rate': 0.001, 'momentum': 0.8, 'n_hidden': [64, 32], 'dropout_rate': 0.0}  |  Accuracy: 0.9091\n"
          ]
        },
        {
          "name": "stderr",
          "output_type": "stream",
          "text": [
            "Hyperparameter Search:  42%|████▏     | 40/96 [04:28<05:29,  5.88s/it]"
          ]
        },
        {
          "name": "stdout",
          "output_type": "stream",
          "text": [
            "Parameters: {'epochs': 150, 'batch_size': 64, 'learning_rate': 0.001, 'momentum': 0.9, 'n_hidden': [64, 32], 'dropout_rate': 0.1}  |  Accuracy: 0.9205\n"
          ]
        },
        {
          "name": "stderr",
          "output_type": "stream",
          "text": [
            "Hyperparameter Search:  43%|████▎     | 41/96 [04:38<06:33,  7.16s/it]"
          ]
        },
        {
          "name": "stdout",
          "output_type": "stream",
          "text": [
            "Parameters: {'epochs': 150, 'batch_size': 64, 'learning_rate': 0.001, 'momentum': 0.9, 'n_hidden': [128, 64], 'dropout_rate': 0.1}  |  Accuracy: 0.9015\n"
          ]
        },
        {
          "name": "stderr",
          "output_type": "stream",
          "text": [
            "Hyperparameter Search:  44%|████▍     | 42/96 [04:41<05:27,  6.07s/it]"
          ]
        },
        {
          "name": "stdout",
          "output_type": "stream",
          "text": [
            "Parameters: {'epochs': 100, 'batch_size': 64, 'learning_rate': 0.001, 'momentum': 0.8, 'n_hidden': [64, 32], 'dropout_rate': 0.1}  |  Accuracy: 0.9015\n"
          ]
        },
        {
          "name": "stderr",
          "output_type": "stream",
          "text": [
            "Hyperparameter Search:  45%|████▍     | 43/96 [04:55<07:18,  8.28s/it]"
          ]
        },
        {
          "name": "stdout",
          "output_type": "stream",
          "text": [
            "Parameters: {'epochs': 150, 'batch_size': 32, 'learning_rate': 0.01, 'momentum': 0.8, 'n_hidden': [128, 64], 'dropout_rate': 0.1}  |  Accuracy: 0.9129\n"
          ]
        },
        {
          "name": "stderr",
          "output_type": "stream",
          "text": [
            "Hyperparameter Search:  46%|████▌     | 44/96 [05:01<06:42,  7.74s/it]"
          ]
        },
        {
          "name": "stdout",
          "output_type": "stream",
          "text": [
            "Parameters: {'epochs': 100, 'batch_size': 64, 'learning_rate': 0.001, 'momentum': 0.8, 'n_hidden': [128, 64], 'dropout_rate': 0.0}  |  Accuracy: 0.9091\n"
          ]
        },
        {
          "name": "stderr",
          "output_type": "stream",
          "text": [
            "Hyperparameter Search:  47%|████▋     | 45/96 [05:05<05:28,  6.43s/it]"
          ]
        },
        {
          "name": "stdout",
          "output_type": "stream",
          "text": [
            "Parameters: {'epochs': 100, 'batch_size': 64, 'learning_rate': 0.001, 'momentum': 0.9, 'n_hidden': [64, 32], 'dropout_rate': 0.0}  |  Accuracy: 0.8864\n"
          ]
        },
        {
          "name": "stderr",
          "output_type": "stream",
          "text": [
            "Hyperparameter Search:  48%|████▊     | 46/96 [05:13<05:51,  7.02s/it]"
          ]
        },
        {
          "name": "stdout",
          "output_type": "stream",
          "text": [
            "Parameters: {'epochs': 100, 'batch_size': 32, 'learning_rate': 0.01, 'momentum': 0.8, 'n_hidden': [128, 64], 'dropout_rate': 0.0}  |  Accuracy: 0.9470\n"
          ]
        },
        {
          "name": "stderr",
          "output_type": "stream",
          "text": [
            "Hyperparameter Search:  49%|████▉     | 47/96 [05:18<05:13,  6.40s/it]"
          ]
        },
        {
          "name": "stdout",
          "output_type": "stream",
          "text": [
            "Parameters: {'epochs': 100, 'batch_size': 32, 'learning_rate': 0.001, 'momentum': 0.8, 'n_hidden': [64], 'dropout_rate': 0.0}  |  Accuracy: 0.8750\n"
          ]
        },
        {
          "name": "stderr",
          "output_type": "stream",
          "text": [
            "Hyperparameter Search:  50%|█████     | 48/96 [05:23<04:48,  6.01s/it]"
          ]
        },
        {
          "name": "stdout",
          "output_type": "stream",
          "text": [
            "Parameters: {'epochs': 150, 'batch_size': 64, 'learning_rate': 0.001, 'momentum': 0.9, 'n_hidden': [64, 32], 'dropout_rate': 0.0}  |  Accuracy: 0.9091\n"
          ]
        },
        {
          "name": "stderr",
          "output_type": "stream",
          "text": [
            "Hyperparameter Search:  51%|█████     | 49/96 [05:36<06:18,  8.05s/it]"
          ]
        },
        {
          "name": "stdout",
          "output_type": "stream",
          "text": [
            "Parameters: {'epochs': 150, 'batch_size': 32, 'learning_rate': 0.01, 'momentum': 0.8, 'n_hidden': [128, 64], 'dropout_rate': 0.0}  |  Accuracy: 0.9167\n"
          ]
        },
        {
          "name": "stderr",
          "output_type": "stream",
          "text": [
            "Hyperparameter Search:  52%|█████▏    | 50/96 [05:49<07:21,  9.59s/it]"
          ]
        },
        {
          "name": "stdout",
          "output_type": "stream",
          "text": [
            "Parameters: {'epochs': 150, 'batch_size': 32, 'learning_rate': 0.01, 'momentum': 0.9, 'n_hidden': [128, 64], 'dropout_rate': 0.1}  |  Accuracy: 0.9508\n"
          ]
        },
        {
          "name": "stderr",
          "output_type": "stream",
          "text": [
            "Hyperparameter Search:  53%|█████▎    | 51/96 [05:56<06:38,  8.87s/it]"
          ]
        },
        {
          "name": "stdout",
          "output_type": "stream",
          "text": [
            "Parameters: {'epochs': 150, 'batch_size': 32, 'learning_rate': 0.01, 'momentum': 0.9, 'n_hidden': [64], 'dropout_rate': 0.1}  |  Accuracy: 0.9470\n"
          ]
        },
        {
          "name": "stderr",
          "output_type": "stream",
          "text": [
            "Hyperparameter Search:  54%|█████▍    | 52/96 [06:07<06:51,  9.34s/it]"
          ]
        },
        {
          "name": "stdout",
          "output_type": "stream",
          "text": [
            "Parameters: {'epochs': 150, 'batch_size': 64, 'learning_rate': 0.001, 'momentum': 0.8, 'n_hidden': [128, 64], 'dropout_rate': 0.1}  |  Accuracy: 0.8939\n"
          ]
        },
        {
          "name": "stderr",
          "output_type": "stream",
          "text": [
            "Hyperparameter Search:  55%|█████▌    | 53/96 [06:15<06:31,  9.11s/it]"
          ]
        },
        {
          "name": "stdout",
          "output_type": "stream",
          "text": [
            "Parameters: {'epochs': 100, 'batch_size': 32, 'learning_rate': 0.001, 'momentum': 0.8, 'n_hidden': [128, 64], 'dropout_rate': 0.0}  |  Accuracy: 0.8826\n"
          ]
        },
        {
          "name": "stderr",
          "output_type": "stream",
          "text": [
            "Hyperparameter Search:  56%|█████▋    | 54/96 [06:19<05:09,  7.36s/it]"
          ]
        },
        {
          "name": "stdout",
          "output_type": "stream",
          "text": [
            "Parameters: {'epochs': 100, 'batch_size': 64, 'learning_rate': 0.01, 'momentum': 0.8, 'n_hidden': [64], 'dropout_rate': 0.1}  |  Accuracy: 0.9545\n"
          ]
        },
        {
          "name": "stderr",
          "output_type": "stream",
          "text": [
            "Hyperparameter Search:  57%|█████▋    | 55/96 [06:32<06:17,  9.21s/it]"
          ]
        },
        {
          "name": "stdout",
          "output_type": "stream",
          "text": [
            "Parameters: {'epochs': 150, 'batch_size': 32, 'learning_rate': 0.001, 'momentum': 0.8, 'n_hidden': [128, 64], 'dropout_rate': 0.1}  |  Accuracy: 0.9318\n"
          ]
        },
        {
          "name": "stderr",
          "output_type": "stream",
          "text": [
            "Hyperparameter Search:  58%|█████▊    | 56/96 [06:36<05:00,  7.51s/it]"
          ]
        },
        {
          "name": "stdout",
          "output_type": "stream",
          "text": [
            "Parameters: {'epochs': 100, 'batch_size': 64, 'learning_rate': 0.001, 'momentum': 0.9, 'n_hidden': [64, 32], 'dropout_rate': 0.1}  |  Accuracy: 0.8864\n"
          ]
        },
        {
          "name": "stderr",
          "output_type": "stream",
          "text": [
            "Hyperparameter Search:  59%|█████▉    | 57/96 [06:41<04:22,  6.74s/it]"
          ]
        },
        {
          "name": "stdout",
          "output_type": "stream",
          "text": [
            "Parameters: {'epochs': 100, 'batch_size': 32, 'learning_rate': 0.001, 'momentum': 0.8, 'n_hidden': [64, 32], 'dropout_rate': 0.0}  |  Accuracy: 0.8977\n"
          ]
        },
        {
          "name": "stderr",
          "output_type": "stream",
          "text": [
            "Hyperparameter Search:  60%|██████    | 58/96 [06:46<03:57,  6.24s/it]"
          ]
        },
        {
          "name": "stdout",
          "output_type": "stream",
          "text": [
            "Parameters: {'epochs': 100, 'batch_size': 32, 'learning_rate': 0.001, 'momentum': 0.9, 'n_hidden': [64, 32], 'dropout_rate': 0.1}  |  Accuracy: 0.8902\n"
          ]
        },
        {
          "name": "stderr",
          "output_type": "stream",
          "text": [
            "Hyperparameter Search:  61%|██████▏   | 59/96 [06:49<03:18,  5.35s/it]"
          ]
        },
        {
          "name": "stdout",
          "output_type": "stream",
          "text": [
            "Parameters: {'epochs': 100, 'batch_size': 64, 'learning_rate': 0.001, 'momentum': 0.8, 'n_hidden': [64, 32], 'dropout_rate': 0.0}  |  Accuracy: 0.8902\n"
          ]
        },
        {
          "name": "stderr",
          "output_type": "stream",
          "text": [
            "Hyperparameter Search:  62%|██████▎   | 60/96 [06:54<03:05,  5.16s/it]"
          ]
        },
        {
          "name": "stdout",
          "output_type": "stream",
          "text": [
            "Parameters: {'epochs': 100, 'batch_size': 32, 'learning_rate': 0.001, 'momentum': 0.8, 'n_hidden': [64], 'dropout_rate': 0.1}  |  Accuracy: 0.8485\n"
          ]
        },
        {
          "name": "stderr",
          "output_type": "stream",
          "text": [
            "Hyperparameter Search:  64%|██████▎   | 61/96 [07:01<03:21,  5.76s/it]"
          ]
        },
        {
          "name": "stdout",
          "output_type": "stream",
          "text": [
            "Parameters: {'epochs': 150, 'batch_size': 32, 'learning_rate': 0.001, 'momentum': 0.8, 'n_hidden': [64], 'dropout_rate': 0.1}  |  Accuracy: 0.9091\n"
          ]
        },
        {
          "name": "stderr",
          "output_type": "stream",
          "text": [
            "Hyperparameter Search:  65%|██████▍   | 62/96 [07:06<03:05,  5.46s/it]"
          ]
        },
        {
          "name": "stdout",
          "output_type": "stream",
          "text": [
            "Parameters: {'epochs': 150, 'batch_size': 64, 'learning_rate': 0.01, 'momentum': 0.9, 'n_hidden': [64], 'dropout_rate': 0.0}  |  Accuracy: 0.9470\n"
          ]
        },
        {
          "name": "stderr",
          "output_type": "stream",
          "text": [
            "Hyperparameter Search:  66%|██████▌   | 63/96 [07:12<03:12,  5.83s/it]"
          ]
        },
        {
          "name": "stdout",
          "output_type": "stream",
          "text": [
            "Parameters: {'epochs': 100, 'batch_size': 64, 'learning_rate': 0.001, 'momentum': 0.8, 'n_hidden': [128, 64], 'dropout_rate': 0.1}  |  Accuracy: 0.8977\n"
          ]
        },
        {
          "name": "stderr",
          "output_type": "stream",
          "text": [
            "Hyperparameter Search:  67%|██████▋   | 64/96 [07:25<04:12,  7.88s/it]"
          ]
        },
        {
          "name": "stdout",
          "output_type": "stream",
          "text": [
            "Parameters: {'epochs': 150, 'batch_size': 32, 'learning_rate': 0.01, 'momentum': 0.9, 'n_hidden': [128, 64], 'dropout_rate': 0.0}  |  Accuracy: 0.9394\n"
          ]
        },
        {
          "name": "stderr",
          "output_type": "stream",
          "text": [
            "Hyperparameter Search:  68%|██████▊   | 65/96 [07:35<04:24,  8.54s/it]"
          ]
        },
        {
          "name": "stdout",
          "output_type": "stream",
          "text": [
            "Parameters: {'epochs': 150, 'batch_size': 64, 'learning_rate': 0.001, 'momentum': 0.9, 'n_hidden': [128, 64], 'dropout_rate': 0.1}  |  Accuracy: 0.9242\n"
          ]
        },
        {
          "name": "stderr",
          "output_type": "stream",
          "text": [
            "Hyperparameter Search:  69%|██████▉   | 66/96 [07:40<03:44,  7.48s/it]"
          ]
        },
        {
          "name": "stdout",
          "output_type": "stream",
          "text": [
            "Parameters: {'epochs': 100, 'batch_size': 32, 'learning_rate': 0.001, 'momentum': 0.8, 'n_hidden': [64], 'dropout_rate': 0.0}  |  Accuracy: 0.8523\n"
          ]
        },
        {
          "name": "stderr",
          "output_type": "stream",
          "text": [
            "Hyperparameter Search:  70%|██████▉   | 67/96 [07:45<03:15,  6.74s/it]"
          ]
        },
        {
          "name": "stdout",
          "output_type": "stream",
          "text": [
            "Parameters: {'epochs': 100, 'batch_size': 32, 'learning_rate': 0.01, 'momentum': 0.8, 'n_hidden': [64, 32], 'dropout_rate': 0.1}  |  Accuracy: 0.9394\n"
          ]
        },
        {
          "name": "stderr",
          "output_type": "stream",
          "text": [
            "Hyperparameter Search:  71%|███████   | 68/96 [07:50<02:55,  6.25s/it]"
          ]
        },
        {
          "name": "stdout",
          "output_type": "stream",
          "text": [
            "Parameters: {'epochs': 100, 'batch_size': 32, 'learning_rate': 0.001, 'momentum': 0.8, 'n_hidden': [64, 32], 'dropout_rate': 0.1}  |  Accuracy: 0.8750\n"
          ]
        },
        {
          "name": "stderr",
          "output_type": "stream",
          "text": [
            "Hyperparameter Search:  72%|███████▏  | 69/96 [07:57<02:52,  6.40s/it]"
          ]
        },
        {
          "name": "stdout",
          "output_type": "stream",
          "text": [
            "Parameters: {'epochs': 100, 'batch_size': 64, 'learning_rate': 0.001, 'momentum': 0.8, 'n_hidden': [128, 64], 'dropout_rate': 0.1}  |  Accuracy: 0.9053\n"
          ]
        },
        {
          "name": "stderr",
          "output_type": "stream",
          "text": [
            "Hyperparameter Search:  73%|███████▎  | 70/96 [08:02<02:35,  5.98s/it]"
          ]
        },
        {
          "name": "stdout",
          "output_type": "stream",
          "text": [
            "Parameters: {'epochs': 150, 'batch_size': 64, 'learning_rate': 0.01, 'momentum': 0.8, 'n_hidden': [64, 32], 'dropout_rate': 0.0}  |  Accuracy: 0.9205\n"
          ]
        },
        {
          "name": "stderr",
          "output_type": "stream",
          "text": [
            "Hyperparameter Search:  74%|███████▍  | 71/96 [08:05<02:10,  5.22s/it]"
          ]
        },
        {
          "name": "stdout",
          "output_type": "stream",
          "text": [
            "Parameters: {'epochs': 100, 'batch_size': 64, 'learning_rate': 0.01, 'momentum': 0.9, 'n_hidden': [64, 32], 'dropout_rate': 0.1}  |  Accuracy: 0.9356\n"
          ]
        },
        {
          "name": "stderr",
          "output_type": "stream",
          "text": [
            "Hyperparameter Search:  75%|███████▌  | 72/96 [08:13<02:19,  5.81s/it]"
          ]
        },
        {
          "name": "stdout",
          "output_type": "stream",
          "text": [
            "Parameters: {'epochs': 150, 'batch_size': 32, 'learning_rate': 0.001, 'momentum': 0.8, 'n_hidden': [64, 32], 'dropout_rate': 0.1}  |  Accuracy: 0.9015\n"
          ]
        },
        {
          "name": "stderr",
          "output_type": "stream",
          "text": [
            "Hyperparameter Search:  76%|███████▌  | 73/96 [08:17<02:04,  5.43s/it]"
          ]
        },
        {
          "name": "stdout",
          "output_type": "stream",
          "text": [
            "Parameters: {'epochs': 100, 'batch_size': 32, 'learning_rate': 0.01, 'momentum': 0.9, 'n_hidden': [64], 'dropout_rate': 0.1}  |  Accuracy: 0.9508\n"
          ]
        },
        {
          "name": "stderr",
          "output_type": "stream",
          "text": [
            "Hyperparameter Search:  77%|███████▋  | 74/96 [08:22<01:53,  5.15s/it]"
          ]
        },
        {
          "name": "stdout",
          "output_type": "stream",
          "text": [
            "Parameters: {'epochs': 100, 'batch_size': 32, 'learning_rate': 0.01, 'momentum': 0.8, 'n_hidden': [64], 'dropout_rate': 0.1}  |  Accuracy: 0.9508\n"
          ]
        },
        {
          "name": "stderr",
          "output_type": "stream",
          "text": [
            "Hyperparameter Search:  78%|███████▊  | 75/96 [08:31<02:17,  6.56s/it]"
          ]
        },
        {
          "name": "stdout",
          "output_type": "stream",
          "text": [
            "Parameters: {'epochs': 150, 'batch_size': 64, 'learning_rate': 0.01, 'momentum': 0.9, 'n_hidden': [128, 64], 'dropout_rate': 0.1}  |  Accuracy: 0.9280\n"
          ]
        },
        {
          "name": "stderr",
          "output_type": "stream",
          "text": [
            "Hyperparameter Search:  79%|███████▉  | 76/96 [08:38<02:09,  6.50s/it]"
          ]
        },
        {
          "name": "stdout",
          "output_type": "stream",
          "text": [
            "Parameters: {'epochs': 100, 'batch_size': 64, 'learning_rate': 0.01, 'momentum': 0.8, 'n_hidden': [128, 64], 'dropout_rate': 0.0}  |  Accuracy: 0.9394\n"
          ]
        },
        {
          "name": "stderr",
          "output_type": "stream",
          "text": [
            "Hyperparameter Search:  80%|████████  | 77/96 [08:45<02:05,  6.59s/it]"
          ]
        },
        {
          "name": "stdout",
          "output_type": "stream",
          "text": [
            "Parameters: {'epochs': 150, 'batch_size': 32, 'learning_rate': 0.001, 'momentum': 0.9, 'n_hidden': [64], 'dropout_rate': 0.0}  |  Accuracy: 0.9167\n"
          ]
        },
        {
          "name": "stderr",
          "output_type": "stream",
          "text": [
            "Hyperparameter Search:  81%|████████▏ | 78/96 [08:49<01:48,  6.02s/it]"
          ]
        },
        {
          "name": "stdout",
          "output_type": "stream",
          "text": [
            "Parameters: {'epochs': 150, 'batch_size': 64, 'learning_rate': 0.001, 'momentum': 0.8, 'n_hidden': [64], 'dropout_rate': 0.0}  |  Accuracy: 0.9091\n"
          ]
        },
        {
          "name": "stderr",
          "output_type": "stream",
          "text": [
            "Hyperparameter Search:  82%|████████▏ | 79/96 [08:54<01:35,  5.61s/it]"
          ]
        },
        {
          "name": "stdout",
          "output_type": "stream",
          "text": [
            "Parameters: {'epochs': 150, 'batch_size': 64, 'learning_rate': 0.01, 'momentum': 0.8, 'n_hidden': [64], 'dropout_rate': 0.0}  |  Accuracy: 0.9394\n"
          ]
        },
        {
          "name": "stderr",
          "output_type": "stream",
          "text": [
            "Hyperparameter Search:  83%|████████▎ | 80/96 [08:59<01:26,  5.39s/it]"
          ]
        },
        {
          "name": "stdout",
          "output_type": "stream",
          "text": [
            "Parameters: {'epochs': 150, 'batch_size': 64, 'learning_rate': 0.001, 'momentum': 0.8, 'n_hidden': [64], 'dropout_rate': 0.1}  |  Accuracy: 0.8636\n"
          ]
        },
        {
          "name": "stderr",
          "output_type": "stream",
          "text": [
            "Hyperparameter Search:  84%|████████▍ | 81/96 [09:05<01:24,  5.65s/it]"
          ]
        },
        {
          "name": "stdout",
          "output_type": "stream",
          "text": [
            "Parameters: {'epochs': 100, 'batch_size': 64, 'learning_rate': 0.01, 'momentum': 0.9, 'n_hidden': [128, 64], 'dropout_rate': 0.0}  |  Accuracy: 0.9129\n"
          ]
        },
        {
          "name": "stderr",
          "output_type": "stream",
          "text": [
            "Hyperparameter Search:  85%|████████▌ | 82/96 [09:08<01:09,  4.97s/it]"
          ]
        },
        {
          "name": "stdout",
          "output_type": "stream",
          "text": [
            "Parameters: {'epochs': 100, 'batch_size': 64, 'learning_rate': 0.01, 'momentum': 0.9, 'n_hidden': [64, 32], 'dropout_rate': 0.0}  |  Accuracy: 0.9318\n"
          ]
        },
        {
          "name": "stderr",
          "output_type": "stream",
          "text": [
            "Hyperparameter Search:  86%|████████▋ | 83/96 [09:11<00:57,  4.39s/it]"
          ]
        },
        {
          "name": "stdout",
          "output_type": "stream",
          "text": [
            "Parameters: {'epochs': 100, 'batch_size': 64, 'learning_rate': 0.01, 'momentum': 0.9, 'n_hidden': [64], 'dropout_rate': 0.0}  |  Accuracy: 0.9394\n"
          ]
        },
        {
          "name": "stderr",
          "output_type": "stream",
          "text": [
            "Hyperparameter Search:  88%|████████▊ | 84/96 [09:20<01:07,  5.62s/it]"
          ]
        },
        {
          "name": "stdout",
          "output_type": "stream",
          "text": [
            "Parameters: {'epochs': 100, 'batch_size': 32, 'learning_rate': 0.01, 'momentum': 0.8, 'n_hidden': [128, 64], 'dropout_rate': 0.1}  |  Accuracy: 0.9356\n"
          ]
        },
        {
          "name": "stderr",
          "output_type": "stream",
          "text": [
            "Hyperparameter Search:  89%|████████▊ | 85/96 [09:23<00:53,  4.91s/it]"
          ]
        },
        {
          "name": "stdout",
          "output_type": "stream",
          "text": [
            "Parameters: {'epochs': 100, 'batch_size': 64, 'learning_rate': 0.01, 'momentum': 0.8, 'n_hidden': [64], 'dropout_rate': 0.1}  |  Accuracy: 0.9621\n"
          ]
        },
        {
          "name": "stderr",
          "output_type": "stream",
          "text": [
            "Hyperparameter Search:  90%|████████▉ | 86/96 [09:32<00:59,  5.94s/it]"
          ]
        },
        {
          "name": "stdout",
          "output_type": "stream",
          "text": [
            "Parameters: {'epochs': 100, 'batch_size': 32, 'learning_rate': 0.01, 'momentum': 0.8, 'n_hidden': [128, 64], 'dropout_rate': 0.0}  |  Accuracy: 0.9242\n"
          ]
        },
        {
          "name": "stderr",
          "output_type": "stream",
          "text": [
            "Hyperparameter Search:  91%|█████████ | 87/96 [09:44<01:10,  7.83s/it]"
          ]
        },
        {
          "name": "stdout",
          "output_type": "stream",
          "text": [
            "Parameters: {'epochs': 150, 'batch_size': 32, 'learning_rate': 0.001, 'momentum': 0.8, 'n_hidden': [128, 64], 'dropout_rate': 0.0}  |  Accuracy: 0.9053\n"
          ]
        },
        {
          "name": "stderr",
          "output_type": "stream",
          "text": [
            "Hyperparameter Search:  92%|█████████▏| 88/96 [09:57<01:14,  9.32s/it]"
          ]
        },
        {
          "name": "stdout",
          "output_type": "stream",
          "text": [
            "Parameters: {'epochs': 150, 'batch_size': 32, 'learning_rate': 0.001, 'momentum': 0.9, 'n_hidden': [128, 64], 'dropout_rate': 0.1}  |  Accuracy: 0.9015\n"
          ]
        },
        {
          "name": "stderr",
          "output_type": "stream",
          "text": [
            "Hyperparameter Search:  93%|█████████▎| 89/96 [10:00<00:52,  7.48s/it]"
          ]
        },
        {
          "name": "stdout",
          "output_type": "stream",
          "text": [
            "Parameters: {'epochs': 100, 'batch_size': 64, 'learning_rate': 0.001, 'momentum': 0.9, 'n_hidden': [64], 'dropout_rate': 0.0}  |  Accuracy: 0.8712\n"
          ]
        },
        {
          "name": "stderr",
          "output_type": "stream",
          "text": [
            "Hyperparameter Search:  94%|█████████▍| 90/96 [10:12<00:53,  8.98s/it]"
          ]
        },
        {
          "name": "stdout",
          "output_type": "stream",
          "text": [
            "Parameters: {'epochs': 150, 'batch_size': 32, 'learning_rate': 0.001, 'momentum': 0.9, 'n_hidden': [128, 64], 'dropout_rate': 0.0}  |  Accuracy: 0.9091\n"
          ]
        },
        {
          "name": "stderr",
          "output_type": "stream",
          "text": [
            "Hyperparameter Search:  95%|█████████▍| 91/96 [10:17<00:38,  7.64s/it]"
          ]
        },
        {
          "name": "stdout",
          "output_type": "stream",
          "text": [
            "Parameters: {'epochs': 100, 'batch_size': 32, 'learning_rate': 0.001, 'momentum': 0.8, 'n_hidden': [64], 'dropout_rate': 0.1}  |  Accuracy: 0.8371\n"
          ]
        },
        {
          "name": "stderr",
          "output_type": "stream",
          "text": [
            "Hyperparameter Search:  96%|█████████▌| 92/96 [10:29<00:36,  9.07s/it]"
          ]
        },
        {
          "name": "stdout",
          "output_type": "stream",
          "text": [
            "Parameters: {'epochs': 150, 'batch_size': 32, 'learning_rate': 0.001, 'momentum': 0.8, 'n_hidden': [128, 64], 'dropout_rate': 0.0}  |  Accuracy: 0.8788\n"
          ]
        },
        {
          "name": "stderr",
          "output_type": "stream",
          "text": [
            "Hyperparameter Search:  97%|█████████▋| 93/96 [10:32<00:21,  7.27s/it]"
          ]
        },
        {
          "name": "stdout",
          "output_type": "stream",
          "text": [
            "Parameters: {'epochs': 100, 'batch_size': 64, 'learning_rate': 0.001, 'momentum': 0.8, 'n_hidden': [64], 'dropout_rate': 0.0}  |  Accuracy: 0.8523\n"
          ]
        },
        {
          "name": "stderr",
          "output_type": "stream",
          "text": [
            "Hyperparameter Search:  98%|█████████▊| 94/96 [10:39<00:14,  7.14s/it]"
          ]
        },
        {
          "name": "stdout",
          "output_type": "stream",
          "text": [
            "Parameters: {'epochs': 150, 'batch_size': 32, 'learning_rate': 0.01, 'momentum': 0.9, 'n_hidden': [64], 'dropout_rate': 0.1}  |  Accuracy: 0.9583\n"
          ]
        },
        {
          "name": "stderr",
          "output_type": "stream",
          "text": [
            "Hyperparameter Search:  99%|█████████▉| 95/96 [10:44<00:06,  6.38s/it]"
          ]
        },
        {
          "name": "stdout",
          "output_type": "stream",
          "text": [
            "Parameters: {'epochs': 100, 'batch_size': 32, 'learning_rate': 0.01, 'momentum': 0.9, 'n_hidden': [64], 'dropout_rate': 0.1}  |  Accuracy: 0.9545\n"
          ]
        },
        {
          "name": "stderr",
          "output_type": "stream",
          "text": [
            "Hyperparameter Search: 100%|██████████| 96/96 [10:47<00:00,  6.75s/it]"
          ]
        },
        {
          "name": "stdout",
          "output_type": "stream",
          "text": [
            "Parameters: {'epochs': 100, 'batch_size': 64, 'learning_rate': 0.001, 'momentum': 0.9, 'n_hidden': [64, 32], 'dropout_rate': 0.1}  |  Accuracy: 0.8750\n",
            "\n",
            "Best Hyperparameters Found: {'epochs': 150, 'batch_size': 32, 'learning_rate': 0.01, 'momentum': 0.8, 'n_hidden': [64], 'dropout_rate': 0.1}\n",
            "Best Accuracy: 0.9697\n",
            "\n",
            "Best hyperparameters: {'epochs': 150, 'batch_size': 32, 'learning_rate': 0.01, 'momentum': 0.8, 'n_hidden': [64], 'dropout_rate': 0.1}\n",
            "Epoch 1/150 - loss: 0.6866 - accuracy: 0.5625\n",
            "Epoch 2/150 - loss: 0.6563 - accuracy: 0.6543\n",
            "Epoch 3/150 - loss: 0.6333 - accuracy: 0.6826\n",
            "Epoch 4/150 - loss: 0.6135 - accuracy: 0.7031\n"
          ]
        },
        {
          "name": "stderr",
          "output_type": "stream",
          "text": [
            "\n"
          ]
        },
        {
          "name": "stdout",
          "output_type": "stream",
          "text": [
            "Epoch 5/150 - loss: 0.5868 - accuracy: 0.7432\n",
            "Epoch 6/150 - loss: 0.5497 - accuracy: 0.7812\n",
            "Epoch 7/150 - loss: 0.5166 - accuracy: 0.8086\n",
            "Epoch 8/150 - loss: 0.4745 - accuracy: 0.8340\n",
            "Epoch 9/150 - loss: 0.4389 - accuracy: 0.8447\n",
            "Epoch 10/150 - loss: 0.3980 - accuracy: 0.8613\n",
            "Epoch 11/150 - loss: 0.3694 - accuracy: 0.8838\n",
            "Epoch 12/150 - loss: 0.3408 - accuracy: 0.8867\n",
            "Epoch 13/150 - loss: 0.3005 - accuracy: 0.9043\n",
            "Epoch 14/150 - loss: 0.2816 - accuracy: 0.9229\n",
            "Epoch 15/150 - loss: 0.2601 - accuracy: 0.9326\n",
            "Epoch 16/150 - loss: 0.2394 - accuracy: 0.9336\n",
            "Epoch 17/150 - loss: 0.2254 - accuracy: 0.9355\n",
            "Epoch 18/150 - loss: 0.1940 - accuracy: 0.9502\n",
            "Epoch 19/150 - loss: 0.1771 - accuracy: 0.9570\n",
            "Epoch 20/150 - loss: 0.1691 - accuracy: 0.9502\n",
            "Epoch 21/150 - loss: 0.1564 - accuracy: 0.9600\n",
            "Epoch 22/150 - loss: 0.1437 - accuracy: 0.9658\n",
            "Epoch 23/150 - loss: 0.1398 - accuracy: 0.9590\n",
            "Epoch 24/150 - loss: 0.1219 - accuracy: 0.9756\n",
            "Epoch 25/150 - loss: 0.1129 - accuracy: 0.9775\n",
            "Epoch 26/150 - loss: 0.1079 - accuracy: 0.9766\n",
            "Epoch 27/150 - loss: 0.1074 - accuracy: 0.9766\n",
            "Epoch 28/150 - loss: 0.1012 - accuracy: 0.9775\n",
            "Epoch 29/150 - loss: 0.0961 - accuracy: 0.9795\n",
            "Epoch 30/150 - loss: 0.0842 - accuracy: 0.9814\n",
            "Epoch 31/150 - loss: 0.0853 - accuracy: 0.9785\n",
            "Epoch 32/150 - loss: 0.0763 - accuracy: 0.9854\n",
            "Epoch 33/150 - loss: 0.0760 - accuracy: 0.9873\n",
            "Epoch 34/150 - loss: 0.0677 - accuracy: 0.9883\n",
            "Epoch 35/150 - loss: 0.0613 - accuracy: 0.9912\n",
            "Epoch 36/150 - loss: 0.0606 - accuracy: 0.9893\n",
            "Epoch 37/150 - loss: 0.0609 - accuracy: 0.9902\n",
            "Epoch 38/150 - loss: 0.0599 - accuracy: 0.9912\n",
            "Epoch 39/150 - loss: 0.0507 - accuracy: 0.9932\n",
            "Epoch 40/150 - loss: 0.0551 - accuracy: 0.9883\n",
            "Epoch 41/150 - loss: 0.0484 - accuracy: 0.9951\n",
            "Epoch 42/150 - loss: 0.0450 - accuracy: 0.9941\n",
            "Epoch 43/150 - loss: 0.0486 - accuracy: 0.9941\n",
            "Epoch 44/150 - loss: 0.0436 - accuracy: 0.9932\n",
            "Epoch 45/150 - loss: 0.0475 - accuracy: 0.9912\n",
            "Epoch 46/150 - loss: 0.0371 - accuracy: 0.9971\n",
            "Epoch 47/150 - loss: 0.0433 - accuracy: 0.9941\n",
            "Epoch 48/150 - loss: 0.0379 - accuracy: 0.9941\n",
            "Epoch 49/150 - loss: 0.0427 - accuracy: 0.9932\n",
            "Epoch 50/150 - loss: 0.0369 - accuracy: 0.9951\n",
            "Epoch 51/150 - loss: 0.0306 - accuracy: 0.9980\n",
            "Epoch 52/150 - loss: 0.0335 - accuracy: 0.9961\n",
            "Epoch 53/150 - loss: 0.0293 - accuracy: 0.9971\n",
            "Epoch 54/150 - loss: 0.0356 - accuracy: 0.9951\n",
            "Epoch 55/150 - loss: 0.0360 - accuracy: 0.9971\n",
            "Epoch 56/150 - loss: 0.0307 - accuracy: 0.9971\n",
            "Epoch 57/150 - loss: 0.0271 - accuracy: 0.9990\n",
            "Epoch 58/150 - loss: 0.0265 - accuracy: 1.0000\n",
            "Epoch 59/150 - loss: 0.0250 - accuracy: 0.9990\n",
            "Epoch 60/150 - loss: 0.0250 - accuracy: 0.9990\n",
            "Epoch 61/150 - loss: 0.0272 - accuracy: 0.9961\n",
            "Epoch 62/150 - loss: 0.0241 - accuracy: 0.9990\n",
            "Epoch 63/150 - loss: 0.0242 - accuracy: 1.0000\n",
            "Epoch 64/150 - loss: 0.0215 - accuracy: 0.9990\n",
            "Epoch 65/150 - loss: 0.0269 - accuracy: 0.9951\n",
            "Epoch 66/150 - loss: 0.0273 - accuracy: 0.9951\n",
            "Epoch 67/150 - loss: 0.0218 - accuracy: 0.9971\n",
            "Epoch 68/150 - loss: 0.0200 - accuracy: 0.9990\n",
            "Epoch 69/150 - loss: 0.0206 - accuracy: 0.9990\n",
            "Epoch 70/150 - loss: 0.0192 - accuracy: 0.9990\n",
            "Epoch 71/150 - loss: 0.0215 - accuracy: 0.9980\n",
            "Epoch 72/150 - loss: 0.0213 - accuracy: 1.0000\n",
            "Epoch 73/150 - loss: 0.0177 - accuracy: 0.9980\n",
            "Epoch 74/150 - loss: 0.0186 - accuracy: 1.0000\n",
            "Epoch 75/150 - loss: 0.0176 - accuracy: 0.9990\n",
            "Epoch 76/150 - loss: 0.0182 - accuracy: 1.0000\n",
            "Epoch 77/150 - loss: 0.0184 - accuracy: 0.9990\n",
            "Epoch 78/150 - loss: 0.0182 - accuracy: 0.9990\n",
            "Epoch 79/150 - loss: 0.0166 - accuracy: 1.0000\n",
            "Epoch 80/150 - loss: 0.0182 - accuracy: 0.9971\n",
            "Epoch 81/150 - loss: 0.0147 - accuracy: 1.0000\n",
            "Epoch 82/150 - loss: 0.0166 - accuracy: 0.9990\n",
            "Epoch 83/150 - loss: 0.0151 - accuracy: 0.9990\n",
            "Epoch 84/150 - loss: 0.0167 - accuracy: 1.0000\n",
            "Epoch 85/150 - loss: 0.0143 - accuracy: 1.0000\n",
            "Epoch 86/150 - loss: 0.0150 - accuracy: 0.9980\n",
            "Epoch 87/150 - loss: 0.0136 - accuracy: 0.9990\n",
            "Epoch 88/150 - loss: 0.0144 - accuracy: 0.9990\n",
            "Epoch 89/150 - loss: 0.0137 - accuracy: 1.0000\n",
            "Epoch 90/150 - loss: 0.0133 - accuracy: 0.9990\n",
            "Epoch 91/150 - loss: 0.0132 - accuracy: 1.0000\n",
            "Epoch 92/150 - loss: 0.0131 - accuracy: 1.0000\n",
            "Epoch 93/150 - loss: 0.0118 - accuracy: 0.9990\n",
            "Epoch 94/150 - loss: 0.0138 - accuracy: 0.9990\n",
            "Epoch 95/150 - loss: 0.0114 - accuracy: 0.9990\n",
            "Epoch 96/150 - loss: 0.0121 - accuracy: 1.0000\n",
            "Epoch 97/150 - loss: 0.0133 - accuracy: 0.9990\n",
            "Epoch 98/150 - loss: 0.0113 - accuracy: 1.0000\n",
            "Epoch 99/150 - loss: 0.0123 - accuracy: 0.9980\n",
            "Epoch 100/150 - loss: 0.0121 - accuracy: 0.9990\n",
            "Epoch 101/150 - loss: 0.0104 - accuracy: 1.0000\n",
            "Epoch 102/150 - loss: 0.0110 - accuracy: 1.0000\n",
            "Epoch 103/150 - loss: 0.0090 - accuracy: 1.0000\n",
            "Epoch 104/150 - loss: 0.0119 - accuracy: 0.9990\n",
            "Epoch 105/150 - loss: 0.0114 - accuracy: 1.0000\n",
            "Epoch 106/150 - loss: 0.0094 - accuracy: 1.0000\n",
            "Epoch 107/150 - loss: 0.0100 - accuracy: 1.0000\n",
            "Epoch 108/150 - loss: 0.0099 - accuracy: 1.0000\n",
            "Epoch 109/150 - loss: 0.0124 - accuracy: 0.9990\n",
            "Epoch 110/150 - loss: 0.0103 - accuracy: 0.9990\n",
            "Epoch 111/150 - loss: 0.0098 - accuracy: 1.0000\n",
            "Epoch 112/150 - loss: 0.0093 - accuracy: 1.0000\n",
            "Epoch 113/150 - loss: 0.0107 - accuracy: 0.9990\n",
            "Epoch 114/150 - loss: 0.0099 - accuracy: 0.9990\n",
            "Epoch 115/150 - loss: 0.0087 - accuracy: 1.0000\n",
            "Epoch 116/150 - loss: 0.0080 - accuracy: 1.0000\n",
            "Epoch 117/150 - loss: 0.0076 - accuracy: 1.0000\n",
            "Epoch 118/150 - loss: 0.0088 - accuracy: 1.0000\n",
            "Epoch 119/150 - loss: 0.0079 - accuracy: 1.0000\n",
            "Epoch 120/150 - loss: 0.0095 - accuracy: 1.0000\n",
            "Epoch 121/150 - loss: 0.0093 - accuracy: 1.0000\n",
            "Epoch 122/150 - loss: 0.0082 - accuracy: 1.0000\n",
            "Epoch 123/150 - loss: 0.0081 - accuracy: 1.0000\n",
            "Epoch 124/150 - loss: 0.0096 - accuracy: 0.9980\n",
            "Epoch 125/150 - loss: 0.0087 - accuracy: 0.9990\n",
            "Epoch 126/150 - loss: 0.0088 - accuracy: 1.0000\n",
            "Epoch 127/150 - loss: 0.0076 - accuracy: 1.0000\n",
            "Epoch 128/150 - loss: 0.0083 - accuracy: 1.0000\n",
            "Epoch 129/150 - loss: 0.0086 - accuracy: 0.9980\n",
            "Epoch 130/150 - loss: 0.0081 - accuracy: 1.0000\n",
            "Epoch 131/150 - loss: 0.0073 - accuracy: 0.9990\n",
            "Epoch 132/150 - loss: 0.0060 - accuracy: 1.0000\n",
            "Epoch 133/150 - loss: 0.0073 - accuracy: 1.0000\n",
            "Epoch 134/150 - loss: 0.0063 - accuracy: 1.0000\n",
            "Epoch 135/150 - loss: 0.0075 - accuracy: 0.9990\n",
            "Epoch 136/150 - loss: 0.0068 - accuracy: 1.0000\n",
            "Epoch 137/150 - loss: 0.0061 - accuracy: 1.0000\n",
            "Epoch 138/150 - loss: 0.0068 - accuracy: 1.0000\n",
            "Epoch 139/150 - loss: 0.0072 - accuracy: 1.0000\n",
            "Epoch 140/150 - loss: 0.0070 - accuracy: 0.9990\n",
            "Epoch 141/150 - loss: 0.0064 - accuracy: 1.0000\n",
            "Epoch 142/150 - loss: 0.0067 - accuracy: 0.9990\n",
            "Epoch 143/150 - loss: 0.0061 - accuracy: 1.0000\n",
            "Epoch 144/150 - loss: 0.0060 - accuracy: 1.0000\n",
            "Epoch 145/150 - loss: 0.0068 - accuracy: 0.9990\n",
            "Epoch 146/150 - loss: 0.0074 - accuracy: 1.0000\n",
            "Epoch 147/150 - loss: 0.0068 - accuracy: 0.9990\n",
            "Epoch 148/150 - loss: 0.0063 - accuracy: 1.0000\n",
            "Epoch 149/150 - loss: 0.0058 - accuracy: 1.0000\n",
            "Epoch 150/150 - loss: 0.0063 - accuracy: 0.9990\n",
            "\n",
            "Test accuracy with best hyperparameters: 0.9469\n",
            "Confusion Matrix: TP=274, FP=15, TN=261, FN=15\n",
            "Precision = 0.9481, Recall = 0.9481, F1 = 0.9481\n",
            "Balanced Accuracy = 0.9469\n",
            "DNN Model saved to folder 'dnn_model_weights'. JSON = 'dnn_model_weights\\dnn_model_1_architecture.json'\n",
            "DNN Model saved with prefix dnn_model_1\n"
          ]
        }
      ],
      "source": [
        "if mode == ModelRunMode.TRAIN.value:\n",
        "    # Load datasets using TF-IDF vectorization\n",
        "    X_train, y_train, X_test, y_test, vocab, idf = Dataset.prepare_train_test_tfidf(input_csv=input_csv, output_csv=output_csv, test_size=test_size, random_state=random_state, max_vocab_size=max_vocab_size, min_freq=min_freq)\n",
        "\n",
        "    # Create Dataset objects for training and test data\n",
        "    train_ds_full = Dataset(X=X_train, Y=y_train)\n",
        "    test_ds = Dataset(X=X_test, Y=y_test)\n",
        "\n",
        "    # Display dimensions of the training and test datasets\n",
        "    print(f\"Train set has {train_ds_full.nrows()} rows and {train_ds_full.ncols()} columns\")\n",
        "    print(f\"Test set has {test_ds.nrows()} rows and {test_ds.ncols()} columns\\n\")\n",
        "\n",
        "    # Split the full training dataset into training and validation subsets (70% training, 30% validation)\n",
        "    n_train = train_ds_full.X.shape[0]\n",
        "    indices = np.arange(n_train)\n",
        "    np.random.shuffle(indices)\n",
        "    split_idx = int((1 - validation_size) * n_train)\n",
        "    train_idx = indices[:split_idx]\n",
        "    val_idx = indices[split_idx:]\n",
        "    train_ds = Dataset(X=train_ds_full.X[train_idx], Y=train_ds_full.Y[train_idx])\n",
        "    val_ds = Dataset(X=train_ds_full.X[val_idx], Y=train_ds_full.Y[val_idx])\n",
        "\n",
        "    # More varied epochs to handle both simpler and more complex tasks\n",
        "    epochs_list = [100, 150]\n",
        "\n",
        "    # A wider range of batch sizes\n",
        "    batch_size_list = [32, 64]\n",
        "\n",
        "    # Learning rate from very small to moderate\n",
        "    learning_rate_list = [0.001, 0.01]\n",
        "\n",
        "    # Momentum slightly varied around typical defaults\n",
        "    momentum_list = [0.8, 0.9]\n",
        "\n",
        "    # Different hidden layer topologies\n",
        "    hidden_layers_list = [\n",
        "        [64],\n",
        "        [64, 32],\n",
        "        [128, 64]\n",
        "    ]\n",
        "\n",
        "    # Add mild to moderate dropout levels\n",
        "    dropout_list = [0.0, 0.1]\n",
        "\n",
        "    # Perform hyperparameter tuning using the training and validation sets\n",
        "    print(\"Starting hyperparameter tuning...\")\n",
        "    best_params = hyperparameter_optimization(train_ds, val_ds, epochs_list, batch_size_list, learning_rate_list, momentum_list, hidden_layers_list, dropout_list, n_iter=96)\n",
        "    print(\"\\nBest hyperparameters:\", best_params)\n",
        "\n",
        "    # Retrain DNN model on the full training data using the best hyperparameters\n",
        "    final_model = NeuralNetwork(epochs=best_params['epochs'], batch_size=best_params['batch_size'], optimizer=Optimizer(learning_rate=best_params['learning_rate'], momentum=best_params['momentum']), verbose=verbose, loss=BinaryCrossEntropy,  metric=accuracy)\n",
        "\n",
        "    # Build model Layers\n",
        "    n_features = train_ds.X.shape[1]\n",
        "    for i, units in enumerate(best_params['n_hidden']):\n",
        "        if i == 0:\n",
        "            final_model.add(DenseLayer(units, (n_features,),dropout_rate=best_params['dropout_rate']))\n",
        "        else:\n",
        "            final_model.add(DenseLayer(units,dropout_rate=best_params['dropout_rate']))\n",
        "        final_model.add(ReLUActivation())\n",
        "        \n",
        "    final_model.add(DenseLayer(1))\n",
        "    final_model.add(SigmoidActivation())\n",
        "\n",
        "    # Fit model\n",
        "    final_model.fit(train_ds)\n",
        "\n",
        "    # Get predictions on the test set\n",
        "    preds = final_model.predict(test_ds)\n",
        "\n",
        "    # Convert probabilities to binary class labels using a threshold of 0.5\n",
        "    preds_binary = (preds > 0.5).astype(int)\n",
        "\n",
        "    # Evaluate the final model on the test set\n",
        "    test_acc = final_model.score(test_ds, preds)\n",
        "    print(f\"\\nTest accuracy with best hyperparameters: {test_acc:.4f}\")\n",
        "\n",
        "    # Evaluate the final model using binary predictions for the confusion matrix and other metrics\n",
        "    TP, FP, TN, FN = confusion_matrix(y_test, preds_binary)\n",
        "    prec, rec, f1 = precision_recall_f1(y_test, preds_binary)\n",
        "    bal_acc = balanced_accuracy(y_test, preds_binary)\n",
        "\n",
        "    print(\"Confusion Matrix: TP={}, FP={}, TN={}, FN={}\".format(TP, FP, TN, FN))\n",
        "    print(\"Precision = {:.4f}, Recall = {:.4f}, F1 = {:.4f}\".format(prec, rec, f1))\n",
        "    print(\"Balanced Accuracy = {:.4f}\".format(bal_acc))\n",
        "\n",
        "    # Save the model, plus vocab & idf, so classification can replicate\n",
        "    save_dnn_model(dnn=final_model, vocab=vocab, idf=idf, model_prefix=model_prefix)\n",
        "    print(f\"DNN Model saved with prefix {model_prefix}\")\n",
        "\n",
        "if mode == ModelRunMode.CLASSIFY.value:\n",
        "    # Classify new texts using the saved model\n",
        "    Dataset.classify_texts(input_csv=input_csv, output_csv=output_csv, neural_net_class=NeuralNetwork, model_type=ModelType.DNN ,model_prefix=model_prefix)"
      ]
    }
  ],
  "metadata": {
    "kernelspec": {
      "display_name": "tf_gpu",
      "language": "python",
      "name": "python3"
    },
    "language_info": {
      "codemirror_mode": {
        "name": "ipython",
        "version": 3
      },
      "file_extension": ".py",
      "mimetype": "text/x-python",
      "name": "python",
      "nbconvert_exporter": "python",
      "pygments_lexer": "ipython3",
      "version": "3.10.16"
    }
  },
  "nbformat": 4,
  "nbformat_minor": 5
}
