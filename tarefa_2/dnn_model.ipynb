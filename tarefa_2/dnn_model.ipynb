{
  "cells": [
    {
      "cell_type": "markdown",
      "id": "e117c95a",
      "metadata": {},
      "source": [
        "# DNN Model Notebook"
      ]
    },
    {
      "cell_type": "markdown",
      "id": "5f7f3362",
      "metadata": {},
      "source": [
        "```md\n",
        "@authors: miguelrocha and Grupo 03\n",
        "```"
      ]
    },
    {
      "cell_type": "code",
      "execution_count": 1,
      "id": "00553163",
      "metadata": {},
      "outputs": [],
      "source": [
        "# Notebook Imports\n",
        "import numpy as np\n",
        "\n",
        "from models.dnn_model import NeuralNetwork, hyperparameter_optimization\n",
        "from helpers.dataset import Dataset\n",
        "from helpers.enums import ModelRunMode\n",
        "from helpers.layers import DenseLayer\n",
        "from helpers.activation import ReLUActivation, SigmoidActivation\n",
        "from helpers.losses import BinaryCrossEntropy\n",
        "from helpers.optimizer import Optimizer\n",
        "from helpers.metrics import accuracy\n",
        "from helpers.enums import ModelType\n",
        "from helpers.model import save_dnn_model"
      ]
    },
    {
      "cell_type": "code",
      "execution_count": 2,
      "id": "fc6f6268",
      "metadata": {},
      "outputs": [],
      "source": [
        "# Model run mode\n",
        "# Options: \n",
        "#   ModelRunMode.TRAIN.value            (Train the model)\n",
        "#   ModelRunMode.CLASSIFY.value         (Classify data)\n",
        "mode = ModelRunMode.TRAIN.value\n",
        "# Prefix for saving the model files\n",
        "model_prefix = \"dnn_model_1\""
      ]
    },
    {
      "cell_type": "code",
      "execution_count": 3,
      "id": "d6adb728",
      "metadata": {},
      "outputs": [],
      "source": [
        "# Parameters cell\n",
        "if mode == ModelRunMode.TRAIN.value:\n",
        "    # TRAIN mode: Set parameters for training\n",
        "    input_csv = \"../tarefa_1/clean_input_datasets/dataset1_enh_inputs.csv\"              # CSV file with training inputs (ID, Text)\n",
        "    output_csv = \"../tarefa_1/clean_output_datasets/dataset1_enh_outputs.csv\"           # CSV file with training outputs (ID, Label)\n",
        "    test_size = 0.3                                                                     # Proportion of the dataset to use as test data\n",
        "    validation_size = 0.2                                                               # Proportion of the dataset reserved as validation data (used during hyperparameter tuning)\n",
        "    verbose = True                                                                      # Verbosity level enabler\n",
        "    random_state=42                                                                     # Seed for reproducible dataset splitting\n",
        "    max_vocab_size=None                                                                 # Maximum vocabulary size (None implies no limit)\n",
        "    min_freq=1                                                                          # Minimum frequency required for a word to be included in the vocabulary\n",
        "elif mode == ModelRunMode.CLASSIFY.value:\n",
        "    # CLASSIFY mode: Set parameters for classification\n",
        "    input_csv = \"../tarefa_2/classify_input_datasets/dataset2_inputs.csv\"               # CSV file with texts for prediction (ID, Text)\n",
        "    output_csv = \"../tarefa_2/classify_output_datasets/dataset2_outputs_dnn_model.csv\"  # CSV file to store prediction result\n",
        "else:\n",
        "    print(\"The selected option is not valid. Options: \\\"train\\\" or \\\"classify\\\"!\")\n",
        "    SystemExit()"
      ]
    },
    {
      "cell_type": "code",
      "execution_count": 4,
      "id": "e633c6f6",
      "metadata": {},
      "outputs": [
        {
          "name": "stdout",
          "output_type": "stream",
          "text": [
            "Train set has 70 rows and 2124 columns\n",
            "Test set has 30 rows and 2124 columns\n",
            "\n",
            "Starting hyperparameter tuning...\n"
          ]
        },
        {
          "name": "stderr",
          "output_type": "stream",
          "text": [
            "Hyperparameter Search:   1%|          | 1/100 [00:00<00:21,  4.61it/s]"
          ]
        },
        {
          "name": "stdout",
          "output_type": "stream",
          "text": [
            "Parameters: {'epochs': 100, 'batch_size': 16, 'learning_rate': 0.1, 'momentum': 0.8, 'n_hidden': [32], 'dropout_rate': 0.5}  |  Accuracy: 0.4286\n"
          ]
        },
        {
          "name": "stderr",
          "output_type": "stream",
          "text": [
            "Hyperparameter Search:   2%|▏         | 2/100 [00:01<01:33,  1.05it/s]"
          ]
        },
        {
          "name": "stdout",
          "output_type": "stream",
          "text": [
            "Parameters: {'epochs': 100, 'batch_size': 16, 'learning_rate': 0.1, 'momentum': 0.9, 'n_hidden': [128, 64], 'dropout_rate': 0.0}  |  Accuracy: 0.6429\n"
          ]
        },
        {
          "name": "stderr",
          "output_type": "stream",
          "text": [
            "Hyperparameter Search:   3%|▎         | 3/100 [00:02<01:13,  1.32it/s]"
          ]
        },
        {
          "name": "stdout",
          "output_type": "stream",
          "text": [
            "Parameters: {'epochs': 100, 'batch_size': 32, 'learning_rate': 0.1, 'momentum': 0.9, 'n_hidden': [128, 64], 'dropout_rate': 0.0}  |  Accuracy: 0.6429\n"
          ]
        },
        {
          "name": "stderr",
          "output_type": "stream",
          "text": [
            "Hyperparameter Search:   4%|▍         | 4/100 [00:02<01:05,  1.48it/s]"
          ]
        },
        {
          "name": "stdout",
          "output_type": "stream",
          "text": [
            "Parameters: {'epochs': 300, 'batch_size': 16, 'learning_rate': 0.001, 'momentum': 0.9, 'n_hidden': [32], 'dropout_rate': 0.3}  |  Accuracy: 0.4286\n"
          ]
        },
        {
          "name": "stderr",
          "output_type": "stream",
          "text": [
            "Hyperparameter Search:   5%|▌         | 5/100 [00:04<01:33,  1.02it/s]"
          ]
        },
        {
          "name": "stdout",
          "output_type": "stream",
          "text": [
            "Parameters: {'epochs': 200, 'batch_size': 16, 'learning_rate': 0.1, 'momentum': 0.9, 'n_hidden': [64], 'dropout_rate': 0.1}  |  Accuracy: 0.6429\n"
          ]
        },
        {
          "name": "stderr",
          "output_type": "stream",
          "text": [
            "Hyperparameter Search:   6%|▌         | 6/100 [00:05<01:32,  1.02it/s]"
          ]
        },
        {
          "name": "stdout",
          "output_type": "stream",
          "text": [
            "Parameters: {'epochs': 200, 'batch_size': 16, 'learning_rate': 0.1, 'momentum': 0.9, 'n_hidden': [50, 25], 'dropout_rate': 0.1}  |  Accuracy: 0.7143\n"
          ]
        },
        {
          "name": "stderr",
          "output_type": "stream",
          "text": [
            "Hyperparameter Search:   7%|▋         | 7/100 [00:06<01:29,  1.04it/s]"
          ]
        },
        {
          "name": "stdout",
          "output_type": "stream",
          "text": [
            "Parameters: {'epochs': 300, 'batch_size': 32, 'learning_rate': 0.01, 'momentum': 0.9, 'n_hidden': [64, 32], 'dropout_rate': 0.1}  |  Accuracy: 0.6429\n"
          ]
        },
        {
          "name": "stderr",
          "output_type": "stream",
          "text": [
            "Hyperparameter Search:   8%|▊         | 8/100 [00:07<01:41,  1.11s/it]"
          ]
        },
        {
          "name": "stdout",
          "output_type": "stream",
          "text": [
            "Parameters: {'epochs': 100, 'batch_size': 16, 'learning_rate': 0.01, 'momentum': 0.5, 'n_hidden': [128, 64], 'dropout_rate': 0.3}  |  Accuracy: 0.5714\n"
          ]
        },
        {
          "name": "stderr",
          "output_type": "stream",
          "text": [
            "Hyperparameter Search:   9%|▉         | 9/100 [00:08<01:37,  1.07s/it]"
          ]
        },
        {
          "name": "stdout",
          "output_type": "stream",
          "text": [
            "Parameters: {'epochs': 300, 'batch_size': 32, 'learning_rate': 0.001, 'momentum': 0.8, 'n_hidden': [64, 32], 'dropout_rate': 0.05}  |  Accuracy: 0.4286\n"
          ]
        },
        {
          "name": "stderr",
          "output_type": "stream",
          "text": [
            "Hyperparameter Search:  10%|█         | 10/100 [00:10<02:08,  1.42s/it]"
          ]
        },
        {
          "name": "stdout",
          "output_type": "stream",
          "text": [
            "Parameters: {'epochs': 300, 'batch_size': 16, 'learning_rate': 0.001, 'momentum': 0.9, 'n_hidden': [64], 'dropout_rate': 0.0}  |  Accuracy: 0.6429\n"
          ]
        },
        {
          "name": "stderr",
          "output_type": "stream",
          "text": [
            "Hyperparameter Search:  11%|█         | 11/100 [00:11<01:38,  1.11s/it]"
          ]
        },
        {
          "name": "stdout",
          "output_type": "stream",
          "text": [
            "Parameters: {'epochs': 300, 'batch_size': 32, 'learning_rate': 0.01, 'momentum': 0.5, 'n_hidden': [32], 'dropout_rate': 0.05}  |  Accuracy: 0.5714\n"
          ]
        },
        {
          "name": "stderr",
          "output_type": "stream",
          "text": [
            "Hyperparameter Search:  12%|█▏        | 12/100 [00:12<01:50,  1.25s/it]"
          ]
        },
        {
          "name": "stdout",
          "output_type": "stream",
          "text": [
            "Parameters: {'epochs': 300, 'batch_size': 32, 'learning_rate': 0.001, 'momentum': 0.9, 'n_hidden': [128, 64], 'dropout_rate': 0.05}  |  Accuracy: 0.5000\n"
          ]
        },
        {
          "name": "stderr",
          "output_type": "stream",
          "text": [
            "Hyperparameter Search:  13%|█▎        | 13/100 [00:13<01:26,  1.01it/s]"
          ]
        },
        {
          "name": "stdout",
          "output_type": "stream",
          "text": [
            "Parameters: {'epochs': 300, 'batch_size': 32, 'learning_rate': 0.001, 'momentum': 0.8, 'n_hidden': [32], 'dropout_rate': 0.3}  |  Accuracy: 0.4286\n"
          ]
        },
        {
          "name": "stderr",
          "output_type": "stream",
          "text": [
            "Hyperparameter Search:  14%|█▍        | 14/100 [00:14<01:39,  1.15s/it]"
          ]
        },
        {
          "name": "stdout",
          "output_type": "stream",
          "text": [
            "Parameters: {'epochs': 200, 'batch_size': 16, 'learning_rate': 0.01, 'momentum': 0.9, 'n_hidden': [64], 'dropout_rate': 0.05}  |  Accuracy: 0.5000\n"
          ]
        },
        {
          "name": "stderr",
          "output_type": "stream",
          "text": [
            "Hyperparameter Search:  15%|█▌        | 15/100 [00:15<01:21,  1.04it/s]"
          ]
        },
        {
          "name": "stdout",
          "output_type": "stream",
          "text": [
            "Parameters: {'epochs': 100, 'batch_size': 32, 'learning_rate': 0.001, 'momentum': 0.9, 'n_hidden': [128, 64], 'dropout_rate': 0.5}  |  Accuracy: 0.5000\n"
          ]
        },
        {
          "name": "stderr",
          "output_type": "stream",
          "text": [
            "Hyperparameter Search:  16%|█▌        | 16/100 [00:15<01:09,  1.20it/s]"
          ]
        },
        {
          "name": "stdout",
          "output_type": "stream",
          "text": [
            "Parameters: {'epochs': 100, 'batch_size': 16, 'learning_rate': 0.1, 'momentum': 0.8, 'n_hidden': [50, 25], 'dropout_rate': 0.3}  |  Accuracy: 0.3571\n"
          ]
        },
        {
          "name": "stderr",
          "output_type": "stream",
          "text": [
            "Hyperparameter Search:  17%|█▋        | 17/100 [00:16<00:55,  1.49it/s]"
          ]
        },
        {
          "name": "stdout",
          "output_type": "stream",
          "text": [
            "Parameters: {'epochs': 100, 'batch_size': 32, 'learning_rate': 0.1, 'momentum': 0.8, 'n_hidden': [64, 32], 'dropout_rate': 0.0}  |  Accuracy: 0.4286\n"
          ]
        },
        {
          "name": "stderr",
          "output_type": "stream",
          "text": [
            "Hyperparameter Search:  18%|█▊        | 18/100 [00:17<01:04,  1.27it/s]"
          ]
        },
        {
          "name": "stdout",
          "output_type": "stream",
          "text": [
            "Parameters: {'epochs': 200, 'batch_size': 16, 'learning_rate': 0.1, 'momentum': 0.5, 'n_hidden': [50, 25], 'dropout_rate': 0.3}  |  Accuracy: 0.7143\n"
          ]
        },
        {
          "name": "stderr",
          "output_type": "stream",
          "text": [
            "Hyperparameter Search:  19%|█▉        | 19/100 [00:17<01:03,  1.27it/s]"
          ]
        },
        {
          "name": "stdout",
          "output_type": "stream",
          "text": [
            "Parameters: {'epochs': 100, 'batch_size': 16, 'learning_rate': 0.01, 'momentum': 0.8, 'n_hidden': [64], 'dropout_rate': 0.1}  |  Accuracy: 0.5714\n"
          ]
        },
        {
          "name": "stderr",
          "output_type": "stream",
          "text": [
            "Hyperparameter Search:  20%|██        | 20/100 [00:18<01:05,  1.22it/s]"
          ]
        },
        {
          "name": "stdout",
          "output_type": "stream",
          "text": [
            "Parameters: {'epochs': 300, 'batch_size': 32, 'learning_rate': 0.1, 'momentum': 0.8, 'n_hidden': [64], 'dropout_rate': 0.0}  |  Accuracy: 0.7857\n"
          ]
        },
        {
          "name": "stderr",
          "output_type": "stream",
          "text": [
            "Hyperparameter Search:  21%|██        | 21/100 [00:18<00:50,  1.57it/s]"
          ]
        },
        {
          "name": "stdout",
          "output_type": "stream",
          "text": [
            "Parameters: {'epochs': 100, 'batch_size': 32, 'learning_rate': 0.01, 'momentum': 0.9, 'n_hidden': [50, 25], 'dropout_rate': 0.05}  |  Accuracy: 0.5000\n"
          ]
        },
        {
          "name": "stderr",
          "output_type": "stream",
          "text": [
            "Hyperparameter Search:  22%|██▏       | 22/100 [00:19<00:46,  1.67it/s]"
          ]
        },
        {
          "name": "stdout",
          "output_type": "stream",
          "text": [
            "Parameters: {'epochs': 300, 'batch_size': 16, 'learning_rate': 0.1, 'momentum': 0.9, 'n_hidden': [32], 'dropout_rate': 0.1}  |  Accuracy: 0.7143\n"
          ]
        },
        {
          "name": "stderr",
          "output_type": "stream",
          "text": [
            "Hyperparameter Search:  23%|██▎       | 23/100 [00:20<00:47,  1.62it/s]"
          ]
        },
        {
          "name": "stdout",
          "output_type": "stream",
          "text": [
            "Parameters: {'epochs': 200, 'batch_size': 32, 'learning_rate': 0.01, 'momentum': 0.9, 'n_hidden': [64, 32], 'dropout_rate': 0.05}  |  Accuracy: 0.6429\n"
          ]
        },
        {
          "name": "stderr",
          "output_type": "stream",
          "text": [
            "Hyperparameter Search:  25%|██▌       | 25/100 [00:22<01:01,  1.21it/s]"
          ]
        },
        {
          "name": "stdout",
          "output_type": "stream",
          "text": [
            "Parameters: {'epochs': 300, 'batch_size': 16, 'learning_rate': 0.1, 'momentum': 0.8, 'n_hidden': [64, 32], 'dropout_rate': 0.05}  |  Accuracy: 0.5000\n",
            "Parameters: {'epochs': 100, 'batch_size': 32, 'learning_rate': 0.1, 'momentum': 0.8, 'n_hidden': [32], 'dropout_rate': 0.1}  |  Accuracy: 0.5714\n"
          ]
        },
        {
          "name": "stderr",
          "output_type": "stream",
          "text": [
            "Hyperparameter Search:  26%|██▌       | 26/100 [00:23<01:01,  1.21it/s]"
          ]
        },
        {
          "name": "stdout",
          "output_type": "stream",
          "text": [
            "Parameters: {'epochs': 300, 'batch_size': 32, 'learning_rate': 0.001, 'momentum': 0.5, 'n_hidden': [64], 'dropout_rate': 0.0}  |  Accuracy: 0.6429\n"
          ]
        },
        {
          "name": "stderr",
          "output_type": "stream",
          "text": [
            "Hyperparameter Search:  27%|██▋       | 27/100 [00:25<01:17,  1.06s/it]"
          ]
        },
        {
          "name": "stdout",
          "output_type": "stream",
          "text": [
            "Parameters: {'epochs': 300, 'batch_size': 32, 'learning_rate': 0.1, 'momentum': 0.9, 'n_hidden': [128, 64], 'dropout_rate': 0.5}  |  Accuracy: 0.7143\n"
          ]
        },
        {
          "name": "stderr",
          "output_type": "stream",
          "text": [
            "Hyperparameter Search:  28%|██▊       | 28/100 [00:25<01:09,  1.04it/s]"
          ]
        },
        {
          "name": "stdout",
          "output_type": "stream",
          "text": [
            "Parameters: {'epochs': 100, 'batch_size': 16, 'learning_rate': 0.01, 'momentum': 0.5, 'n_hidden': [64], 'dropout_rate': 0.3}  |  Accuracy: 0.3571\n"
          ]
        },
        {
          "name": "stderr",
          "output_type": "stream",
          "text": [
            "Hyperparameter Search:  29%|██▉       | 29/100 [00:26<00:53,  1.31it/s]"
          ]
        },
        {
          "name": "stdout",
          "output_type": "stream",
          "text": [
            "Parameters: {'epochs': 100, 'batch_size': 32, 'learning_rate': 0.001, 'momentum': 0.9, 'n_hidden': [64], 'dropout_rate': 0.5}  |  Accuracy: 0.4286\n"
          ]
        },
        {
          "name": "stderr",
          "output_type": "stream",
          "text": [
            "Hyperparameter Search:  30%|███       | 30/100 [00:26<00:48,  1.43it/s]"
          ]
        },
        {
          "name": "stdout",
          "output_type": "stream",
          "text": [
            "Parameters: {'epochs': 200, 'batch_size': 32, 'learning_rate': 0.1, 'momentum': 0.9, 'n_hidden': [64], 'dropout_rate': 0.0}  |  Accuracy: 0.7143\n"
          ]
        },
        {
          "name": "stderr",
          "output_type": "stream",
          "text": [
            "Hyperparameter Search:  31%|███       | 31/100 [00:28<01:06,  1.04it/s]"
          ]
        },
        {
          "name": "stdout",
          "output_type": "stream",
          "text": [
            "Parameters: {'epochs': 300, 'batch_size': 16, 'learning_rate': 0.1, 'momentum': 0.8, 'n_hidden': [50, 25], 'dropout_rate': 0.3}  |  Accuracy: 0.5000\n"
          ]
        },
        {
          "name": "stderr",
          "output_type": "stream",
          "text": [
            "Hyperparameter Search:  32%|███▏      | 32/100 [00:29<01:19,  1.17s/it]"
          ]
        },
        {
          "name": "stdout",
          "output_type": "stream",
          "text": [
            "Parameters: {'epochs': 200, 'batch_size': 16, 'learning_rate': 0.1, 'momentum': 0.9, 'n_hidden': [64, 32], 'dropout_rate': 0.3}  |  Accuracy: 0.5714\n"
          ]
        },
        {
          "name": "stderr",
          "output_type": "stream",
          "text": [
            "Hyperparameter Search:  33%|███▎      | 33/100 [00:31<01:25,  1.28s/it]"
          ]
        },
        {
          "name": "stdout",
          "output_type": "stream",
          "text": [
            "Parameters: {'epochs': 200, 'batch_size': 16, 'learning_rate': 0.1, 'momentum': 0.9, 'n_hidden': [64], 'dropout_rate': 0.05}  |  Accuracy: 0.7857\n"
          ]
        },
        {
          "name": "stderr",
          "output_type": "stream",
          "text": [
            "Hyperparameter Search:  34%|███▍      | 34/100 [00:32<01:14,  1.13s/it]"
          ]
        },
        {
          "name": "stdout",
          "output_type": "stream",
          "text": [
            "Parameters: {'epochs': 100, 'batch_size': 16, 'learning_rate': 0.01, 'momentum': 0.9, 'n_hidden': [64, 32], 'dropout_rate': 0.05}  |  Accuracy: 0.6429\n"
          ]
        },
        {
          "name": "stderr",
          "output_type": "stream",
          "text": [
            "Hyperparameter Search:  35%|███▌      | 35/100 [00:33<01:08,  1.05s/it]"
          ]
        },
        {
          "name": "stdout",
          "output_type": "stream",
          "text": [
            "Parameters: {'epochs': 300, 'batch_size': 32, 'learning_rate': 0.001, 'momentum': 0.8, 'n_hidden': [64], 'dropout_rate': 0.0}  |  Accuracy: 0.5000\n"
          ]
        },
        {
          "name": "stderr",
          "output_type": "stream",
          "text": [
            "Hyperparameter Search:  36%|███▌      | 36/100 [00:33<01:03,  1.00it/s]"
          ]
        },
        {
          "name": "stdout",
          "output_type": "stream",
          "text": [
            "Parameters: {'epochs': 300, 'batch_size': 32, 'learning_rate': 0.01, 'momentum': 0.8, 'n_hidden': [64], 'dropout_rate': 0.05}  |  Accuracy: 0.6429\n"
          ]
        },
        {
          "name": "stderr",
          "output_type": "stream",
          "text": [
            "Hyperparameter Search:  37%|███▋      | 37/100 [00:34<01:00,  1.04it/s]"
          ]
        },
        {
          "name": "stdout",
          "output_type": "stream",
          "text": [
            "Parameters: {'epochs': 300, 'batch_size': 16, 'learning_rate': 0.01, 'momentum': 0.5, 'n_hidden': [32], 'dropout_rate': 0.5}  |  Accuracy: 0.6429\n"
          ]
        },
        {
          "name": "stderr",
          "output_type": "stream",
          "text": [
            "Hyperparameter Search:  38%|███▊      | 38/100 [00:35<00:47,  1.31it/s]"
          ]
        },
        {
          "name": "stdout",
          "output_type": "stream",
          "text": [
            "Parameters: {'epochs': 100, 'batch_size': 32, 'learning_rate': 0.001, 'momentum': 0.9, 'n_hidden': [64], 'dropout_rate': 0.0}  |  Accuracy: 0.3571\n"
          ]
        },
        {
          "name": "stderr",
          "output_type": "stream",
          "text": [
            "Hyperparameter Search:  39%|███▉      | 39/100 [00:36<01:01,  1.00s/it]"
          ]
        },
        {
          "name": "stdout",
          "output_type": "stream",
          "text": [
            "Parameters: {'epochs': 200, 'batch_size': 16, 'learning_rate': 0.01, 'momentum': 0.5, 'n_hidden': [64, 32], 'dropout_rate': 0.5}  |  Accuracy: 0.6429\n"
          ]
        },
        {
          "name": "stderr",
          "output_type": "stream",
          "text": [
            "Hyperparameter Search:  40%|████      | 40/100 [00:37<00:52,  1.15it/s]"
          ]
        },
        {
          "name": "stdout",
          "output_type": "stream",
          "text": [
            "Parameters: {'epochs': 200, 'batch_size': 32, 'learning_rate': 0.01, 'momentum': 0.5, 'n_hidden': [64], 'dropout_rate': 0.1}  |  Accuracy: 0.6429\n"
          ]
        },
        {
          "name": "stderr",
          "output_type": "stream",
          "text": [
            "Hyperparameter Search:  41%|████      | 41/100 [00:41<01:53,  1.92s/it]"
          ]
        },
        {
          "name": "stdout",
          "output_type": "stream",
          "text": [
            "Parameters: {'epochs': 300, 'batch_size': 16, 'learning_rate': 0.001, 'momentum': 0.5, 'n_hidden': [128, 64], 'dropout_rate': 0.1}  |  Accuracy: 0.5000\n"
          ]
        },
        {
          "name": "stderr",
          "output_type": "stream",
          "text": [
            "Hyperparameter Search:  42%|████▏     | 42/100 [00:41<01:22,  1.42s/it]"
          ]
        },
        {
          "name": "stdout",
          "output_type": "stream",
          "text": [
            "Parameters: {'epochs': 200, 'batch_size': 32, 'learning_rate': 0.1, 'momentum': 0.9, 'n_hidden': [32], 'dropout_rate': 0.05}  |  Accuracy: 0.5714\n"
          ]
        },
        {
          "name": "stderr",
          "output_type": "stream",
          "text": [
            "Hyperparameter Search:  43%|████▎     | 43/100 [00:42<01:03,  1.11s/it]"
          ]
        },
        {
          "name": "stdout",
          "output_type": "stream",
          "text": [
            "Parameters: {'epochs': 300, 'batch_size': 32, 'learning_rate': 0.001, 'momentum': 0.9, 'n_hidden': [32], 'dropout_rate': 0.05}  |  Accuracy: 0.5714\n"
          ]
        },
        {
          "name": "stderr",
          "output_type": "stream",
          "text": [
            "Hyperparameter Search:  45%|████▌     | 45/100 [00:43<00:42,  1.31it/s]"
          ]
        },
        {
          "name": "stdout",
          "output_type": "stream",
          "text": [
            "Parameters: {'epochs': 300, 'batch_size': 32, 'learning_rate': 0.01, 'momentum': 0.9, 'n_hidden': [64, 32], 'dropout_rate': 0.1}  |  Accuracy: 0.4286\n",
            "Parameters: {'epochs': 100, 'batch_size': 32, 'learning_rate': 0.001, 'momentum': 0.5, 'n_hidden': [32], 'dropout_rate': 0.05}  |  Accuracy: 0.5000\n"
          ]
        },
        {
          "name": "stderr",
          "output_type": "stream",
          "text": [
            "Hyperparameter Search:  46%|████▌     | 46/100 [00:43<00:37,  1.43it/s]"
          ]
        },
        {
          "name": "stdout",
          "output_type": "stream",
          "text": [
            "Parameters: {'epochs': 300, 'batch_size': 32, 'learning_rate': 0.01, 'momentum': 0.8, 'n_hidden': [50, 25], 'dropout_rate': 0.0}  |  Accuracy: 0.7143\n"
          ]
        },
        {
          "name": "stderr",
          "output_type": "stream",
          "text": [
            "Hyperparameter Search:  47%|████▋     | 47/100 [00:44<00:31,  1.69it/s]"
          ]
        },
        {
          "name": "stdout",
          "output_type": "stream",
          "text": [
            "Parameters: {'epochs': 300, 'batch_size': 32, 'learning_rate': 0.001, 'momentum': 0.5, 'n_hidden': [32], 'dropout_rate': 0.1}  |  Accuracy: 0.5714\n"
          ]
        },
        {
          "name": "stderr",
          "output_type": "stream",
          "text": [
            "Hyperparameter Search:  48%|████▊     | 48/100 [00:44<00:33,  1.54it/s]"
          ]
        },
        {
          "name": "stdout",
          "output_type": "stream",
          "text": [
            "Parameters: {'epochs': 300, 'batch_size': 16, 'learning_rate': 0.1, 'momentum': 0.9, 'n_hidden': [32], 'dropout_rate': 0.05}  |  Accuracy: 0.7143\n"
          ]
        },
        {
          "name": "stderr",
          "output_type": "stream",
          "text": [
            "Hyperparameter Search:  49%|████▉     | 49/100 [00:45<00:36,  1.39it/s]"
          ]
        },
        {
          "name": "stdout",
          "output_type": "stream",
          "text": [
            "Parameters: {'epochs': 300, 'batch_size': 32, 'learning_rate': 0.01, 'momentum': 0.9, 'n_hidden': [64, 32], 'dropout_rate': 0.3}  |  Accuracy: 0.5714\n"
          ]
        },
        {
          "name": "stderr",
          "output_type": "stream",
          "text": [
            "Hyperparameter Search:  50%|█████     | 50/100 [00:47<00:47,  1.05it/s]"
          ]
        },
        {
          "name": "stdout",
          "output_type": "stream",
          "text": [
            "Parameters: {'epochs': 100, 'batch_size': 16, 'learning_rate': 0.01, 'momentum': 0.8, 'n_hidden': [128, 64], 'dropout_rate': 0.0}  |  Accuracy: 0.7143\n"
          ]
        },
        {
          "name": "stderr",
          "output_type": "stream",
          "text": [
            "Hyperparameter Search:  51%|█████     | 51/100 [00:48<00:57,  1.17s/it]"
          ]
        },
        {
          "name": "stdout",
          "output_type": "stream",
          "text": [
            "Parameters: {'epochs': 200, 'batch_size': 16, 'learning_rate': 0.01, 'momentum': 0.9, 'n_hidden': [64, 32], 'dropout_rate': 0.05}  |  Accuracy: 0.5714\n"
          ]
        },
        {
          "name": "stderr",
          "output_type": "stream",
          "text": [
            "Hyperparameter Search:  52%|█████▏    | 52/100 [00:50<01:00,  1.25s/it]"
          ]
        },
        {
          "name": "stdout",
          "output_type": "stream",
          "text": [
            "Parameters: {'epochs': 300, 'batch_size': 16, 'learning_rate': 0.01, 'momentum': 0.8, 'n_hidden': [50, 25], 'dropout_rate': 0.05}  |  Accuracy: 0.5000\n"
          ]
        },
        {
          "name": "stderr",
          "output_type": "stream",
          "text": [
            "Hyperparameter Search:  53%|█████▎    | 53/100 [00:50<00:46,  1.00it/s]"
          ]
        },
        {
          "name": "stdout",
          "output_type": "stream",
          "text": [
            "Parameters: {'epochs': 300, 'batch_size': 32, 'learning_rate': 0.1, 'momentum': 0.9, 'n_hidden': [32], 'dropout_rate': 0.5}  |  Accuracy: 0.5714\n"
          ]
        },
        {
          "name": "stderr",
          "output_type": "stream",
          "text": [
            "Hyperparameter Search:  54%|█████▍    | 54/100 [00:51<00:35,  1.31it/s]"
          ]
        },
        {
          "name": "stdout",
          "output_type": "stream",
          "text": [
            "Parameters: {'epochs': 100, 'batch_size': 32, 'learning_rate': 0.1, 'momentum': 0.9, 'n_hidden': [50, 25], 'dropout_rate': 0.1}  |  Accuracy: 0.5714\n"
          ]
        },
        {
          "name": "stderr",
          "output_type": "stream",
          "text": [
            "Hyperparameter Search:  55%|█████▌    | 55/100 [00:52<00:45,  1.01s/it]"
          ]
        },
        {
          "name": "stdout",
          "output_type": "stream",
          "text": [
            "Parameters: {'epochs': 200, 'batch_size': 16, 'learning_rate': 0.001, 'momentum': 0.5, 'n_hidden': [64, 32], 'dropout_rate': 0.3}  |  Accuracy: 0.5000\n"
          ]
        },
        {
          "name": "stderr",
          "output_type": "stream",
          "text": [
            "Hyperparameter Search:  56%|█████▌    | 56/100 [00:52<00:35,  1.24it/s]"
          ]
        },
        {
          "name": "stdout",
          "output_type": "stream",
          "text": [
            "Parameters: {'epochs': 300, 'batch_size': 32, 'learning_rate': 0.001, 'momentum': 0.9, 'n_hidden': [32], 'dropout_rate': 0.05}  |  Accuracy: 0.4286\n"
          ]
        },
        {
          "name": "stderr",
          "output_type": "stream",
          "text": [
            "Hyperparameter Search:  57%|█████▋    | 57/100 [00:53<00:35,  1.23it/s]"
          ]
        },
        {
          "name": "stdout",
          "output_type": "stream",
          "text": [
            "Parameters: {'epochs': 300, 'batch_size': 32, 'learning_rate': 0.1, 'momentum': 0.8, 'n_hidden': [64], 'dropout_rate': 0.0}  |  Accuracy: 0.5714\n"
          ]
        },
        {
          "name": "stderr",
          "output_type": "stream",
          "text": [
            "Hyperparameter Search:  58%|█████▊    | 58/100 [00:53<00:26,  1.58it/s]"
          ]
        },
        {
          "name": "stdout",
          "output_type": "stream",
          "text": [
            "Parameters: {'epochs': 100, 'batch_size': 16, 'learning_rate': 0.01, 'momentum': 0.9, 'n_hidden': [32], 'dropout_rate': 0.3}  |  Accuracy: 0.5714\n"
          ]
        },
        {
          "name": "stderr",
          "output_type": "stream",
          "text": [
            "Hyperparameter Search:  59%|█████▉    | 59/100 [00:54<00:20,  1.95it/s]"
          ]
        },
        {
          "name": "stdout",
          "output_type": "stream",
          "text": [
            "Parameters: {'epochs': 200, 'batch_size': 32, 'learning_rate': 0.01, 'momentum': 0.9, 'n_hidden': [32], 'dropout_rate': 0.5}  |  Accuracy: 0.4286\n"
          ]
        },
        {
          "name": "stderr",
          "output_type": "stream",
          "text": [
            "Hyperparameter Search:  60%|██████    | 60/100 [00:54<00:20,  1.93it/s]"
          ]
        },
        {
          "name": "stdout",
          "output_type": "stream",
          "text": [
            "Parameters: {'epochs': 100, 'batch_size': 32, 'learning_rate': 0.001, 'momentum': 0.8, 'n_hidden': [128, 64], 'dropout_rate': 0.1}  |  Accuracy: 0.5714\n"
          ]
        },
        {
          "name": "stderr",
          "output_type": "stream",
          "text": [
            "Hyperparameter Search:  61%|██████    | 61/100 [00:55<00:24,  1.57it/s]"
          ]
        },
        {
          "name": "stdout",
          "output_type": "stream",
          "text": [
            "Parameters: {'epochs': 300, 'batch_size': 32, 'learning_rate': 0.001, 'momentum': 0.8, 'n_hidden': [64], 'dropout_rate': 0.0}  |  Accuracy: 0.5000\n"
          ]
        },
        {
          "name": "stderr",
          "output_type": "stream",
          "text": [
            "Hyperparameter Search:  62%|██████▏   | 62/100 [00:56<00:23,  1.61it/s]"
          ]
        },
        {
          "name": "stdout",
          "output_type": "stream",
          "text": [
            "Parameters: {'epochs': 200, 'batch_size': 32, 'learning_rate': 0.01, 'momentum': 0.5, 'n_hidden': [64], 'dropout_rate': 0.5}  |  Accuracy: 0.5714\n",
            "Parameters: {'epochs': 100, 'batch_size': 32, 'learning_rate': 0.01, 'momentum': 0.9, 'n_hidden': [32], 'dropout_rate': 0.05}  |  Accuracy: 0.6429\n"
          ]
        },
        {
          "name": "stderr",
          "output_type": "stream",
          "text": [
            "Hyperparameter Search:  64%|██████▍   | 64/100 [00:56<00:17,  2.03it/s]"
          ]
        },
        {
          "name": "stdout",
          "output_type": "stream",
          "text": [
            "Parameters: {'epochs': 200, 'batch_size': 32, 'learning_rate': 0.001, 'momentum': 0.9, 'n_hidden': [64], 'dropout_rate': 0.3}  |  Accuracy: 0.4286\n"
          ]
        },
        {
          "name": "stderr",
          "output_type": "stream",
          "text": [
            "Hyperparameter Search:  65%|██████▌   | 65/100 [00:57<00:15,  2.21it/s]"
          ]
        },
        {
          "name": "stdout",
          "output_type": "stream",
          "text": [
            "Parameters: {'epochs': 100, 'batch_size': 32, 'learning_rate': 0.01, 'momentum': 0.8, 'n_hidden': [64], 'dropout_rate': 0.05}  |  Accuracy: 0.7857\n"
          ]
        },
        {
          "name": "stderr",
          "output_type": "stream",
          "text": [
            "Hyperparameter Search:  67%|██████▋   | 67/100 [00:57<00:12,  2.65it/s]"
          ]
        },
        {
          "name": "stdout",
          "output_type": "stream",
          "text": [
            "Parameters: {'epochs': 200, 'batch_size': 16, 'learning_rate': 0.1, 'momentum': 0.8, 'n_hidden': [32], 'dropout_rate': 0.3}  |  Accuracy: 0.6429\n",
            "Parameters: {'epochs': 100, 'batch_size': 32, 'learning_rate': 0.1, 'momentum': 0.9, 'n_hidden': [50, 25], 'dropout_rate': 0.0}  |  Accuracy: 0.7857\n"
          ]
        },
        {
          "name": "stderr",
          "output_type": "stream",
          "text": [
            "Hyperparameter Search:  68%|██████▊   | 68/100 [00:59<00:20,  1.56it/s]"
          ]
        },
        {
          "name": "stdout",
          "output_type": "stream",
          "text": [
            "Parameters: {'epochs': 300, 'batch_size': 16, 'learning_rate': 0.1, 'momentum': 0.5, 'n_hidden': [50, 25], 'dropout_rate': 0.1}  |  Accuracy: 0.4286\n"
          ]
        },
        {
          "name": "stderr",
          "output_type": "stream",
          "text": [
            "Hyperparameter Search:  69%|██████▉   | 69/100 [01:00<00:22,  1.41it/s]"
          ]
        },
        {
          "name": "stdout",
          "output_type": "stream",
          "text": [
            "Parameters: {'epochs': 200, 'batch_size': 16, 'learning_rate': 0.001, 'momentum': 0.8, 'n_hidden': [50, 25], 'dropout_rate': 0.1}  |  Accuracy: 0.5000\n"
          ]
        },
        {
          "name": "stderr",
          "output_type": "stream",
          "text": [
            "Hyperparameter Search:  70%|███████   | 70/100 [01:04<00:52,  1.76s/it]"
          ]
        },
        {
          "name": "stdout",
          "output_type": "stream",
          "text": [
            "Parameters: {'epochs': 300, 'batch_size': 16, 'learning_rate': 0.1, 'momentum': 0.9, 'n_hidden': [128, 64], 'dropout_rate': 0.5}  |  Accuracy: 0.5000\n"
          ]
        },
        {
          "name": "stderr",
          "output_type": "stream",
          "text": [
            "Hyperparameter Search:  71%|███████   | 71/100 [01:05<00:49,  1.70s/it]"
          ]
        },
        {
          "name": "stdout",
          "output_type": "stream",
          "text": [
            "Parameters: {'epochs': 200, 'batch_size': 16, 'learning_rate': 0.01, 'momentum': 0.5, 'n_hidden': [64], 'dropout_rate': 0.1}  |  Accuracy: 0.6429\n"
          ]
        },
        {
          "name": "stderr",
          "output_type": "stream",
          "text": [
            "Hyperparameter Search:  72%|███████▏  | 72/100 [01:06<00:36,  1.29s/it]"
          ]
        },
        {
          "name": "stdout",
          "output_type": "stream",
          "text": [
            "Parameters: {'epochs': 100, 'batch_size': 32, 'learning_rate': 0.01, 'momentum': 0.8, 'n_hidden': [64, 32], 'dropout_rate': 0.1}  |  Accuracy: 0.2857\n"
          ]
        },
        {
          "name": "stderr",
          "output_type": "stream",
          "text": [
            "Hyperparameter Search:  73%|███████▎  | 73/100 [01:07<00:37,  1.38s/it]"
          ]
        },
        {
          "name": "stdout",
          "output_type": "stream",
          "text": [
            "Parameters: {'epochs': 200, 'batch_size': 16, 'learning_rate': 0.01, 'momentum': 0.8, 'n_hidden': [64, 32], 'dropout_rate': 0.05}  |  Accuracy: 0.6429\n"
          ]
        },
        {
          "name": "stderr",
          "output_type": "stream",
          "text": [
            "Hyperparameter Search:  75%|███████▌  | 75/100 [01:08<00:20,  1.20it/s]"
          ]
        },
        {
          "name": "stdout",
          "output_type": "stream",
          "text": [
            "Parameters: {'epochs': 300, 'batch_size': 32, 'learning_rate': 0.001, 'momentum': 0.9, 'n_hidden': [50, 25], 'dropout_rate': 0.3}  |  Accuracy: 0.4286\n",
            "Parameters: {'epochs': 100, 'batch_size': 32, 'learning_rate': 0.001, 'momentum': 0.5, 'n_hidden': [32], 'dropout_rate': 0.0}  |  Accuracy: 0.7143\n"
          ]
        },
        {
          "name": "stderr",
          "output_type": "stream",
          "text": [
            "Hyperparameter Search:  76%|███████▌  | 76/100 [01:10<00:25,  1.05s/it]"
          ]
        },
        {
          "name": "stdout",
          "output_type": "stream",
          "text": [
            "Parameters: {'epochs': 200, 'batch_size': 16, 'learning_rate': 0.1, 'momentum': 0.9, 'n_hidden': [64, 32], 'dropout_rate': 0.05}  |  Accuracy: 0.4286\n"
          ]
        },
        {
          "name": "stderr",
          "output_type": "stream",
          "text": [
            "Hyperparameter Search:  77%|███████▋  | 77/100 [01:11<00:28,  1.24s/it]"
          ]
        },
        {
          "name": "stdout",
          "output_type": "stream",
          "text": [
            "Parameters: {'epochs': 300, 'batch_size': 32, 'learning_rate': 0.01, 'momentum': 0.8, 'n_hidden': [128, 64], 'dropout_rate': 0.1}  |  Accuracy: 0.6429\n"
          ]
        },
        {
          "name": "stderr",
          "output_type": "stream",
          "text": [
            "Hyperparameter Search:  79%|███████▉  | 79/100 [01:12<00:15,  1.37it/s]"
          ]
        },
        {
          "name": "stdout",
          "output_type": "stream",
          "text": [
            "Parameters: {'epochs': 100, 'batch_size': 16, 'learning_rate': 0.1, 'momentum': 0.5, 'n_hidden': [50, 25], 'dropout_rate': 0.5}  |  Accuracy: 0.7857\n",
            "Parameters: {'epochs': 100, 'batch_size': 32, 'learning_rate': 0.1, 'momentum': 0.9, 'n_hidden': [32], 'dropout_rate': 0.05}  |  Accuracy: 0.6429\n"
          ]
        },
        {
          "name": "stderr",
          "output_type": "stream",
          "text": [
            "Hyperparameter Search:  80%|████████  | 80/100 [01:12<00:14,  1.41it/s]"
          ]
        },
        {
          "name": "stdout",
          "output_type": "stream",
          "text": [
            "Parameters: {'epochs': 300, 'batch_size': 16, 'learning_rate': 0.01, 'momentum': 0.5, 'n_hidden': [32], 'dropout_rate': 0.5}  |  Accuracy: 0.5714\n"
          ]
        },
        {
          "name": "stderr",
          "output_type": "stream",
          "text": [
            "Hyperparameter Search:  81%|████████  | 81/100 [01:13<00:10,  1.74it/s]"
          ]
        },
        {
          "name": "stdout",
          "output_type": "stream",
          "text": [
            "Parameters: {'epochs': 100, 'batch_size': 16, 'learning_rate': 0.1, 'momentum': 0.5, 'n_hidden': [32], 'dropout_rate': 0.3}  |  Accuracy: 0.6429\n"
          ]
        },
        {
          "name": "stderr",
          "output_type": "stream",
          "text": [
            "Hyperparameter Search:  82%|████████▏ | 82/100 [01:14<00:15,  1.14it/s]"
          ]
        },
        {
          "name": "stdout",
          "output_type": "stream",
          "text": [
            "Parameters: {'epochs': 300, 'batch_size': 32, 'learning_rate': 0.001, 'momentum': 0.9, 'n_hidden': [128, 64], 'dropout_rate': 0.0}  |  Accuracy: 0.5714\n"
          ]
        },
        {
          "name": "stderr",
          "output_type": "stream",
          "text": [
            "Hyperparameter Search:  83%|████████▎ | 83/100 [01:15<00:12,  1.32it/s]"
          ]
        },
        {
          "name": "stdout",
          "output_type": "stream",
          "text": [
            "Parameters: {'epochs': 200, 'batch_size': 16, 'learning_rate': 0.01, 'momentum': 0.5, 'n_hidden': [32], 'dropout_rate': 0.0}  |  Accuracy: 0.6429\n"
          ]
        },
        {
          "name": "stderr",
          "output_type": "stream",
          "text": [
            "Hyperparameter Search:  84%|████████▍ | 84/100 [01:18<00:22,  1.43s/it]"
          ]
        },
        {
          "name": "stdout",
          "output_type": "stream",
          "text": [
            "Parameters: {'epochs': 200, 'batch_size': 16, 'learning_rate': 0.1, 'momentum': 0.8, 'n_hidden': [128, 64], 'dropout_rate': 0.05}  |  Accuracy: 0.6429\n"
          ]
        },
        {
          "name": "stderr",
          "output_type": "stream",
          "text": [
            "Hyperparameter Search:  85%|████████▌ | 85/100 [01:18<00:16,  1.09s/it]"
          ]
        },
        {
          "name": "stdout",
          "output_type": "stream",
          "text": [
            "Parameters: {'epochs': 100, 'batch_size': 32, 'learning_rate': 0.01, 'momentum': 0.8, 'n_hidden': [64, 32], 'dropout_rate': 0.05}  |  Accuracy: 0.5000\n"
          ]
        },
        {
          "name": "stderr",
          "output_type": "stream",
          "text": [
            "Hyperparameter Search:  86%|████████▌ | 86/100 [01:23<00:29,  2.11s/it]"
          ]
        },
        {
          "name": "stdout",
          "output_type": "stream",
          "text": [
            "Parameters: {'epochs': 300, 'batch_size': 16, 'learning_rate': 0.1, 'momentum': 0.9, 'n_hidden': [128, 64], 'dropout_rate': 0.3}  |  Accuracy: 0.7857\n"
          ]
        },
        {
          "name": "stderr",
          "output_type": "stream",
          "text": [
            "Hyperparameter Search:  87%|████████▋ | 87/100 [01:23<00:20,  1.57s/it]"
          ]
        },
        {
          "name": "stdout",
          "output_type": "stream",
          "text": [
            "Parameters: {'epochs': 100, 'batch_size': 32, 'learning_rate': 0.01, 'momentum': 0.5, 'n_hidden': [64, 32], 'dropout_rate': 0.3}  |  Accuracy: 0.7857\n"
          ]
        },
        {
          "name": "stderr",
          "output_type": "stream",
          "text": [
            "Hyperparameter Search:  88%|████████▊ | 88/100 [01:25<00:21,  1.79s/it]"
          ]
        },
        {
          "name": "stdout",
          "output_type": "stream",
          "text": [
            "Parameters: {'epochs': 300, 'batch_size': 16, 'learning_rate': 0.01, 'momentum': 0.5, 'n_hidden': [64, 32], 'dropout_rate': 0.0}  |  Accuracy: 0.6429\n"
          ]
        },
        {
          "name": "stderr",
          "output_type": "stream",
          "text": [
            "Hyperparameter Search:  89%|████████▉ | 89/100 [01:26<00:16,  1.54s/it]"
          ]
        },
        {
          "name": "stdout",
          "output_type": "stream",
          "text": [
            "Parameters: {'epochs': 300, 'batch_size': 32, 'learning_rate': 0.001, 'momentum': 0.9, 'n_hidden': [64, 32], 'dropout_rate': 0.5}  |  Accuracy: 0.4286\n"
          ]
        },
        {
          "name": "stderr",
          "output_type": "stream",
          "text": [
            "Hyperparameter Search:  90%|█████████ | 90/100 [01:28<00:15,  1.56s/it]"
          ]
        },
        {
          "name": "stdout",
          "output_type": "stream",
          "text": [
            "Parameters: {'epochs': 200, 'batch_size': 16, 'learning_rate': 0.01, 'momentum': 0.5, 'n_hidden': [64, 32], 'dropout_rate': 0.05}  |  Accuracy: 0.5000\n"
          ]
        },
        {
          "name": "stderr",
          "output_type": "stream",
          "text": [
            "Hyperparameter Search:  91%|█████████ | 91/100 [01:30<00:16,  1.79s/it]"
          ]
        },
        {
          "name": "stdout",
          "output_type": "stream",
          "text": [
            "Parameters: {'epochs': 300, 'batch_size': 16, 'learning_rate': 0.1, 'momentum': 0.5, 'n_hidden': [64, 32], 'dropout_rate': 0.3}  |  Accuracy: 0.4286\n"
          ]
        },
        {
          "name": "stderr",
          "output_type": "stream",
          "text": [
            "Hyperparameter Search:  92%|█████████▏| 92/100 [01:30<00:10,  1.36s/it]"
          ]
        },
        {
          "name": "stdout",
          "output_type": "stream",
          "text": [
            "Parameters: {'epochs': 300, 'batch_size': 32, 'learning_rate': 0.01, 'momentum': 0.8, 'n_hidden': [32], 'dropout_rate': 0.0}  |  Accuracy: 0.5000\n"
          ]
        },
        {
          "name": "stderr",
          "output_type": "stream",
          "text": [
            "Hyperparameter Search:  93%|█████████▎| 93/100 [01:32<00:09,  1.42s/it]"
          ]
        },
        {
          "name": "stdout",
          "output_type": "stream",
          "text": [
            "Parameters: {'epochs': 300, 'batch_size': 32, 'learning_rate': 0.1, 'momentum': 0.8, 'n_hidden': [128, 64], 'dropout_rate': 0.1}  |  Accuracy: 0.6429\n"
          ]
        },
        {
          "name": "stderr",
          "output_type": "stream",
          "text": [
            "Hyperparameter Search:  94%|█████████▍| 94/100 [01:33<00:07,  1.30s/it]"
          ]
        },
        {
          "name": "stdout",
          "output_type": "stream",
          "text": [
            "Parameters: {'epochs': 200, 'batch_size': 32, 'learning_rate': 0.1, 'momentum': 0.9, 'n_hidden': [128, 64], 'dropout_rate': 0.5}  |  Accuracy: 0.6429\n"
          ]
        },
        {
          "name": "stderr",
          "output_type": "stream",
          "text": [
            "Hyperparameter Search:  95%|█████████▌| 95/100 [01:34<00:05,  1.14s/it]"
          ]
        },
        {
          "name": "stdout",
          "output_type": "stream",
          "text": [
            "Parameters: {'epochs': 100, 'batch_size': 16, 'learning_rate': 0.1, 'momentum': 0.5, 'n_hidden': [64], 'dropout_rate': 0.05}  |  Accuracy: 0.4286\n"
          ]
        },
        {
          "name": "stderr",
          "output_type": "stream",
          "text": [
            "Hyperparameter Search:  96%|█████████▌| 96/100 [01:34<00:03,  1.03it/s]"
          ]
        },
        {
          "name": "stdout",
          "output_type": "stream",
          "text": [
            "Parameters: {'epochs': 200, 'batch_size': 32, 'learning_rate': 0.01, 'momentum': 0.9, 'n_hidden': [64], 'dropout_rate': 0.05}  |  Accuracy: 0.4286\n"
          ]
        },
        {
          "name": "stderr",
          "output_type": "stream",
          "text": [
            "Hyperparameter Search:  97%|█████████▋| 97/100 [01:36<00:03,  1.07s/it]"
          ]
        },
        {
          "name": "stdout",
          "output_type": "stream",
          "text": [
            "Parameters: {'epochs': 300, 'batch_size': 16, 'learning_rate': 0.1, 'momentum': 0.8, 'n_hidden': [50, 25], 'dropout_rate': 0.1}  |  Accuracy: 0.7143\n"
          ]
        },
        {
          "name": "stderr",
          "output_type": "stream",
          "text": [
            "Hyperparameter Search:  98%|█████████▊| 98/100 [01:39<00:03,  1.63s/it]"
          ]
        },
        {
          "name": "stdout",
          "output_type": "stream",
          "text": [
            "Parameters: {'epochs': 200, 'batch_size': 16, 'learning_rate': 0.1, 'momentum': 0.8, 'n_hidden': [128, 64], 'dropout_rate': 0.3}  |  Accuracy: 0.5714\n"
          ]
        },
        {
          "name": "stderr",
          "output_type": "stream",
          "text": [
            "Hyperparameter Search:  99%|█████████▉| 99/100 [01:40<00:01,  1.62s/it]"
          ]
        },
        {
          "name": "stdout",
          "output_type": "stream",
          "text": [
            "Parameters: {'epochs': 200, 'batch_size': 16, 'learning_rate': 0.01, 'momentum': 0.9, 'n_hidden': [64, 32], 'dropout_rate': 0.1}  |  Accuracy: 0.6429\n"
          ]
        },
        {
          "name": "stderr",
          "output_type": "stream",
          "text": [
            "Hyperparameter Search: 100%|██████████| 100/100 [01:41<00:00,  1.02s/it]"
          ]
        },
        {
          "name": "stdout",
          "output_type": "stream",
          "text": [
            "Parameters: {'epochs': 300, 'batch_size': 32, 'learning_rate': 0.01, 'momentum': 0.8, 'n_hidden': [64], 'dropout_rate': 0.3}  |  Accuracy: 0.7857\n",
            "\n",
            "Best Hyperparameters Found: {'epochs': 300, 'batch_size': 32, 'learning_rate': 0.1, 'momentum': 0.8, 'n_hidden': [64], 'dropout_rate': 0.0}\n",
            "Best Accuracy: 0.7857\n",
            "\n",
            "Best hyperparameters: {'epochs': 300, 'batch_size': 32, 'learning_rate': 0.1, 'momentum': 0.8, 'n_hidden': [64], 'dropout_rate': 0.0}\n",
            "Epoch 1/300 - loss: 0.7048 - accuracy: 0.5000\n",
            "Epoch 2/300 - loss: 0.6896 - accuracy: 0.5625\n",
            "Epoch 3/300 - loss: 0.6401 - accuracy: 0.7188\n",
            "Epoch 4/300 - loss: 0.6831 - accuracy: 0.5312\n",
            "Epoch 5/300 - loss: 0.6606 - accuracy: 0.5938\n",
            "Epoch 6/300 - loss: 0.6339 - accuracy: 0.7188\n",
            "Epoch 7/300 - loss: 0.6073 - accuracy: 0.7812\n",
            "Epoch 8/300 - loss: 0.6241 - accuracy: 0.7812\n",
            "Epoch 9/300 - loss: 0.5718 - accuracy: 0.7812\n",
            "Epoch 10/300 - loss: 0.5823 - accuracy: 0.8125\n",
            "Epoch 11/300 - loss: 0.5330 - accuracy: 0.9062\n",
            "Epoch 12/300 - loss: 0.5616 - accuracy: 0.7500\n",
            "Epoch 13/300 - loss: 0.4998 - accuracy: 0.8750\n",
            "Epoch 14/300 - loss: 0.5118 - accuracy: 0.8750\n",
            "Epoch 15/300 - loss: 0.4857 - accuracy: 0.9062\n",
            "Epoch 16/300 - loss: 0.5335 - accuracy: 0.7500\n",
            "Epoch 17/300 - loss: 0.4696 - accuracy: 0.8750\n",
            "Epoch 18/300 - loss: 0.4532 - accuracy: 0.7500\n",
            "Epoch 19/300 - loss: 0.3555 - accuracy: 0.7812\n",
            "Epoch 20/300 - loss: 0.3861 - accuracy: 0.9688\n",
            "Epoch 21/300 - loss: 0.3616 - accuracy: 0.8750\n",
            "Epoch 22/300 - loss: 0.4124 - accuracy: 0.8438\n",
            "Epoch 23/300 - loss: 0.4086 - accuracy: 0.7500\n",
            "Epoch 24/300 - loss: 0.3786 - accuracy: 0.8125\n",
            "Epoch 25/300 - loss: 0.3151 - accuracy: 0.9375\n",
            "Epoch 26/300 - loss: 0.3783 - accuracy: 0.8750\n",
            "Epoch 27/300 - loss: 0.3046 - accuracy: 0.9688\n",
            "Epoch 28/300 - loss: 0.2377 - accuracy: 0.9688\n",
            "Epoch 29/300 - loss: 0.2039 - accuracy: 1.0000\n",
            "Epoch 30/300 - loss: 0.2365 - accuracy: 1.0000\n",
            "Epoch 31/300 - loss: 0.1706 - accuracy: 1.0000\n",
            "Epoch 32/300 - loss: 0.1779 - accuracy: 1.0000\n",
            "Epoch 33/300 - loss: 0.1543 - accuracy: 1.0000\n",
            "Epoch 34/300 - loss: 0.1199 - accuracy: 1.0000\n",
            "Epoch 35/300 - loss: 0.1107 - accuracy: 1.0000\n",
            "Epoch 36/300 - loss: 0.0976 - accuracy: 1.0000\n",
            "Epoch 37/300 - loss: 0.0905 - accuracy: 1.0000\n",
            "Epoch 38/300 - loss: 0.0860 - accuracy: 1.0000\n",
            "Epoch 39/300 - loss: 0.0823 - accuracy: 1.0000\n",
            "Epoch 40/300 - loss: 0.0802 - accuracy: 1.0000\n",
            "Epoch 41/300 - loss: 0.0617 - accuracy: 1.0000\n",
            "Epoch 42/300 - loss: 0.0548 - accuracy: 1.0000\n",
            "Epoch 43/300 - loss: 0.0563 - accuracy: 1.0000\n",
            "Epoch 44/300 - loss: 0.0498 - accuracy: 1.0000\n",
            "Epoch 45/300 - loss: 0.0452 - accuracy: 1.0000\n",
            "Epoch 46/300 - loss: 0.0413 - accuracy: 1.0000\n",
            "Epoch 47/300 - loss: 0.0360 - accuracy: 1.0000\n",
            "Epoch 48/300 - loss: 0.0351 - accuracy: 1.0000\n",
            "Epoch 49/300 - loss: 0.0370 - accuracy: 1.0000\n",
            "Epoch 50/300 - loss: 0.0333 - accuracy: 1.0000\n",
            "Epoch 51/300 - loss: 0.0332 - accuracy: 1.0000\n",
            "Epoch 52/300 - loss: 0.0289 - accuracy: 1.0000\n",
            "Epoch 53/300 - loss: 0.0268 - accuracy: 1.0000\n",
            "Epoch 54/300 - loss: 0.0274 - accuracy: 1.0000\n",
            "Epoch 55/300 - loss: 0.0261 - accuracy: 1.0000\n",
            "Epoch 56/300 - loss: 0.0267 - accuracy: 1.0000\n",
            "Epoch 57/300 - loss: 0.0213 - accuracy: 1.0000\n",
            "Epoch 58/300 - loss: 0.0241 - accuracy: 1.0000\n",
            "Epoch 59/300 - loss: 0.0214 - accuracy: 1.0000\n",
            "Epoch 60/300 - loss: 0.0224 - accuracy: 1.0000\n",
            "Epoch 61/300 - loss: 0.0210 - accuracy: 1.0000\n",
            "Epoch 62/300 - loss: 0.0198 - accuracy: 1.0000\n",
            "Epoch 63/300 - loss: 0.0190 - accuracy: 1.0000\n",
            "Epoch 64/300 - loss: 0.0165 - accuracy: 1.0000\n",
            "Epoch 65/300 - loss: 0.0174 - accuracy: 1.0000\n",
            "Epoch 66/300 - loss: 0.0162 - accuracy: 1.0000\n",
            "Epoch 67/300 - loss: 0.0154 - accuracy: 1.0000\n",
            "Epoch 68/300 - loss: 0.0154 - accuracy: 1.0000\n",
            "Epoch 69/300 - loss: 0.0149 - accuracy: 1.0000\n",
            "Epoch 70/300 - loss: 0.0153 - accuracy: 1.0000\n",
            "Epoch 71/300 - loss: 0.0150 - accuracy: 1.0000\n",
            "Epoch 72/300 - loss: 0.0146 - accuracy: 1.0000\n",
            "Epoch 73/300 - loss: 0.0144 - accuracy: 1.0000\n",
            "Epoch 74/300 - loss: 0.0121 - accuracy: 1.0000\n",
            "Epoch 75/300 - loss: 0.0128 - accuracy: 1.0000\n",
            "Epoch 76/300 - loss: 0.0133 - accuracy: 1.0000\n"
          ]
        },
        {
          "name": "stderr",
          "output_type": "stream",
          "text": [
            "\n"
          ]
        },
        {
          "name": "stdout",
          "output_type": "stream",
          "text": [
            "Epoch 77/300 - loss: 0.0118 - accuracy: 1.0000\n",
            "Epoch 78/300 - loss: 0.0126 - accuracy: 1.0000\n",
            "Epoch 79/300 - loss: 0.0121 - accuracy: 1.0000\n",
            "Epoch 80/300 - loss: 0.0132 - accuracy: 1.0000\n",
            "Epoch 81/300 - loss: 0.0112 - accuracy: 1.0000\n",
            "Epoch 82/300 - loss: 0.0113 - accuracy: 1.0000\n",
            "Epoch 83/300 - loss: 0.0125 - accuracy: 1.0000\n",
            "Epoch 84/300 - loss: 0.0096 - accuracy: 1.0000\n",
            "Epoch 85/300 - loss: 0.0104 - accuracy: 1.0000\n",
            "Epoch 86/300 - loss: 0.0112 - accuracy: 1.0000\n",
            "Epoch 87/300 - loss: 0.0106 - accuracy: 1.0000\n",
            "Epoch 88/300 - loss: 0.0097 - accuracy: 1.0000\n",
            "Epoch 89/300 - loss: 0.0101 - accuracy: 1.0000\n",
            "Epoch 90/300 - loss: 0.0090 - accuracy: 1.0000\n",
            "Epoch 91/300 - loss: 0.0093 - accuracy: 1.0000\n",
            "Epoch 92/300 - loss: 0.0094 - accuracy: 1.0000\n",
            "Epoch 93/300 - loss: 0.0078 - accuracy: 1.0000\n",
            "Epoch 94/300 - loss: 0.0092 - accuracy: 1.0000\n",
            "Epoch 95/300 - loss: 0.0083 - accuracy: 1.0000\n",
            "Epoch 96/300 - loss: 0.0089 - accuracy: 1.0000\n",
            "Epoch 97/300 - loss: 0.0086 - accuracy: 1.0000\n",
            "Epoch 98/300 - loss: 0.0081 - accuracy: 1.0000\n",
            "Epoch 99/300 - loss: 0.0078 - accuracy: 1.0000\n",
            "Epoch 100/300 - loss: 0.0073 - accuracy: 1.0000\n",
            "Epoch 101/300 - loss: 0.0078 - accuracy: 1.0000\n",
            "Epoch 102/300 - loss: 0.0072 - accuracy: 1.0000\n",
            "Epoch 103/300 - loss: 0.0069 - accuracy: 1.0000\n",
            "Epoch 104/300 - loss: 0.0073 - accuracy: 1.0000\n",
            "Epoch 105/300 - loss: 0.0076 - accuracy: 1.0000\n",
            "Epoch 106/300 - loss: 0.0076 - accuracy: 1.0000\n",
            "Epoch 107/300 - loss: 0.0075 - accuracy: 1.0000\n",
            "Epoch 108/300 - loss: 0.0074 - accuracy: 1.0000\n",
            "Epoch 109/300 - loss: 0.0076 - accuracy: 1.0000\n",
            "Epoch 110/300 - loss: 0.0067 - accuracy: 1.0000\n",
            "Epoch 111/300 - loss: 0.0069 - accuracy: 1.0000\n",
            "Epoch 112/300 - loss: 0.0065 - accuracy: 1.0000\n",
            "Epoch 113/300 - loss: 0.0068 - accuracy: 1.0000\n",
            "Epoch 114/300 - loss: 0.0070 - accuracy: 1.0000\n",
            "Epoch 115/300 - loss: 0.0063 - accuracy: 1.0000\n",
            "Epoch 116/300 - loss: 0.0069 - accuracy: 1.0000\n",
            "Epoch 117/300 - loss: 0.0060 - accuracy: 1.0000\n",
            "Epoch 118/300 - loss: 0.0066 - accuracy: 1.0000\n",
            "Epoch 119/300 - loss: 0.0063 - accuracy: 1.0000\n",
            "Epoch 120/300 - loss: 0.0064 - accuracy: 1.0000\n",
            "Epoch 121/300 - loss: 0.0057 - accuracy: 1.0000\n",
            "Epoch 122/300 - loss: 0.0061 - accuracy: 1.0000\n",
            "Epoch 123/300 - loss: 0.0050 - accuracy: 1.0000\n",
            "Epoch 124/300 - loss: 0.0063 - accuracy: 1.0000\n",
            "Epoch 125/300 - loss: 0.0051 - accuracy: 1.0000\n",
            "Epoch 126/300 - loss: 0.0059 - accuracy: 1.0000\n",
            "Epoch 127/300 - loss: 0.0055 - accuracy: 1.0000\n",
            "Epoch 128/300 - loss: 0.0055 - accuracy: 1.0000\n",
            "Epoch 129/300 - loss: 0.0054 - accuracy: 1.0000\n",
            "Epoch 130/300 - loss: 0.0054 - accuracy: 1.0000\n",
            "Epoch 131/300 - loss: 0.0055 - accuracy: 1.0000\n",
            "Epoch 132/300 - loss: 0.0050 - accuracy: 1.0000\n",
            "Epoch 133/300 - loss: 0.0048 - accuracy: 1.0000\n",
            "Epoch 134/300 - loss: 0.0048 - accuracy: 1.0000\n",
            "Epoch 135/300 - loss: 0.0052 - accuracy: 1.0000\n",
            "Epoch 136/300 - loss: 0.0054 - accuracy: 1.0000\n",
            "Epoch 137/300 - loss: 0.0055 - accuracy: 1.0000\n",
            "Epoch 138/300 - loss: 0.0056 - accuracy: 1.0000\n",
            "Epoch 139/300 - loss: 0.0051 - accuracy: 1.0000\n",
            "Epoch 140/300 - loss: 0.0050 - accuracy: 1.0000\n",
            "Epoch 141/300 - loss: 0.0046 - accuracy: 1.0000\n",
            "Epoch 142/300 - loss: 0.0049 - accuracy: 1.0000\n",
            "Epoch 143/300 - loss: 0.0045 - accuracy: 1.0000\n",
            "Epoch 144/300 - loss: 0.0043 - accuracy: 1.0000\n",
            "Epoch 145/300 - loss: 0.0044 - accuracy: 1.0000\n",
            "Epoch 146/300 - loss: 0.0048 - accuracy: 1.0000\n",
            "Epoch 147/300 - loss: 0.0046 - accuracy: 1.0000\n",
            "Epoch 148/300 - loss: 0.0047 - accuracy: 1.0000\n",
            "Epoch 149/300 - loss: 0.0043 - accuracy: 1.0000\n",
            "Epoch 150/300 - loss: 0.0039 - accuracy: 1.0000\n",
            "Epoch 151/300 - loss: 0.0039 - accuracy: 1.0000\n",
            "Epoch 152/300 - loss: 0.0045 - accuracy: 1.0000\n",
            "Epoch 153/300 - loss: 0.0044 - accuracy: 1.0000\n",
            "Epoch 154/300 - loss: 0.0044 - accuracy: 1.0000\n",
            "Epoch 155/300 - loss: 0.0040 - accuracy: 1.0000\n",
            "Epoch 156/300 - loss: 0.0041 - accuracy: 1.0000\n",
            "Epoch 157/300 - loss: 0.0038 - accuracy: 1.0000\n",
            "Epoch 158/300 - loss: 0.0042 - accuracy: 1.0000\n",
            "Epoch 159/300 - loss: 0.0041 - accuracy: 1.0000\n",
            "Epoch 160/300 - loss: 0.0037 - accuracy: 1.0000\n",
            "Epoch 161/300 - loss: 0.0039 - accuracy: 1.0000\n",
            "Epoch 162/300 - loss: 0.0041 - accuracy: 1.0000\n",
            "Epoch 163/300 - loss: 0.0037 - accuracy: 1.0000\n",
            "Epoch 164/300 - loss: 0.0039 - accuracy: 1.0000\n",
            "Epoch 165/300 - loss: 0.0037 - accuracy: 1.0000\n",
            "Epoch 166/300 - loss: 0.0039 - accuracy: 1.0000\n",
            "Epoch 167/300 - loss: 0.0035 - accuracy: 1.0000\n",
            "Epoch 168/300 - loss: 0.0035 - accuracy: 1.0000\n",
            "Epoch 169/300 - loss: 0.0036 - accuracy: 1.0000\n",
            "Epoch 170/300 - loss: 0.0039 - accuracy: 1.0000\n",
            "Epoch 171/300 - loss: 0.0038 - accuracy: 1.0000\n",
            "Epoch 172/300 - loss: 0.0039 - accuracy: 1.0000\n",
            "Epoch 173/300 - loss: 0.0031 - accuracy: 1.0000\n",
            "Epoch 174/300 - loss: 0.0035 - accuracy: 1.0000\n",
            "Epoch 175/300 - loss: 0.0034 - accuracy: 1.0000\n",
            "Epoch 176/300 - loss: 0.0035 - accuracy: 1.0000\n",
            "Epoch 177/300 - loss: 0.0036 - accuracy: 1.0000\n",
            "Epoch 178/300 - loss: 0.0033 - accuracy: 1.0000\n",
            "Epoch 179/300 - loss: 0.0036 - accuracy: 1.0000\n",
            "Epoch 180/300 - loss: 0.0031 - accuracy: 1.0000\n",
            "Epoch 181/300 - loss: 0.0033 - accuracy: 1.0000\n",
            "Epoch 182/300 - loss: 0.0031 - accuracy: 1.0000\n",
            "Epoch 183/300 - loss: 0.0034 - accuracy: 1.0000\n",
            "Epoch 184/300 - loss: 0.0029 - accuracy: 1.0000\n",
            "Epoch 185/300 - loss: 0.0032 - accuracy: 1.0000\n",
            "Epoch 186/300 - loss: 0.0029 - accuracy: 1.0000\n",
            "Epoch 187/300 - loss: 0.0032 - accuracy: 1.0000\n",
            "Epoch 188/300 - loss: 0.0034 - accuracy: 1.0000\n",
            "Epoch 189/300 - loss: 0.0028 - accuracy: 1.0000\n",
            "Epoch 190/300 - loss: 0.0030 - accuracy: 1.0000\n",
            "Epoch 191/300 - loss: 0.0031 - accuracy: 1.0000\n",
            "Epoch 192/300 - loss: 0.0033 - accuracy: 1.0000\n",
            "Epoch 193/300 - loss: 0.0031 - accuracy: 1.0000\n",
            "Epoch 194/300 - loss: 0.0029 - accuracy: 1.0000\n",
            "Epoch 195/300 - loss: 0.0031 - accuracy: 1.0000\n",
            "Epoch 196/300 - loss: 0.0030 - accuracy: 1.0000\n",
            "Epoch 197/300 - loss: 0.0030 - accuracy: 1.0000\n",
            "Epoch 198/300 - loss: 0.0030 - accuracy: 1.0000\n",
            "Epoch 199/300 - loss: 0.0030 - accuracy: 1.0000\n",
            "Epoch 200/300 - loss: 0.0030 - accuracy: 1.0000\n",
            "Epoch 201/300 - loss: 0.0027 - accuracy: 1.0000\n",
            "Epoch 202/300 - loss: 0.0027 - accuracy: 1.0000\n",
            "Epoch 203/300 - loss: 0.0027 - accuracy: 1.0000\n",
            "Epoch 204/300 - loss: 0.0027 - accuracy: 1.0000\n",
            "Epoch 205/300 - loss: 0.0029 - accuracy: 1.0000\n",
            "Epoch 206/300 - loss: 0.0029 - accuracy: 1.0000\n",
            "Epoch 207/300 - loss: 0.0028 - accuracy: 1.0000\n",
            "Epoch 208/300 - loss: 0.0025 - accuracy: 1.0000\n",
            "Epoch 209/300 - loss: 0.0028 - accuracy: 1.0000\n",
            "Epoch 210/300 - loss: 0.0025 - accuracy: 1.0000\n",
            "Epoch 211/300 - loss: 0.0026 - accuracy: 1.0000\n",
            "Epoch 212/300 - loss: 0.0026 - accuracy: 1.0000\n",
            "Epoch 213/300 - loss: 0.0029 - accuracy: 1.0000\n",
            "Epoch 214/300 - loss: 0.0027 - accuracy: 1.0000\n",
            "Epoch 215/300 - loss: 0.0027 - accuracy: 1.0000\n",
            "Epoch 216/300 - loss: 0.0027 - accuracy: 1.0000\n",
            "Epoch 217/300 - loss: 0.0025 - accuracy: 1.0000\n",
            "Epoch 218/300 - loss: 0.0027 - accuracy: 1.0000\n",
            "Epoch 219/300 - loss: 0.0026 - accuracy: 1.0000\n",
            "Epoch 220/300 - loss: 0.0025 - accuracy: 1.0000\n",
            "Epoch 221/300 - loss: 0.0027 - accuracy: 1.0000\n",
            "Epoch 222/300 - loss: 0.0022 - accuracy: 1.0000\n",
            "Epoch 223/300 - loss: 0.0024 - accuracy: 1.0000\n",
            "Epoch 224/300 - loss: 0.0024 - accuracy: 1.0000\n",
            "Epoch 225/300 - loss: 0.0026 - accuracy: 1.0000\n",
            "Epoch 226/300 - loss: 0.0025 - accuracy: 1.0000\n",
            "Epoch 227/300 - loss: 0.0026 - accuracy: 1.0000\n",
            "Epoch 228/300 - loss: 0.0024 - accuracy: 1.0000\n",
            "Epoch 229/300 - loss: 0.0025 - accuracy: 1.0000\n",
            "Epoch 230/300 - loss: 0.0025 - accuracy: 1.0000\n",
            "Epoch 231/300 - loss: 0.0025 - accuracy: 1.0000\n",
            "Epoch 232/300 - loss: 0.0024 - accuracy: 1.0000\n",
            "Epoch 233/300 - loss: 0.0023 - accuracy: 1.0000\n",
            "Epoch 234/300 - loss: 0.0024 - accuracy: 1.0000\n",
            "Epoch 235/300 - loss: 0.0024 - accuracy: 1.0000\n",
            "Epoch 236/300 - loss: 0.0024 - accuracy: 1.0000\n",
            "Epoch 237/300 - loss: 0.0023 - accuracy: 1.0000\n",
            "Epoch 238/300 - loss: 0.0020 - accuracy: 1.0000\n",
            "Epoch 239/300 - loss: 0.0021 - accuracy: 1.0000\n",
            "Epoch 240/300 - loss: 0.0022 - accuracy: 1.0000\n",
            "Epoch 241/300 - loss: 0.0023 - accuracy: 1.0000\n",
            "Epoch 242/300 - loss: 0.0026 - accuracy: 1.0000\n",
            "Epoch 243/300 - loss: 0.0022 - accuracy: 1.0000\n",
            "Epoch 244/300 - loss: 0.0023 - accuracy: 1.0000\n",
            "Epoch 245/300 - loss: 0.0021 - accuracy: 1.0000\n",
            "Epoch 246/300 - loss: 0.0024 - accuracy: 1.0000\n",
            "Epoch 247/300 - loss: 0.0021 - accuracy: 1.0000\n",
            "Epoch 248/300 - loss: 0.0022 - accuracy: 1.0000\n",
            "Epoch 249/300 - loss: 0.0023 - accuracy: 1.0000\n",
            "Epoch 250/300 - loss: 0.0021 - accuracy: 1.0000\n",
            "Epoch 251/300 - loss: 0.0023 - accuracy: 1.0000\n",
            "Epoch 252/300 - loss: 0.0020 - accuracy: 1.0000\n",
            "Epoch 253/300 - loss: 0.0022 - accuracy: 1.0000\n",
            "Epoch 254/300 - loss: 0.0020 - accuracy: 1.0000\n",
            "Epoch 255/300 - loss: 0.0020 - accuracy: 1.0000\n",
            "Epoch 256/300 - loss: 0.0021 - accuracy: 1.0000\n",
            "Epoch 257/300 - loss: 0.0019 - accuracy: 1.0000\n",
            "Epoch 258/300 - loss: 0.0020 - accuracy: 1.0000\n",
            "Epoch 259/300 - loss: 0.0021 - accuracy: 1.0000\n",
            "Epoch 260/300 - loss: 0.0022 - accuracy: 1.0000\n",
            "Epoch 261/300 - loss: 0.0020 - accuracy: 1.0000\n",
            "Epoch 262/300 - loss: 0.0019 - accuracy: 1.0000\n",
            "Epoch 263/300 - loss: 0.0022 - accuracy: 1.0000\n",
            "Epoch 264/300 - loss: 0.0020 - accuracy: 1.0000\n",
            "Epoch 265/300 - loss: 0.0017 - accuracy: 1.0000\n",
            "Epoch 266/300 - loss: 0.0020 - accuracy: 1.0000\n",
            "Epoch 267/300 - loss: 0.0021 - accuracy: 1.0000\n",
            "Epoch 268/300 - loss: 0.0019 - accuracy: 1.0000\n",
            "Epoch 269/300 - loss: 0.0020 - accuracy: 1.0000\n",
            "Epoch 270/300 - loss: 0.0022 - accuracy: 1.0000\n",
            "Epoch 271/300 - loss: 0.0019 - accuracy: 1.0000\n",
            "Epoch 272/300 - loss: 0.0020 - accuracy: 1.0000\n",
            "Epoch 273/300 - loss: 0.0019 - accuracy: 1.0000\n",
            "Epoch 274/300 - loss: 0.0021 - accuracy: 1.0000\n",
            "Epoch 275/300 - loss: 0.0019 - accuracy: 1.0000\n",
            "Epoch 276/300 - loss: 0.0020 - accuracy: 1.0000\n",
            "Epoch 277/300 - loss: 0.0019 - accuracy: 1.0000\n",
            "Epoch 278/300 - loss: 0.0021 - accuracy: 1.0000\n",
            "Epoch 279/300 - loss: 0.0018 - accuracy: 1.0000\n",
            "Epoch 280/300 - loss: 0.0019 - accuracy: 1.0000\n",
            "Epoch 281/300 - loss: 0.0018 - accuracy: 1.0000\n",
            "Epoch 282/300 - loss: 0.0016 - accuracy: 1.0000\n",
            "Epoch 283/300 - loss: 0.0017 - accuracy: 1.0000\n",
            "Epoch 284/300 - loss: 0.0020 - accuracy: 1.0000\n",
            "Epoch 285/300 - loss: 0.0017 - accuracy: 1.0000\n",
            "Epoch 286/300 - loss: 0.0018 - accuracy: 1.0000\n",
            "Epoch 287/300 - loss: 0.0017 - accuracy: 1.0000\n",
            "Epoch 288/300 - loss: 0.0019 - accuracy: 1.0000\n",
            "Epoch 289/300 - loss: 0.0020 - accuracy: 1.0000\n",
            "Epoch 290/300 - loss: 0.0017 - accuracy: 1.0000\n",
            "Epoch 291/300 - loss: 0.0018 - accuracy: 1.0000\n",
            "Epoch 292/300 - loss: 0.0018 - accuracy: 1.0000\n",
            "Epoch 293/300 - loss: 0.0016 - accuracy: 1.0000\n",
            "Epoch 294/300 - loss: 0.0017 - accuracy: 1.0000\n",
            "Epoch 295/300 - loss: 0.0018 - accuracy: 1.0000\n",
            "Epoch 296/300 - loss: 0.0017 - accuracy: 1.0000\n",
            "Epoch 297/300 - loss: 0.0017 - accuracy: 1.0000\n",
            "Epoch 298/300 - loss: 0.0019 - accuracy: 1.0000\n",
            "Epoch 299/300 - loss: 0.0017 - accuracy: 1.0000\n",
            "Epoch 300/300 - loss: 0.0017 - accuracy: 1.0000\n",
            "Test Accuracy: 0.4\n",
            "DNN Model saved to folder 'dnn_model_weights'. JSON = 'dnn_model_weights\\dnn_model_1_architecture.json'\n",
            "Model saved with prefix dnn_model_1\n"
          ]
        }
      ],
      "source": [
        "if mode == ModelRunMode.TRAIN.value:\n",
        "    # Load datasets using TF-IDF vectorization\n",
        "    X_train, y_train, X_test, y_test, vocab, idf = Dataset.prepare_train_test_tfidf(input_csv=input_csv, output_csv=output_csv, test_size=test_size, random_state=random_state, max_vocab_size=max_vocab_size, min_freq=min_freq)\n",
        "\n",
        "    # Create Dataset objects for training and test data\n",
        "    train_ds_full = Dataset(X=X_train, Y=y_train)\n",
        "    test_ds = Dataset(X=X_test, Y=y_test)\n",
        "\n",
        "    # Display dimensions of the training and test datasets\n",
        "    print(f\"Train set has {train_ds_full.nrows()} rows and {train_ds_full.ncols()} columns\")\n",
        "    print(f\"Test set has {test_ds.nrows()} rows and {test_ds.ncols()} columns\\n\")\n",
        "\n",
        "    # Split the full training dataset into training and validation subsets (80% training, 20% validation)\n",
        "    n_train = train_ds_full.X.shape[0]\n",
        "    indices = np.arange(n_train)\n",
        "    np.random.shuffle(indices)\n",
        "    split_idx = int((1 - validation_size) * n_train)\n",
        "    train_idx = indices[:split_idx]\n",
        "    val_idx = indices[split_idx:]\n",
        "    train_ds = Dataset(X=train_ds_full.X[train_idx], Y=train_ds_full.Y[train_idx])\n",
        "    val_ds = Dataset(X=train_ds_full.X[val_idx], Y=train_ds_full.Y[val_idx])\n",
        "\n",
        "    # Define hyperparameter grids for tuning\n",
        "    epochs_list = [100, 200, 300]\n",
        "    batch_size_list = [16, 32]\n",
        "    learning_rate_list = [0.001, 0.01, 0.1]\n",
        "    momentum_list = [0.5, 0.8, 0.9]\n",
        "    hidden_layers_list = [\n",
        "        [32],\n",
        "        [64],\n",
        "        [50, 25],\n",
        "        [64, 32],\n",
        "        [128, 64]\n",
        "    ]\n",
        "    dropout_list = [0.0, 0.05, 0.1, 0.3, 0.5]\n",
        "\n",
        "    # Perform hyperparameter tuning using the training and validation sets\n",
        "    print(\"Starting hyperparameter tuning...\")\n",
        "    best_params = hyperparameter_optimization(train_ds, val_ds, epochs_list, batch_size_list, learning_rate_list, momentum_list, hidden_layers_list, dropout_list, n_iter=100)\n",
        "    print(\"\\nBest hyperparameters:\", best_params)\n",
        "\n",
        "    # Retrain DNN model on the full training data using the best hyperparameters\n",
        "    final_model = NeuralNetwork(epochs=best_params['epochs'], batch_size=best_params['batch_size'], optimizer=Optimizer(learning_rate=best_params['learning_rate'], momentum=best_params['momentum']), verbose=verbose, loss=BinaryCrossEntropy,  metric=accuracy)\n",
        "\n",
        "    # Build model Layers\n",
        "    n_features = train_ds.X.shape[1]\n",
        "    for i, units in enumerate(best_params['n_hidden']):\n",
        "        if i == 0:\n",
        "            final_model.add(DenseLayer(units, (n_features,),dropout_rate=best_params['dropout_rate']))\n",
        "        else:\n",
        "            final_model.add(DenseLayer(units,dropout_rate=best_params['dropout_rate']))\n",
        "        final_model.add(ReLUActivation())\n",
        "        \n",
        "    final_model.add(DenseLayer(1))\n",
        "    final_model.add(SigmoidActivation())\n",
        "\n",
        "    # Fit model\n",
        "    final_model.fit(train_ds)\n",
        "    final_model.predict(test_ds)\n",
        "    out = final_model.predict(test_ds)\n",
        "\n",
        "    # Evaluate the final model on the test set\n",
        "    acc = final_model.score(test_ds, out)\n",
        "    print(\"Test Accuracy:\", acc)\n",
        "\n",
        "    # Save the model, plus vocab & idf, so classification can replicate\n",
        "    save_dnn_model(dnn=final_model, vocab=vocab, idf=idf, model_prefix=model_prefix)\n",
        "    print(f\"Model saved with prefix {model_prefix}\")\n",
        "\n",
        "if mode == ModelRunMode.CLASSIFY.value:\n",
        "    # Classify new texts using the saved model\n",
        "    Dataset.classify_texts(input_csv=input_csv, output_csv=output_csv, neural_net_class=NeuralNetwork, model_type=ModelType.DNN ,model_prefix=model_prefix)"
      ]
    }
  ],
  "metadata": {
    "kernelspec": {
      "display_name": "AP",
      "language": "python",
      "name": "python3"
    },
    "language_info": {
      "codemirror_mode": {
        "name": "ipython",
        "version": 3
      },
      "file_extension": ".py",
      "mimetype": "text/x-python",
      "name": "python",
      "nbconvert_exporter": "python",
      "pygments_lexer": "ipython3",
      "version": "3.10.13"
    }
  },
  "nbformat": 4,
  "nbformat_minor": 5
}
