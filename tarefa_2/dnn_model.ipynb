{
  "cells": [
    {
      "cell_type": "markdown",
      "id": "e117c95a",
      "metadata": {},
      "source": [
        "# DNN Model Notebook"
      ]
    },
    {
      "cell_type": "markdown",
      "id": "5f7f3362",
      "metadata": {},
      "source": [
        "```md\n",
        "@authors: miguelrocha and Grupo 03\n",
        "```"
      ]
    },
    {
      "cell_type": "code",
      "execution_count": 1,
      "id": "00553163",
      "metadata": {},
      "outputs": [],
      "source": [
        "# Notebook Imports\n",
        "import numpy as np\n",
        "\n",
        "from models.dnn_model import NeuralNetwork, hyperparameter_optimization\n",
        "from helpers.dataset import Dataset\n",
        "from helpers.enums import ModelRunMode\n",
        "from helpers.layers import DenseLayer\n",
        "from helpers.activation import ReLUActivation, SigmoidActivation\n",
        "from helpers.losses import BinaryCrossEntropy\n",
        "from helpers.optimizer import Optimizer\n",
        "from helpers.metrics import accuracy\n",
        "from helpers.enums import ModelType\n",
        "from helpers.model import save_dnn_model"
      ]
    },
    {
      "cell_type": "code",
      "execution_count": 2,
      "id": "fc6f6268",
      "metadata": {},
      "outputs": [],
      "source": [
        "# Model run mode\n",
        "# Options: \n",
        "#   ModelRunMode.TRAIN.value            (Train the model)\n",
        "#   ModelRunMode.CLASSIFY.value         (Classify data)\n",
        "mode = ModelRunMode.TRAIN.value\n",
        "# Prefix for saving the model files\n",
        "model_prefix = \"dnn_model_1\""
      ]
    },
    {
      "cell_type": "code",
      "execution_count": 3,
      "id": "d6adb728",
      "metadata": {},
      "outputs": [],
      "source": [
        "# Parameters cell\n",
        "if mode == ModelRunMode.TRAIN.value:\n",
        "    # TRAIN mode: Set parameters for training\n",
        "    input_csv = \"../tarefa_1/clean_input_datasets/dataset1_enh_inputs.csv\"              # CSV file with training inputs (ID, Text)\n",
        "    output_csv = \"../tarefa_1/clean_output_datasets/dataset1_enh_outputs.csv\"           # CSV file with training outputs (ID, Label)\n",
        "    test_size = 0.3                                                                     # Proportion of the dataset to use as test data\n",
        "    validation_size = 0.2                                                               # Proportion of the dataset reserved as validation data (used during hyperparameter tuning)\n",
        "    verbose = True                                                                      # Verbosity level enabler\n",
        "    random_state=42                                                                     # Seed for reproducible dataset splitting\n",
        "    max_vocab_size=None                                                                 # Maximum vocabulary size (None implies no limit)\n",
        "    min_freq=1                                                                          # Minimum frequency required for a word to be included in the vocabulary\n",
        "elif mode == ModelRunMode.CLASSIFY.value:\n",
        "    # CLASSIFY mode: Set parameters for classification\n",
        "    input_csv = \"../tarefa_2/classify_input_datasets/dataset2_inputs.csv\"               # CSV file with texts for prediction (ID, Text)\n",
        "    output_csv = \"../tarefa_2/classify_output_datasets/dataset2_outputs_dnn_model.csv\"  # CSV file to store prediction result\n",
        "else:\n",
        "    print(\"The selected option is not valid. Options: \\\"train\\\" or \\\"classify\\\"!\")\n",
        "    SystemExit()"
      ]
    },
    {
      "cell_type": "code",
      "execution_count": 4,
      "id": "e633c6f6",
      "metadata": {},
      "outputs": [
        {
          "name": "stdout",
          "output_type": "stream",
          "text": [
            "Train set has 70 rows and 2124 columns\n",
            "Test set has 30 rows and 2124 columns\n",
            "\n",
            "Starting hyperparameter tuning...\n"
          ]
        },
        {
          "name": "stderr",
          "output_type": "stream",
          "text": [
            "Hyperparameter Search:   2%|▏         | 1/50 [00:00<00:06,  7.51it/s]"
          ]
        },
        {
          "name": "stdout",
          "output_type": "stream",
          "text": [
            "Parameters: {'epochs': 20, 'batch_size': 32, 'learning_rate': 0.001, 'momentum': 0.85, 'n_hidden': [128, 64, 64], 'dropout_rate': 0.1}  |  Accuracy: 0.3571\n",
            "Parameters: {'epochs': 40, 'batch_size': 32, 'learning_rate': 0.1, 'momentum': 0.95, 'n_hidden': [32], 'dropout_rate': 0.01}  |  Accuracy: 0.5000\n"
          ]
        },
        {
          "name": "stderr",
          "output_type": "stream",
          "text": [
            "Hyperparameter Search:   6%|▌         | 3/50 [00:01<00:23,  1.96it/s]"
          ]
        },
        {
          "name": "stdout",
          "output_type": "stream",
          "text": [
            "Parameters: {'epochs': 80, 'batch_size': 16, 'learning_rate': 0.001, 'momentum': 0.9, 'n_hidden': [128, 64], 'dropout_rate': 0.01}  |  Accuracy: 0.5714\n"
          ]
        },
        {
          "name": "stderr",
          "output_type": "stream",
          "text": [
            "Hyperparameter Search:   8%|▊         | 4/50 [00:01<00:22,  2.05it/s]"
          ]
        },
        {
          "name": "stdout",
          "output_type": "stream",
          "text": [
            "Parameters: {'epochs': 80, 'batch_size': 32, 'learning_rate': 0.001, 'momentum': 0.9, 'n_hidden': [128, 64], 'dropout_rate': 0.01}  |  Accuracy: 0.6429\n"
          ]
        },
        {
          "name": "stderr",
          "output_type": "stream",
          "text": [
            "Hyperparameter Search:  10%|█         | 5/50 [00:02<00:18,  2.37it/s]"
          ]
        },
        {
          "name": "stdout",
          "output_type": "stream",
          "text": [
            "Parameters: {'epochs': 20, 'batch_size': 16, 'learning_rate': 0.1, 'momentum': 0.9, 'n_hidden': [128, 64], 'dropout_rate': 0.0}  |  Accuracy: 0.5714\n",
            "Parameters: {'epochs': 20, 'batch_size': 16, 'learning_rate': 0.0005, 'momentum': 0.9, 'n_hidden': [32], 'dropout_rate': 0.5}  |  Accuracy: 0.2143\n"
          ]
        },
        {
          "name": "stderr",
          "output_type": "stream",
          "text": [
            "Hyperparameter Search:  14%|█▍        | 7/50 [00:02<00:15,  2.69it/s]"
          ]
        },
        {
          "name": "stdout",
          "output_type": "stream",
          "text": [
            "Parameters: {'epochs': 40, 'batch_size': 16, 'learning_rate': 0.1, 'momentum': 0.9, 'n_hidden': [128, 64], 'dropout_rate': 0.0}  |  Accuracy: 0.5000\n"
          ]
        },
        {
          "name": "stderr",
          "output_type": "stream",
          "text": [
            "Hyperparameter Search:  16%|█▌        | 8/50 [00:03<00:13,  3.01it/s]"
          ]
        },
        {
          "name": "stdout",
          "output_type": "stream",
          "text": [
            "Parameters: {'epochs': 40, 'batch_size': 32, 'learning_rate': 0.01, 'momentum': 0.85, 'n_hidden': [128, 64], 'dropout_rate': 0.0}  |  Accuracy: 0.5000\n"
          ]
        },
        {
          "name": "stderr",
          "output_type": "stream",
          "text": [
            "Hyperparameter Search:  18%|█▊        | 9/50 [00:03<00:12,  3.25it/s]"
          ]
        },
        {
          "name": "stdout",
          "output_type": "stream",
          "text": [
            "Parameters: {'epochs': 80, 'batch_size': 32, 'learning_rate': 0.0005, 'momentum': 0.85, 'n_hidden': [64, 32], 'dropout_rate': 0.0}  |  Accuracy: 0.5714\n"
          ]
        },
        {
          "name": "stderr",
          "output_type": "stream",
          "text": [
            "Hyperparameter Search:  22%|██▏       | 11/50 [00:03<00:10,  3.60it/s]"
          ]
        },
        {
          "name": "stdout",
          "output_type": "stream",
          "text": [
            "Parameters: {'epochs': 60, 'batch_size': 32, 'learning_rate': 0.001, 'momentum': 0.85, 'n_hidden': [128, 64], 'dropout_rate': 0.5}  |  Accuracy: 0.4286\n",
            "Parameters: {'epochs': 60, 'batch_size': 32, 'learning_rate': 0.0005, 'momentum': 0.95, 'n_hidden': [64, 32], 'dropout_rate': 0.01}  |  Accuracy: 0.7143\n"
          ]
        },
        {
          "name": "stderr",
          "output_type": "stream",
          "text": [
            "Hyperparameter Search:  26%|██▌       | 13/50 [00:04<00:11,  3.35it/s]"
          ]
        },
        {
          "name": "stdout",
          "output_type": "stream",
          "text": [
            "Parameters: {'epochs': 40, 'batch_size': 16, 'learning_rate': 0.01, 'momentum': 0.85, 'n_hidden': [128, 64], 'dropout_rate': 0.5}  |  Accuracy: 0.2857\n",
            "Parameters: {'epochs': 20, 'batch_size': 32, 'learning_rate': 0.0005, 'momentum': 0.9, 'n_hidden': [64], 'dropout_rate': 0.1}  |  Accuracy: 0.5714\n"
          ]
        },
        {
          "name": "stderr",
          "output_type": "stream",
          "text": [
            "Hyperparameter Search:  28%|██▊       | 14/50 [00:05<00:20,  1.73it/s]"
          ]
        },
        {
          "name": "stdout",
          "output_type": "stream",
          "text": [
            "Parameters: {'epochs': 80, 'batch_size': 16, 'learning_rate': 0.0005, 'momentum': 0.85, 'n_hidden': [128, 64], 'dropout_rate': 0.1}  |  Accuracy: 0.5714\n",
            "Parameters: {'epochs': 20, 'batch_size': 32, 'learning_rate': 0.001, 'momentum': 0.9, 'n_hidden': [32], 'dropout_rate': 0.1}  |  Accuracy: 0.7857\n"
          ]
        },
        {
          "name": "stderr",
          "output_type": "stream",
          "text": [
            "Hyperparameter Search:  32%|███▏      | 16/50 [00:06<00:12,  2.65it/s]"
          ]
        },
        {
          "name": "stdout",
          "output_type": "stream",
          "text": [
            "Parameters: {'epochs': 80, 'batch_size': 32, 'learning_rate': 0.01, 'momentum': 0.9, 'n_hidden': [64], 'dropout_rate': 0.01}  |  Accuracy: 0.5714\n"
          ]
        },
        {
          "name": "stderr",
          "output_type": "stream",
          "text": [
            "Hyperparameter Search:  36%|███▌      | 18/50 [00:06<00:11,  2.75it/s]"
          ]
        },
        {
          "name": "stdout",
          "output_type": "stream",
          "text": [
            "Parameters: {'epochs': 80, 'batch_size': 16, 'learning_rate': 0.0005, 'momentum': 0.85, 'n_hidden': [64, 32], 'dropout_rate': 0.01}  |  Accuracy: 0.4286\n",
            "Parameters: {'epochs': 40, 'batch_size': 32, 'learning_rate': 0.0005, 'momentum': 0.95, 'n_hidden': [64, 32], 'dropout_rate': 0.1}  |  Accuracy: 0.3571\n"
          ]
        },
        {
          "name": "stderr",
          "output_type": "stream",
          "text": [
            "Hyperparameter Search:  42%|████▏     | 21/50 [00:07<00:06,  4.30it/s]"
          ]
        },
        {
          "name": "stdout",
          "output_type": "stream",
          "text": [
            "Parameters: {'epochs': 20, 'batch_size': 16, 'learning_rate': 0.1, 'momentum': 0.95, 'n_hidden': [128, 64], 'dropout_rate': 0.1}  |  Accuracy: 0.7857\n",
            "Parameters: {'epochs': 20, 'batch_size': 32, 'learning_rate': 0.01, 'momentum': 0.85, 'n_hidden': [64], 'dropout_rate': 0.1}  |  Accuracy: 0.3571\n",
            "Parameters: {'epochs': 40, 'batch_size': 32, 'learning_rate': 0.0005, 'momentum': 0.85, 'n_hidden': [64], 'dropout_rate': 0.01}  |  Accuracy: 0.4286\n"
          ]
        },
        {
          "name": "stderr",
          "output_type": "stream",
          "text": [
            "Hyperparameter Search:  46%|████▌     | 23/50 [00:07<00:05,  4.51it/s]"
          ]
        },
        {
          "name": "stdout",
          "output_type": "stream",
          "text": [
            "Parameters: {'epochs': 40, 'batch_size': 16, 'learning_rate': 0.1, 'momentum': 0.85, 'n_hidden': [64], 'dropout_rate': 0.1}  |  Accuracy: 0.7143\n",
            "Parameters: {'epochs': 80, 'batch_size': 16, 'learning_rate': 0.01, 'momentum': 0.85, 'n_hidden': [32], 'dropout_rate': 0.5}  |  Accuracy: 0.5714\n"
          ]
        },
        {
          "name": "stderr",
          "output_type": "stream",
          "text": [
            "Hyperparameter Search:  48%|████▊     | 24/50 [00:07<00:05,  4.83it/s]"
          ]
        },
        {
          "name": "stdout",
          "output_type": "stream",
          "text": [
            "Parameters: {'epochs': 60, 'batch_size': 32, 'learning_rate': 0.0005, 'momentum': 0.9, 'n_hidden': [64, 32], 'dropout_rate': 0.5}  |  Accuracy: 0.5000\n"
          ]
        },
        {
          "name": "stderr",
          "output_type": "stream",
          "text": [
            "Hyperparameter Search:  52%|█████▏    | 26/50 [00:08<00:06,  3.93it/s]"
          ]
        },
        {
          "name": "stdout",
          "output_type": "stream",
          "text": [
            "Parameters: {'epochs': 60, 'batch_size': 16, 'learning_rate': 0.0005, 'momentum': 0.95, 'n_hidden': [64], 'dropout_rate': 0.5}  |  Accuracy: 0.2857\n",
            "Parameters: {'epochs': 60, 'batch_size': 32, 'learning_rate': 0.001, 'momentum': 0.95, 'n_hidden': [64, 32], 'dropout_rate': 0.1}  |  Accuracy: 0.5714\n"
          ]
        },
        {
          "name": "stderr",
          "output_type": "stream",
          "text": [
            "Hyperparameter Search:  56%|█████▌    | 28/50 [00:09<00:06,  3.56it/s]"
          ]
        },
        {
          "name": "stdout",
          "output_type": "stream",
          "text": [
            "Parameters: {'epochs': 40, 'batch_size': 16, 'learning_rate': 0.1, 'momentum': 0.85, 'n_hidden': [128, 64], 'dropout_rate': 0.0}  |  Accuracy: 0.4286\n",
            "Parameters: {'epochs': 40, 'batch_size': 32, 'learning_rate': 0.0005, 'momentum': 0.95, 'n_hidden': [64, 32], 'dropout_rate': 0.5}  |  Accuracy: 0.3571\n"
          ]
        },
        {
          "name": "stderr",
          "output_type": "stream",
          "text": [
            "Hyperparameter Search:  58%|█████▊    | 29/50 [00:09<00:06,  3.07it/s]"
          ]
        },
        {
          "name": "stdout",
          "output_type": "stream",
          "text": [
            "Parameters: {'epochs': 80, 'batch_size': 32, 'learning_rate': 0.1, 'momentum': 0.9, 'n_hidden': [128, 64], 'dropout_rate': 0.1}  |  Accuracy: 0.7143\n"
          ]
        },
        {
          "name": "stderr",
          "output_type": "stream",
          "text": [
            "Hyperparameter Search:  60%|██████    | 30/50 [00:09<00:06,  3.10it/s]"
          ]
        },
        {
          "name": "stdout",
          "output_type": "stream",
          "text": [
            "Parameters: {'epochs': 40, 'batch_size': 16, 'learning_rate': 0.0005, 'momentum': 0.85, 'n_hidden': [64, 32], 'dropout_rate': 0.1}  |  Accuracy: 0.4286\n"
          ]
        },
        {
          "name": "stderr",
          "output_type": "stream",
          "text": [
            "Hyperparameter Search:  64%|██████▍   | 32/50 [00:11<00:06,  2.57it/s]"
          ]
        },
        {
          "name": "stdout",
          "output_type": "stream",
          "text": [
            "Parameters: {'epochs': 60, 'batch_size': 16, 'learning_rate': 0.01, 'momentum': 0.9, 'n_hidden': [128, 64], 'dropout_rate': 0.5}  |  Accuracy: 0.4286\n",
            "Parameters: {'epochs': 20, 'batch_size': 32, 'learning_rate': 0.01, 'momentum': 0.85, 'n_hidden': [128, 64], 'dropout_rate': 0.5}  |  Accuracy: 0.5000\n",
            "Parameters: {'epochs': 60, 'batch_size': 32, 'learning_rate': 0.01, 'momentum': 0.9, 'n_hidden': [32], 'dropout_rate': 0.01}  |  Accuracy: 0.5714\n"
          ]
        },
        {
          "name": "stderr",
          "output_type": "stream",
          "text": [
            "Hyperparameter Search:  68%|██████▊   | 34/50 [00:11<00:04,  3.53it/s]"
          ]
        },
        {
          "name": "stdout",
          "output_type": "stream",
          "text": [
            "Parameters: {'epochs': 80, 'batch_size': 32, 'learning_rate': 0.0005, 'momentum': 0.9, 'n_hidden': [64, 32], 'dropout_rate': 0.0}  |  Accuracy: 0.3571\n"
          ]
        },
        {
          "name": "stderr",
          "output_type": "stream",
          "text": [
            "Hyperparameter Search:  74%|███████▍  | 37/50 [00:11<00:02,  4.43it/s]"
          ]
        },
        {
          "name": "stdout",
          "output_type": "stream",
          "text": [
            "Parameters: {'epochs': 80, 'batch_size': 32, 'learning_rate': 0.001, 'momentum': 0.95, 'n_hidden': [128, 64, 64], 'dropout_rate': 0.5}  |  Accuracy: 0.3571\n",
            "Parameters: {'epochs': 40, 'batch_size': 32, 'learning_rate': 0.0005, 'momentum': 0.85, 'n_hidden': [32], 'dropout_rate': 0.1}  |  Accuracy: 0.4286\n",
            "Parameters: {'epochs': 40, 'batch_size': 32, 'learning_rate': 0.001, 'momentum': 0.9, 'n_hidden': [64], 'dropout_rate': 0.1}  |  Accuracy: 0.7143\n"
          ]
        },
        {
          "name": "stderr",
          "output_type": "stream",
          "text": [
            "Hyperparameter Search:  78%|███████▊  | 39/50 [00:12<00:01,  5.56it/s]"
          ]
        },
        {
          "name": "stdout",
          "output_type": "stream",
          "text": [
            "Parameters: {'epochs': 20, 'batch_size': 32, 'learning_rate': 0.001, 'momentum': 0.9, 'n_hidden': [128, 64], 'dropout_rate': 0.01}  |  Accuracy: 0.5714\n",
            "Parameters: {'epochs': 80, 'batch_size': 32, 'learning_rate': 0.1, 'momentum': 0.95, 'n_hidden': [32], 'dropout_rate': 0.5}  |  Accuracy: 0.7857\n"
          ]
        },
        {
          "name": "stderr",
          "output_type": "stream",
          "text": [
            "Hyperparameter Search:  80%|████████  | 40/50 [00:12<00:02,  3.99it/s]"
          ]
        },
        {
          "name": "stdout",
          "output_type": "stream",
          "text": [
            "Parameters: {'epochs': 80, 'batch_size': 32, 'learning_rate': 0.1, 'momentum': 0.85, 'n_hidden': [128, 64, 64], 'dropout_rate': 0.01}  |  Accuracy: 0.4286\n"
          ]
        },
        {
          "name": "stderr",
          "output_type": "stream",
          "text": [
            "Hyperparameter Search:  82%|████████▏ | 41/50 [00:13<00:02,  3.34it/s]"
          ]
        },
        {
          "name": "stdout",
          "output_type": "stream",
          "text": [
            "Parameters: {'epochs': 80, 'batch_size': 32, 'learning_rate': 0.001, 'momentum': 0.95, 'n_hidden': [128, 64], 'dropout_rate': 0.5}  |  Accuracy: 0.3571\n",
            "Parameters: {'epochs': 60, 'batch_size': 32, 'learning_rate': 0.0005, 'momentum': 0.85, 'n_hidden': [32], 'dropout_rate': 0.5}  |  Accuracy: 0.4286\n"
          ]
        },
        {
          "name": "stderr",
          "output_type": "stream",
          "text": [
            "Hyperparameter Search:  86%|████████▌ | 43/50 [00:13<00:01,  3.58it/s]"
          ]
        },
        {
          "name": "stdout",
          "output_type": "stream",
          "text": [
            "Parameters: {'epochs': 40, 'batch_size': 16, 'learning_rate': 0.01, 'momentum': 0.85, 'n_hidden': [64], 'dropout_rate': 0.1}  |  Accuracy: 0.6429\n"
          ]
        },
        {
          "name": "stderr",
          "output_type": "stream",
          "text": [
            "Hyperparameter Search:  88%|████████▊ | 44/50 [00:13<00:01,  3.78it/s]"
          ]
        },
        {
          "name": "stdout",
          "output_type": "stream",
          "text": [
            "Parameters: {'epochs': 40, 'batch_size': 32, 'learning_rate': 0.1, 'momentum': 0.85, 'n_hidden': [128, 64], 'dropout_rate': 0.0}  |  Accuracy: 0.7143\n"
          ]
        },
        {
          "name": "stderr",
          "output_type": "stream",
          "text": [
            "Hyperparameter Search:  90%|█████████ | 45/50 [00:14<00:01,  3.89it/s]"
          ]
        },
        {
          "name": "stdout",
          "output_type": "stream",
          "text": [
            "Parameters: {'epochs': 40, 'batch_size': 32, 'learning_rate': 0.01, 'momentum': 0.95, 'n_hidden': [128, 64, 64], 'dropout_rate': 0.1}  |  Accuracy: 0.5000\n"
          ]
        },
        {
          "name": "stderr",
          "output_type": "stream",
          "text": [
            "Hyperparameter Search:  94%|█████████▍| 47/50 [00:15<00:01,  2.34it/s]"
          ]
        },
        {
          "name": "stdout",
          "output_type": "stream",
          "text": [
            "Parameters: {'epochs': 80, 'batch_size': 16, 'learning_rate': 0.1, 'momentum': 0.95, 'n_hidden': [128, 64], 'dropout_rate': 0.1}  |  Accuracy: 0.7143\n",
            "Parameters: {'epochs': 60, 'batch_size': 32, 'learning_rate': 0.001, 'momentum': 0.95, 'n_hidden': [64], 'dropout_rate': 0.01}  |  Accuracy: 0.6429\n"
          ]
        },
        {
          "name": "stderr",
          "output_type": "stream",
          "text": [
            "Hyperparameter Search:  96%|█████████▌| 48/50 [00:16<00:00,  2.10it/s]"
          ]
        },
        {
          "name": "stdout",
          "output_type": "stream",
          "text": [
            "Parameters: {'epochs': 40, 'batch_size': 16, 'learning_rate': 0.1, 'momentum': 0.95, 'n_hidden': [128, 64, 64], 'dropout_rate': 0.01}  |  Accuracy: 0.4286\n"
          ]
        },
        {
          "name": "stderr",
          "output_type": "stream",
          "text": [
            "Hyperparameter Search:  98%|█████████▊| 49/50 [00:17<00:00,  1.42it/s]"
          ]
        },
        {
          "name": "stdout",
          "output_type": "stream",
          "text": [
            "Parameters: {'epochs': 80, 'batch_size': 16, 'learning_rate': 0.001, 'momentum': 0.85, 'n_hidden': [128, 64, 64], 'dropout_rate': 0.1}  |  Accuracy: 0.7857\n"
          ]
        },
        {
          "name": "stderr",
          "output_type": "stream",
          "text": [
            "Hyperparameter Search: 100%|██████████| 50/50 [00:17<00:00,  2.85it/s]"
          ]
        },
        {
          "name": "stdout",
          "output_type": "stream",
          "text": [
            "Parameters: {'epochs': 40, 'batch_size': 32, 'learning_rate': 0.0005, 'momentum': 0.95, 'n_hidden': [128, 64], 'dropout_rate': 0.01}  |  Accuracy: 0.2857\n",
            "\n",
            "Best Hyperparameters Found: {'epochs': 20, 'batch_size': 32, 'learning_rate': 0.001, 'momentum': 0.9, 'n_hidden': [32], 'dropout_rate': 0.1}\n",
            "Best Accuracy: 0.7857\n",
            "\n",
            "Best hyperparameters: {'epochs': 20, 'batch_size': 32, 'learning_rate': 0.001, 'momentum': 0.9, 'n_hidden': [32], 'dropout_rate': 0.1}\n",
            "Epoch 1/20 - loss: 0.6862 - accuracy: 0.5312\n",
            "Epoch 2/20 - loss: 0.6974 - accuracy: 0.4688\n",
            "Epoch 3/20 - loss: 0.7012 - accuracy: 0.5000\n",
            "Epoch 4/20 - loss: 0.6920 - accuracy: 0.5000\n",
            "Epoch 5/20 - loss: 0.7055 - accuracy: 0.4062\n",
            "Epoch 6/20 - loss: 0.6976 - accuracy: 0.4375\n",
            "Epoch 7/20 - loss: 0.6950 - accuracy: 0.4375\n",
            "Epoch 8/20 - loss: 0.6802 - accuracy: 0.5625\n",
            "Epoch 9/20 - loss: 0.6955 - accuracy: 0.4375\n",
            "Epoch 10/20 - loss: 0.6953 - accuracy: 0.5000\n",
            "Epoch 11/20 - loss: 0.6910 - accuracy: 0.4375\n",
            "Epoch 12/20 - loss: 0.6848 - accuracy: 0.4375\n",
            "Epoch 13/20 - loss: 0.6894 - accuracy: 0.5312\n",
            "Epoch 14/20 - loss: 0.6888 - accuracy: 0.5312\n",
            "Epoch 15/20 - loss: 0.6820 - accuracy: 0.5000\n",
            "Epoch 16/20 - loss: 0.6995 - accuracy: 0.5312\n",
            "Epoch 17/20 - loss: 0.6939 - accuracy: 0.4688\n",
            "Epoch 18/20 - loss: 0.7000 - accuracy: 0.4375\n",
            "Epoch 19/20 - loss: 0.6792 - accuracy: 0.5625\n",
            "Epoch 20/20 - loss: 0.6912 - accuracy: 0.5000\n",
            "Test Accuracy: 0.5666666666666667\n",
            "DNN Model saved to folder 'dnn_model_weights'. JSON = 'dnn_model_weights\\dnn_model_1_architecture.json'\n",
            "Model saved with prefix dnn_model_1\n"
          ]
        },
        {
          "name": "stderr",
          "output_type": "stream",
          "text": [
            "\n"
          ]
        }
      ],
      "source": [
        "if mode == ModelRunMode.TRAIN.value:\n",
        "    # Load datasets using TF-IDF vectorization\n",
        "    X_train, y_train, X_test, y_test, vocab, idf = Dataset.prepare_train_test_tfidf(input_csv=input_csv, output_csv=output_csv, test_size=test_size, random_state=random_state, max_vocab_size=max_vocab_size, min_freq=min_freq)\n",
        "\n",
        "    # Create Dataset objects for training and test data\n",
        "    train_ds_full = Dataset(X=X_train, Y=y_train)\n",
        "    test_ds = Dataset(X=X_test, Y=y_test)\n",
        "\n",
        "    # Display dimensions of the training and test datasets\n",
        "    print(f\"Train set has {train_ds_full.nrows()} rows and {train_ds_full.ncols()} columns\")\n",
        "    print(f\"Test set has {test_ds.nrows()} rows and {test_ds.ncols()} columns\\n\")\n",
        "\n",
        "    # Split the full training dataset into training and validation subsets (80% training, 20% validation)\n",
        "    n_train = train_ds_full.X.shape[0]\n",
        "    indices = np.arange(n_train)\n",
        "    np.random.shuffle(indices)\n",
        "    split_idx = int((1 - validation_size) * n_train)\n",
        "    train_idx = indices[:split_idx]\n",
        "    val_idx = indices[split_idx:]\n",
        "    train_ds = Dataset(X=train_ds_full.X[train_idx], Y=train_ds_full.Y[train_idx])\n",
        "    val_ds = Dataset(X=train_ds_full.X[val_idx], Y=train_ds_full.Y[val_idx])\n",
        "\n",
        "    # More varied epochs to handle both simpler and more complex tasks\n",
        "    epochs_list = [20, 40, 60, 80]\n",
        "\n",
        "    # A wider range of batch sizes\n",
        "    batch_size_list = [16, 32]\n",
        "\n",
        "    # Learning rate from very small to moderate\n",
        "    learning_rate_list = [0.0005, 0.001, 0.01, 0.1]\n",
        "\n",
        "    # Momentum slightly varied around typical defaults\n",
        "    momentum_list = [0.85, 0.9, 0.95]\n",
        "\n",
        "    # Different hidden layer topologies\n",
        "    hidden_layers_list = [\n",
        "        [32],\n",
        "        [64],\n",
        "        [64, 32],\n",
        "        [128, 64],\n",
        "        [128, 64, 64]\n",
        "    ]\n",
        "\n",
        "    # Add mild to moderate dropout levels\n",
        "    dropout_list = [0.0, 0.01, 0.1, 0.5]\n",
        "\n",
        "    # Perform hyperparameter tuning using the training and validation sets\n",
        "    print(\"Starting hyperparameter tuning...\")\n",
        "    best_params = hyperparameter_optimization(train_ds, val_ds, epochs_list, batch_size_list, learning_rate_list, momentum_list, hidden_layers_list, dropout_list, n_iter=50)\n",
        "    print(\"\\nBest hyperparameters:\", best_params)\n",
        "\n",
        "    # Retrain DNN model on the full training data using the best hyperparameters\n",
        "    final_model = NeuralNetwork(epochs=best_params['epochs'], batch_size=best_params['batch_size'], optimizer=Optimizer(learning_rate=best_params['learning_rate'], momentum=best_params['momentum']), verbose=verbose, loss=BinaryCrossEntropy,  metric=accuracy)\n",
        "\n",
        "    # Build model Layers\n",
        "    n_features = train_ds.X.shape[1]\n",
        "    for i, units in enumerate(best_params['n_hidden']):\n",
        "        if i == 0:\n",
        "            final_model.add(DenseLayer(units, (n_features,),dropout_rate=best_params['dropout_rate']))\n",
        "        else:\n",
        "            final_model.add(DenseLayer(units,dropout_rate=best_params['dropout_rate']))\n",
        "        final_model.add(ReLUActivation())\n",
        "        \n",
        "    final_model.add(DenseLayer(1))\n",
        "    final_model.add(SigmoidActivation())\n",
        "\n",
        "    # Fit model\n",
        "    final_model.fit(train_ds)\n",
        "    final_model.predict(test_ds)\n",
        "    out = final_model.predict(test_ds)\n",
        "\n",
        "    # Evaluate the final model on the test set\n",
        "    acc = final_model.score(test_ds, out)\n",
        "    print(\"Test Accuracy:\", acc)\n",
        "\n",
        "    # Save the model, plus vocab & idf, so classification can replicate\n",
        "    save_dnn_model(dnn=final_model, vocab=vocab, idf=idf, model_prefix=model_prefix)\n",
        "    print(f\"Model saved with prefix {model_prefix}\")\n",
        "\n",
        "if mode == ModelRunMode.CLASSIFY.value:\n",
        "    # Classify new texts using the saved model\n",
        "    Dataset.classify_texts(input_csv=input_csv, output_csv=output_csv, neural_net_class=NeuralNetwork, model_type=ModelType.DNN ,model_prefix=model_prefix)"
      ]
    }
  ],
  "metadata": {
    "kernelspec": {
      "display_name": "AP",
      "language": "python",
      "name": "python3"
    },
    "language_info": {
      "codemirror_mode": {
        "name": "ipython",
        "version": 3
      },
      "file_extension": ".py",
      "mimetype": "text/x-python",
      "name": "python",
      "nbconvert_exporter": "python",
      "pygments_lexer": "ipython3",
      "version": "3.10.13"
    }
  },
  "nbformat": 4,
  "nbformat_minor": 5
}
