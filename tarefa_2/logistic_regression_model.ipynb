{
  "cells": [
    {
      "cell_type": "markdown",
      "id": "e117c95a",
      "metadata": {},
      "source": [
        "# Logistic Regression Model Notebook"
      ]
    },
    {
      "cell_type": "markdown",
      "id": "5f7f3362",
      "metadata": {},
      "source": [
        "```md\n",
        "@author: miguelrocha\n",
        "(Adapted by: Grupo 03)\n",
        "```"
      ]
    },
    {
      "cell_type": "code",
      "execution_count": 17,
      "id": "00553163",
      "metadata": {},
      "outputs": [],
      "source": [
        "# Notebook Imports\n",
        "import numpy as np\n",
        "\n",
        "from models.logistic_regression_model import LogisticRegression, classify_texts\n",
        "from helpers.dataset import Dataset\n",
        "from helpers.model import save_model\n",
        "from helpers.metrics import confusion_matrix, balanced_accuracy, precision_recall_f1\n",
        "from helpers.enums import ModelRunMode"
      ]
    },
    {
      "cell_type": "code",
      "execution_count": 18,
      "id": "fc6f6268",
      "metadata": {},
      "outputs": [],
      "source": [
        "# Model run mode\n",
        "# Options: \n",
        "#   ModelRunMode.TRAIN.value            (Train the model)\n",
        "#   ModelRunMode.CLASSIFY.value         (Classify data)\n",
        "mode = ModelRunMode.TRAIN.value"
      ]
    },
    {
      "cell_type": "code",
      "execution_count": 19,
      "id": "94fdaeeb",
      "metadata": {},
      "outputs": [],
      "source": [
        "# Parameters cell\n",
        "if mode == ModelRunMode.TRAIN.value:\n",
        "    # Train mode\n",
        "    input_csv = \"../tarefa_1/clean_input_datasets/dataset1_inputs.csv\"              # CSV for training input (ID, Text)\n",
        "    output_csv = \"../tarefa_1/clean_output_datasets/dataset1_outputs.csv\"           # CSV for training output (ID, Label)\n",
        "    model_prefix = \"logreg_model\"                                                   # Prefix for saving the model files\n",
        "    test_size = 0.3                                                                 # Proportion of the dataset to use as test data\n",
        "    regularization = True                                                           # Use L2 regularization approach\n",
        "    lamda = 0.5                                                                     # Lambda for L2 regularization\n",
        "    alpha = 0.001                                                                   # Learning rate for gradient descent\n",
        "    iters = 40000                                                                   # Iterations for gradient descent\n",
        "elif mode == ModelRunMode.CLASSIFY.value:\n",
        "    # Classify mode\n",
        "    input_csv = \"../tarefa_1/clean_input_datasets/dataset2_inputs.csv\"              # CSV for training input (ID, Text)\n",
        "    output_csv = \"../tarefa_1/classify_output_datasets/dataset2_outputs.csv\"        # CSV for predictions output\n",
        "    model_prefix = \"logreg_model\"                                                   # Prefix for loading the model files\n",
        "else:\n",
        "    print(\"The selected option is not valid. Options: \\\"train\\\" or \\\"classify\\\"!\")\n",
        "    SystemExit()"
      ]
    },
    {
      "cell_type": "code",
      "execution_count": 20,
      "id": "6de2fdb7",
      "metadata": {},
      "outputs": [
        {
          "name": "stdout",
          "output_type": "stream",
          "text": [
            "Train set has 21 rows and 12 columns\n",
            "Test set has 9 rows and 12 columns\n",
            "\n",
            "Iter=0, cost=0.6922337186\n",
            "Iter=1000, cost=0.5650365249\n",
            "Iter=2000, cost=0.5247093269\n",
            "Iter=3000, cost=0.5022734901\n",
            "Iter=4000, cost=0.4875175473\n",
            "Iter=5000, cost=0.4769515743\n",
            "Iter=6000, cost=0.4689739592\n",
            "Iter=7000, cost=0.4627281371\n",
            "Iter=8000, cost=0.4577082067\n",
            "Iter=9000, cost=0.4535926161\n",
            "Iter=10000, cost=0.4501649672\n",
            "Iter=11000, cost=0.4472729261\n",
            "Iter=12000, cost=0.4448054011\n",
            "Iter=13000, cost=0.4426791068\n",
            "Iter=14000, cost=0.4408302387\n",
            "Iter=15000, cost=0.4392090734\n",
            "Iter=16000, cost=0.4377763269\n",
            "Iter=17000, cost=0.4365006124\n",
            "Iter=18000, cost=0.4353566156\n",
            "Iter=19000, cost=0.4343237548\n",
            "Iter=20000, cost=0.4333851762\n",
            "Iter=21000, cost=0.4325269909\n",
            "Iter=22000, cost=0.4317376863\n",
            "Iter=23000, cost=0.4310076680\n",
            "Iter=24000, cost=0.4303289001\n",
            "Iter=25000, cost=0.4296946199\n",
            "Iter=26000, cost=0.4290991106\n",
            "Iter=27000, cost=0.4285375188\n",
            "Iter=28000, cost=0.4280057076\n",
            "Iter=29000, cost=0.4275001370\n",
            "Iter=30000, cost=0.4270177665\n",
            "Iter=31000, cost=0.4265559755\n",
            "Iter=32000, cost=0.4261124978\n",
            "Iter=33000, cost=0.4256853672\n",
            "Iter=34000, cost=0.4252728728\n",
            "Iter=35000, cost=0.4248735214\n",
            "Iter=36000, cost=0.4244860062\n",
            "Iter=37000, cost=0.4241091807\n",
            "Iter=38000, cost=0.4237420364\n",
            "Iter=39000, cost=0.4233836840\n",
            "Model saved with prefix logreg_model\n",
            "Train accuracy: 0.7143\n",
            "Test accuracy: 0.7778\n",
            "Confusion Matrix: TP=4, FP=1, TN=3, FN=1\n",
            "Precision = 0.8000, Recall = 0.8000, F1 = 0.8000\n",
            "Balanced Accuracy = 0.7750\n"
          ]
        },
        {
          "data": {
            "image/png": "[encoded data removed]",
            "text/plain": [
              "<Figure size 640x480 with 1 Axes>"
            ]
          },
          "metadata": {},
          "output_type": "display_data"
        }
      ],
      "source": [
        "if mode == ModelRunMode.TRAIN.value:\n",
        "    # Load Datasets\n",
        "    X_train, y_train, X_test, y_test, vocab = Dataset.prepare_train_test_bow(input_csv=input_csv, output_csv=output_csv, test_size=test_size, max_vocab_size=None, min_freq=16)\n",
        "\n",
        "    # Wrap Dataset object\n",
        "    train_ds = Dataset(X=X_train, Y=y_train)\n",
        "    test_ds = Dataset(X=X_test, Y=y_test)\n",
        "\n",
        "    # Validate Train and Test dataset division\n",
        "    print(f\"Train set has {train_ds.nrows()} rows and {train_ds.ncols()} columns\")\n",
        "    print(f\"Test set has {test_ds.nrows()} rows and {test_ds.ncols()} columns\\n\")\n",
        "\n",
        "    # Build logistic regression model\n",
        "    logmodel = LogisticRegression(train_ds, regularization=regularization, lamda=lamda)\n",
        "\n",
        "    # Simple gradient descent\n",
        "    logmodel.gradientDescent(alpha=alpha, iters=iters)\n",
        "\n",
        "    # Save the model\n",
        "    save_model(logmodel.theta, vocab, model_prefix)\n",
        "    print(f\"Model saved with prefix {model_prefix}\")\n",
        "\n",
        "    # Evaluate Train Accuracy\n",
        "    ones_train = np.ones((train_ds.X.shape[0], 1))\n",
        "    X_train_bias = np.hstack((ones_train, train_ds.X))\n",
        "    train_acc = logmodel.accuracy(X_train_bias, train_ds.Y)\n",
        "    print(f\"Train accuracy: {train_acc:.4f}\")\n",
        "\n",
        "    # Evaluate Test Accuracy\n",
        "    ones_test = np.ones((test_ds.X.shape[0], 1))\n",
        "    X_test_bias = np.hstack((ones_test, test_ds.X))\n",
        "    test_acc = logmodel.accuracy(X_test_bias, test_ds.Y)\n",
        "    print(f\"Test accuracy: {test_acc:.4f}\")\n",
        "\n",
        "    preds = logmodel.predictMany(X_test_bias)\n",
        "    TP, FP, TN, FN = confusion_matrix(y_test, preds)\n",
        "    prec, rec, f1 = precision_recall_f1(y_test, preds)\n",
        "    bal_acc = balanced_accuracy(y_test, preds)\n",
        "\n",
        "    print(\"Confusion Matrix: TP={}, FP={}, TN={}, FN={}\".format(TP, FP, TN, FN))\n",
        "    print(\"Precision = {:.4f}, Recall = {:.4f}, F1 = {:.4f}\".format(prec, rec, f1))\n",
        "    print(\"Balanced Accuracy = {:.4f}\".format(bal_acc))\n",
        "    logmodel.plotModel()\n",
        "\n",
        "if mode == ModelRunMode.CLASSIFY.value:\n",
        "    classify_texts(input_csv, output_csv, model_prefix=model_prefix)"
      ]
    }
  ],
  "metadata": {
    "kernelspec": {
      "display_name": "Python 3 (ipykernel)",
      "language": "python",
      "name": "python3"
    },
    "language_info": {
      "codemirror_mode": {
        "name": "ipython",
        "version": 3
      },
      "file_extension": ".py",
      "mimetype": "text/x-python",
      "name": "python",
      "nbconvert_exporter": "python",
      "pygments_lexer": "ipython3",
      "version": "3.10.13"
    }
  },
  "nbformat": 4,
  "nbformat_minor": 5
}
